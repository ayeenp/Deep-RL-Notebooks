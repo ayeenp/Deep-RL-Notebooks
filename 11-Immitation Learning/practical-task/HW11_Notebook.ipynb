{
 "cells": [
  {
   "cell_type": "markdown",
   "id": "cfbbc405",
   "metadata": {},
   "source": [
    "# HW6: Imitation Learning\n",
    "\n",
    "> - Full Name: **Ayeen Poostforoushan**\n",
    "> - Student ID: **401105742**\n",
    "<!-- \n",
    "\n",
    "[![Open In Colab](https://colab.research.google.com/assets/colab-badge.svg)](https://colab.research.google.com/github/DeepRLCourse/Homework-5-Questions/blob/main/RL_HW11_Dyna.ipynb)\n",
    "[![Open In kaggle](https://kaggle.com/static/images/open-in-kaggle.svg)](https://kaggle.com/kernels/welcome?src=https://raw.githubusercontent.com/DeepRLCourse/Homework-11-Questions/main/RL_HW5_Dyna.ipynb) -->\n",
    "\n",
    "## Overview\n",
    "This assignment investigates the strengths and limitations of both reinforcement learning (PPO, A2C) and imitation learning (DAgger, GAIL) by applying them to control tasks. Students train and evaluate agents using expert demonstrations and environment feedback, gaining hands-on experience in designing and comparing learning algorithms across paradigms.\n",
    "\n",
    "\n",
    "### **Exercise 1: Training PPO, A2C, and DAgger on CartPole-v1** (60 Points)\n",
    "\n",
    "This exercise focuses on comparing reinforcement learning (PPO, A2C) and imitation learning (DAgger) techniques on the CartPole-v1 environment. An expert policy is first trained using PPO, then used to guide a DAgger agent. Separately, an A2C agent is trained directly via interaction with the environment. Performance metrics are collected to assess how each approach learns and generalizes.\n",
    "\n",
    "---\n",
    "\n",
    "### **Exercise 2: Training a GAIL Model Using an Expert Policy** (100 Points)\n",
    "\n",
    "In this task, a GAIL (Generative Adversarial Imitation Learning) agent is trained to imitate a pre-trained expert policy in several environments (e.g., CartPole-v1, Pendulum-v0, BipedalWalker-v3). The training process involves configuring the environment, initializing models, and iteratively training the agent to match the expert’s behavior using adversarial learning.\n"
   ]
  },
  {
   "cell_type": "code",
   "id": "1f404622",
   "metadata": {
    "ExecuteTime": {
     "end_time": "2025-07-25T13:19:00.401719Z",
     "start_time": "2025-07-25T13:18:57.332158Z"
    }
   },
   "source": [
    "import gymnasium as gym\n",
    "from stable_baselines3 import PPO, DQN\n",
    "from imitation.util.util import make_vec_env\n",
    "from imitation.algorithms.dagger import SimpleDAggerTrainer\n",
    "from imitation.algorithms import bc\n",
    "from imitation.policies.serialize import load_policy\n",
    "import os\n",
    "import json\n",
    "import pickle\n",
    "import argparse\n",
    "import torch\n",
    "import tempfile\n",
    "import numpy as np\n",
    "from stable_baselines3 import PPO,DQN,A2C\n",
    "from stable_baselines3.common.evaluation import evaluate_policy\n",
    "import matplotlib.pyplot as plt"
   ],
   "outputs": [],
   "execution_count": 1
  },
  {
   "cell_type": "markdown",
   "id": "80429498",
   "metadata": {},
   "source": [
    "# Training PPO, A2C, and DAgger on the CartPole-v1 Environment\n",
    "\n",
    "In this section, we explore and compare multiple reinforcement learning and imitation learning approaches within the classic **CartPole-v1** environment. The algorithms used include:\n",
    "\n",
    "- **Proximal Policy Optimization (PPO)** – a stable, on-policy RL algorithm.\n",
    "- **Advantage Actor-Critic (A2C)** – another on-policy RL algorithm known for simplicity and efficiency.\n",
    "- **DAgger (Dataset Aggregation)** – an imitation learning algorithm that iteratively refines a policy using expert guidance.\n",
    "\n",
    "---\n",
    "\n",
    "## Main Objectives\n",
    "\n",
    "1. **Train an expert policy using PPO**.\n",
    "2. **Use the PPO expert to train a new agent via DAgger**.\n",
    "3. **Train a separate agent using A2C directly**.\n",
    "4. **Compare performance between PPO, DAgger, and A2C**.\n",
    "\n",
    "This setup allows us to analyze the strengths of:\n",
    "- **Reinforcement learning** (PPO and A2C) that learns from environment feedback.\n",
    "- **Imitation learning** (DAgger) that learns from an expert’s demonstrations and corrections.\n",
    "\n",
    "---"
   ]
  },
  {
   "cell_type": "markdown",
   "id": "e8482ab7",
   "metadata": {},
   "source": [
    "### 1. PPO Expert Training (15 Points)\n",
    "- A PPO agent is trained in the CartPole-v1 environment using `stable-baselines3`.\n",
    "- The model is saved and later reloaded as an expert policy for imitation learning.\n",
    "- Training is done in intervals and evaluated periodically to track average rewards."
   ]
  },
  {
   "cell_type": "code",
   "id": "05fd824f",
   "metadata": {
    "ExecuteTime": {
     "end_time": "2025-07-25T13:19:17.646604Z",
     "start_time": "2025-07-25T13:19:00.593386Z"
    }
   },
   "source": [
    "# Create the CartPole-v1 environment\n",
    "env = gym.make(\"CartPole-v1\")\n",
    "\n",
    "model = PPO(\"MlpPolicy\", env)\n",
    "regular_rewards = []\n",
    "\n",
    "# Training loop\n",
    "total_timesteps = 10000\n",
    "eval_freq = 1000 \n",
    "\n",
    "for timestep in range(0, total_timesteps, eval_freq):\n",
    "    model.learn(total_timesteps=eval_freq) \n",
    "\n",
    "\n",
    "    reward, _ = evaluate_policy(model, model.get_env(), n_eval_episodes=5)\n",
    "    regular_rewards.append(reward)\n",
    "\n",
    "    print(f\"Regular Training - Step {timestep + eval_freq}: Mean Reward = {reward}\")\n",
    "\n",
    "model.save(\"CartPole_v1_PPO_model.zip\")\n",
    "env.close()"
   ],
   "outputs": [
    {
     "name": "stdout",
     "output_type": "stream",
     "text": [
      "Regular Training - Step 1000: Mean Reward = 366.6\n",
      "Regular Training - Step 2000: Mean Reward = 372.2\n",
      "Regular Training - Step 3000: Mean Reward = 353.8\n",
      "Regular Training - Step 4000: Mean Reward = 236.2\n",
      "Regular Training - Step 5000: Mean Reward = 222.6\n",
      "Regular Training - Step 6000: Mean Reward = 329.2\n",
      "Regular Training - Step 7000: Mean Reward = 417.6\n",
      "Regular Training - Step 8000: Mean Reward = 500.0\n",
      "Regular Training - Step 9000: Mean Reward = 489.4\n",
      "Regular Training - Step 10000: Mean Reward = 500.0\n"
     ]
    }
   ],
   "execution_count": 2
  },
  {
   "cell_type": "markdown",
   "id": "bb516c6b",
   "metadata": {},
   "source": [
    "### 2. DAgger Training with the PPO Expert (25 Points)\n",
    "- A `BehaviorCloning` trainer is used to initialize the DAgger process.\n",
    "- A `SimpleDAggerTrainer` collects data from both the expert and the learner during training.\n",
    "- The model is updated incrementally and evaluated periodically.\n",
    "- Performance rewards are stored to track learning progress."
   ]
  },
  {
   "cell_type": "code",
   "id": "6815b147",
   "metadata": {
    "ExecuteTime": {
     "end_time": "2025-07-25T13:19:50.061225Z",
     "start_time": "2025-07-25T13:19:17.675718Z"
    }
   },
   "source": [
    "# Load the PPO model manually using Stable-Baselines3's load method\n",
    "venv = make_vec_env(\"CartPole-v1\", n_envs=1, rng=np.random.default_rng(42))\n",
    "expert = load_policy(\"ppo\", venv, path=\"CartPole_v1_PPO_model.zip\")\n",
    "\n",
    "# Initialize the Behavior Cloning (BC) trainer\n",
    "bc_trainer = bc.BC(\n",
    "    observation_space=venv.observation_space,\n",
    "    action_space=venv.action_space,\n",
    "    rng=np.random.default_rng(42)\n",
    ")\n",
    "\n",
    "# Record rewards during DAgger training\n",
    "dagger_rewards = []\n",
    "\n",
    "# Train using DAgger\n",
    "with tempfile.TemporaryDirectory(prefix=\"dagger_example_\") as tmpdir:\n",
    "    dagger_trainer = SimpleDAggerTrainer(\n",
    "        venv=venv,\n",
    "        expert_policy=expert,\n",
    "        bc_trainer=bc_trainer,\n",
    "        scratch_dir=tmpdir,\n",
    "        rng=np.random.default_rng(42)\n",
    "    )\n",
    "    \n",
    "    # Training loop for DAgger\n",
    "    total_dagger_timesteps = 8000\n",
    "    eval_freq = 1000\n",
    "    for timestep in range(0, total_dagger_timesteps, eval_freq):\n",
    "        dagger_trainer.train(eval_freq)\n",
    "\n",
    "        # TODO: Evaluate the model and record the reward\n",
    "        reward, _ = evaluate_policy(\n",
    "            bc_trainer.policy, venv, n_eval_episodes=5\n",
    "        )\n",
    "        dagger_rewards.append(reward)\n",
    "        print(f\"DAgger Training - Step {timestep + eval_freq}: Mean Reward = {reward}\")\n",
    "\n",
    "model.save(\"CartPole_v1_DAgger_model.zip\")\n",
    "env.close()"
   ],
   "outputs": [
    {
     "data": {
      "text/plain": [
       "Saving the dataset (0/1 shards):   0%|          | 0/1 [00:00<?, ? examples/s]"
      ],
      "application/vnd.jupyter.widget-view+json": {
       "version_major": 2,
       "version_minor": 0,
       "model_id": "a1b8d89b1a8c423688a25ca7e44679b2"
      }
     },
     "metadata": {},
     "output_type": "display_data"
    },
    {
     "data": {
      "text/plain": [
       "Saving the dataset (0/1 shards):   0%|          | 0/1 [00:00<?, ? examples/s]"
      ],
      "application/vnd.jupyter.widget-view+json": {
       "version_major": 2,
       "version_minor": 0,
       "model_id": "b465c0c5d4ad4bedae9ee82f4706e479"
      }
     },
     "metadata": {},
     "output_type": "display_data"
    },
    {
     "data": {
      "text/plain": [
       "Saving the dataset (0/1 shards):   0%|          | 0/1 [00:00<?, ? examples/s]"
      ],
      "application/vnd.jupyter.widget-view+json": {
       "version_major": 2,
       "version_minor": 0,
       "model_id": "5e756d5af3df47d79347f78a50812358"
      }
     },
     "metadata": {},
     "output_type": "display_data"
    },
    {
     "name": "stderr",
     "output_type": "stream",
     "text": [
      "0batch [00:00, ?batch/s]"
     ]
    },
    {
     "name": "stdout",
     "output_type": "stream",
     "text": [
      "---------------------------------\n",
      "| batch_size        | 32        |\n",
      "| bc/               |           |\n",
      "|    batch          | 0         |\n",
      "|    ent_loss       | -0.000693 |\n",
      "|    entropy        | 0.693     |\n",
      "|    epoch          | 0         |\n",
      "|    l2_loss        | 0         |\n",
      "|    l2_norm        | 72.5      |\n",
      "|    loss           | 0.693     |\n",
      "|    neglogp        | 0.693     |\n",
      "|    prob_true_act  | 0.5       |\n",
      "|    samples_so_far | 32        |\n",
      "| rollout/          |           |\n",
      "|    return_max     | 33        |\n",
      "|    return_mean    | 26        |\n",
      "|    return_min     | 16        |\n",
      "|    return_std     | 7.07      |\n",
      "---------------------------------\n"
     ]
    },
    {
     "name": "stderr",
     "output_type": "stream",
     "text": [
      "28batch [00:00, 278.50batch/s]\n",
      "79batch [00:00, 411.81batch/s]\u001B[A\n",
      "127batch [00:00, 441.76batch/s][A\n",
      "176batch [00:00, 459.77batch/s]\u001B[A\n",
      "184batch [00:00, 433.68batch/s]\u001B[A\n"
     ]
    },
    {
     "name": "stdout",
     "output_type": "stream",
     "text": [
      "DAgger Training - Step 1000: Mean Reward = 161.2\n"
     ]
    },
    {
     "data": {
      "text/plain": [
       "Saving the dataset (0/1 shards):   0%|          | 0/1 [00:00<?, ? examples/s]"
      ],
      "application/vnd.jupyter.widget-view+json": {
       "version_major": 2,
       "version_minor": 0,
       "model_id": "e01a8e8880ae4feab2f892313ec0c533"
      }
     },
     "metadata": {},
     "output_type": "display_data"
    },
    {
     "data": {
      "text/plain": [
       "Saving the dataset (0/1 shards):   0%|          | 0/1 [00:00<?, ? examples/s]"
      ],
      "application/vnd.jupyter.widget-view+json": {
       "version_major": 2,
       "version_minor": 0,
       "model_id": "92c8a54290bc4ac590bba7e6a16cb1ce"
      }
     },
     "metadata": {},
     "output_type": "display_data"
    },
    {
     "data": {
      "text/plain": [
       "Saving the dataset (0/1 shards):   0%|          | 0/1 [00:00<?, ? examples/s]"
      ],
      "application/vnd.jupyter.widget-view+json": {
       "version_major": 2,
       "version_minor": 0,
       "model_id": "01f9729c7a7d4e919946cbddcc809213"
      }
     },
     "metadata": {},
     "output_type": "display_data"
    },
    {
     "name": "stderr",
     "output_type": "stream",
     "text": [
      "0batch [00:00, ?batch/s]"
     ]
    },
    {
     "name": "stdout",
     "output_type": "stream",
     "text": [
      "---------------------------------\n",
      "| batch_size        | 32        |\n",
      "| bc/               |           |\n",
      "|    batch          | 0         |\n",
      "|    ent_loss       | -0.000292 |\n",
      "|    entropy        | 0.292     |\n",
      "|    epoch          | 0         |\n",
      "|    l2_loss        | 0         |\n",
      "|    l2_norm        | 85.2      |\n",
      "|    loss           | 0.212     |\n",
      "|    neglogp        | 0.212     |\n",
      "|    prob_true_act  | 0.842     |\n",
      "|    samples_so_far | 32        |\n",
      "| rollout/          |           |\n",
      "|    return_max     | 125       |\n",
      "|    return_mean    | 81        |\n",
      "|    return_min     | 58        |\n",
      "|    return_std     | 27.2      |\n",
      "---------------------------------\n"
     ]
    },
    {
     "name": "stderr",
     "output_type": "stream",
     "text": [
      "51batch [00:00, 273.98batch/s]\n",
      "148batch [00:00, 413.70batch/s][A\n",
      "241batch [00:00, 434.37batch/s]\u001B[A\n",
      "331batch [00:00, 441.99batch/s]\u001B[A\n",
      "372batch [00:00, 409.33batch/s]\u001B[A\n"
     ]
    },
    {
     "name": "stdout",
     "output_type": "stream",
     "text": [
      "DAgger Training - Step 2000: Mean Reward = 500.0\n"
     ]
    },
    {
     "data": {
      "text/plain": [
       "Saving the dataset (0/1 shards):   0%|          | 0/1 [00:00<?, ? examples/s]"
      ],
      "application/vnd.jupyter.widget-view+json": {
       "version_major": 2,
       "version_minor": 0,
       "model_id": "320125eb4dbc4249a7e797716e949ed6"
      }
     },
     "metadata": {},
     "output_type": "display_data"
    },
    {
     "data": {
      "text/plain": [
       "Saving the dataset (0/1 shards):   0%|          | 0/1 [00:00<?, ? examples/s]"
      ],
      "application/vnd.jupyter.widget-view+json": {
       "version_major": 2,
       "version_minor": 0,
       "model_id": "14db0e404bbb4186b9f4e46639415409"
      }
     },
     "metadata": {},
     "output_type": "display_data"
    },
    {
     "data": {
      "text/plain": [
       "Saving the dataset (0/1 shards):   0%|          | 0/1 [00:00<?, ? examples/s]"
      ],
      "application/vnd.jupyter.widget-view+json": {
       "version_major": 2,
       "version_minor": 0,
       "model_id": "37defaf9d8e9475283ecf3b3dcd6503d"
      }
     },
     "metadata": {},
     "output_type": "display_data"
    },
    {
     "name": "stderr",
     "output_type": "stream",
     "text": [
      "0batch [00:00, ?batch/s]"
     ]
    },
    {
     "name": "stdout",
     "output_type": "stream",
     "text": [
      "---------------------------------\n",
      "| batch_size        | 32        |\n",
      "| bc/               |           |\n",
      "|    batch          | 0         |\n",
      "|    ent_loss       | -0.000248 |\n",
      "|    entropy        | 0.248     |\n",
      "|    epoch          | 0         |\n",
      "|    l2_loss        | 0         |\n",
      "|    l2_norm        | 94.7      |\n",
      "|    loss           | 0.175     |\n",
      "|    neglogp        | 0.175     |\n",
      "|    prob_true_act  | 0.871     |\n",
      "|    samples_so_far | 32        |\n",
      "| rollout/          |           |\n",
      "|    return_max     | 363       |\n",
      "|    return_mean    | 253       |\n",
      "|    return_min     | 185       |\n",
      "|    return_std     | 80.4      |\n",
      "---------------------------------\n"
     ]
    },
    {
     "name": "stderr",
     "output_type": "stream",
     "text": [
      "104batch [00:00, 251.18batch/s]\n",
      "246batch [00:00, 388.75batch/s]\u001B[A\n",
      "404batch [00:01, 479.05batch/s]\u001B[A\n",
      "455batch [00:01, 486.21batch/s]\u001B[A"
     ]
    },
    {
     "name": "stdout",
     "output_type": "stream",
     "text": [
      "---------------------------------\n",
      "| batch_size        | 32        |\n",
      "| bc/               |           |\n",
      "|    batch          | 500       |\n",
      "|    ent_loss       | -0.000341 |\n",
      "|    entropy        | 0.341     |\n",
      "|    epoch          | 3         |\n",
      "|    l2_loss        | 0         |\n",
      "|    l2_norm        | 127       |\n",
      "|    loss           | 0.234     |\n",
      "|    neglogp        | 0.234     |\n",
      "|    prob_true_act  | 0.82      |\n",
      "|    samples_so_far | 16032     |\n",
      "| rollout/          |           |\n",
      "|    return_max     | 500       |\n",
      "|    return_mean    | 500       |\n",
      "|    return_min     | 500       |\n",
      "|    return_std     | 0         |\n",
      "---------------------------------\n"
     ]
    },
    {
     "name": "stderr",
     "output_type": "stream",
     "text": [
      "506batch [00:02, 163.55batch/s]\n",
      "544batch [00:02, 254.90batch/s]\u001B[A\n"
     ]
    },
    {
     "name": "stdout",
     "output_type": "stream",
     "text": [
      "DAgger Training - Step 3000: Mean Reward = 500.0\n"
     ]
    },
    {
     "data": {
      "text/plain": [
       "Saving the dataset (0/1 shards):   0%|          | 0/1 [00:00<?, ? examples/s]"
      ],
      "application/vnd.jupyter.widget-view+json": {
       "version_major": 2,
       "version_minor": 0,
       "model_id": "beb0bb5cf9d4494cae5cb5a6b164c3ae"
      }
     },
     "metadata": {},
     "output_type": "display_data"
    },
    {
     "data": {
      "text/plain": [
       "Saving the dataset (0/1 shards):   0%|          | 0/1 [00:00<?, ? examples/s]"
      ],
      "application/vnd.jupyter.widget-view+json": {
       "version_major": 2,
       "version_minor": 0,
       "model_id": "8a64eae0b07345939d306efa9bc91820"
      }
     },
     "metadata": {},
     "output_type": "display_data"
    },
    {
     "data": {
      "text/plain": [
       "Saving the dataset (0/1 shards):   0%|          | 0/1 [00:00<?, ? examples/s]"
      ],
      "application/vnd.jupyter.widget-view+json": {
       "version_major": 2,
       "version_minor": 0,
       "model_id": "b429cd311e204f11b03a1ebebbf44818"
      }
     },
     "metadata": {},
     "output_type": "display_data"
    },
    {
     "name": "stderr",
     "output_type": "stream",
     "text": [
      "0batch [00:00, ?batch/s]"
     ]
    },
    {
     "name": "stdout",
     "output_type": "stream",
     "text": [
      "---------------------------------\n",
      "| batch_size        | 32        |\n",
      "| bc/               |           |\n",
      "|    batch          | 0         |\n",
      "|    ent_loss       | -0.000335 |\n",
      "|    entropy        | 0.335     |\n",
      "|    epoch          | 0         |\n",
      "|    l2_loss        | 0         |\n",
      "|    l2_norm        | 130       |\n",
      "|    loss           | 0.277     |\n",
      "|    neglogp        | 0.278     |\n",
      "|    prob_true_act  | 0.796     |\n",
      "|    samples_so_far | 32        |\n",
      "| rollout/          |           |\n",
      "|    return_max     | 500       |\n",
      "|    return_mean    | 500       |\n",
      "|    return_min     | 500       |\n",
      "|    return_std     | 0         |\n",
      "---------------------------------\n"
     ]
    },
    {
     "name": "stderr",
     "output_type": "stream",
     "text": [
      "148batch [00:01, 230.66batch/s]\n",
      "345batch [00:01, 406.49batch/s]\u001B[A\n",
      "448batch [00:01, 456.87batch/s]\u001B[A"
     ]
    },
    {
     "name": "stdout",
     "output_type": "stream",
     "text": [
      "---------------------------------\n",
      "| batch_size        | 32        |\n",
      "| bc/               |           |\n",
      "|    batch          | 500       |\n",
      "|    ent_loss       | -0.000191 |\n",
      "|    entropy        | 0.191     |\n",
      "|    epoch          | 2         |\n",
      "|    l2_loss        | 0         |\n",
      "|    l2_norm        | 167       |\n",
      "|    loss           | 0.207     |\n",
      "|    neglogp        | 0.207     |\n",
      "|    prob_true_act  | 0.871     |\n",
      "|    samples_so_far | 16032     |\n",
      "| rollout/          |           |\n",
      "|    return_max     | 500       |\n",
      "|    return_mean    | 500       |\n",
      "|    return_min     | 500       |\n",
      "|    return_std     | 0         |\n",
      "---------------------------------\n"
     ]
    },
    {
     "name": "stderr",
     "output_type": "stream",
     "text": [
      "501batch [00:02, 158.58batch/s]\n",
      "708batch [00:02, 338.50batch/s]\u001B[A\n",
      "732batch [00:02, 254.59batch/s]\u001B[A\n"
     ]
    },
    {
     "name": "stdout",
     "output_type": "stream",
     "text": [
      "DAgger Training - Step 4000: Mean Reward = 500.0\n"
     ]
    },
    {
     "data": {
      "text/plain": [
       "Saving the dataset (0/1 shards):   0%|          | 0/1 [00:00<?, ? examples/s]"
      ],
      "application/vnd.jupyter.widget-view+json": {
       "version_major": 2,
       "version_minor": 0,
       "model_id": "d4bf009a37de4d019058a89631b242b6"
      }
     },
     "metadata": {},
     "output_type": "display_data"
    },
    {
     "data": {
      "text/plain": [
       "Saving the dataset (0/1 shards):   0%|          | 0/1 [00:00<?, ? examples/s]"
      ],
      "application/vnd.jupyter.widget-view+json": {
       "version_major": 2,
       "version_minor": 0,
       "model_id": "8b0d22d89c6f43f0a69bffb4834d722a"
      }
     },
     "metadata": {},
     "output_type": "display_data"
    },
    {
     "data": {
      "text/plain": [
       "Saving the dataset (0/1 shards):   0%|          | 0/1 [00:00<?, ? examples/s]"
      ],
      "application/vnd.jupyter.widget-view+json": {
       "version_major": 2,
       "version_minor": 0,
       "model_id": "c0ff98a4f1a2488ebf28a8c977fdf6d9"
      }
     },
     "metadata": {},
     "output_type": "display_data"
    },
    {
     "name": "stderr",
     "output_type": "stream",
     "text": [
      "0batch [00:00, ?batch/s]"
     ]
    },
    {
     "name": "stdout",
     "output_type": "stream",
     "text": [
      "---------------------------------\n",
      "| batch_size        | 32        |\n",
      "| bc/               |           |\n",
      "|    batch          | 0         |\n",
      "|    ent_loss       | -0.000235 |\n",
      "|    entropy        | 0.235     |\n",
      "|    epoch          | 0         |\n",
      "|    l2_loss        | 0         |\n",
      "|    l2_norm        | 179       |\n",
      "|    loss           | 0.312     |\n",
      "|    neglogp        | 0.313     |\n",
      "|    prob_true_act  | 0.82      |\n",
      "|    samples_so_far | 32        |\n",
      "| rollout/          |           |\n",
      "|    return_max     | 500       |\n",
      "|    return_mean    | 500       |\n",
      "|    return_min     | 500       |\n",
      "|    return_std     | 0         |\n",
      "---------------------------------\n"
     ]
    },
    {
     "name": "stderr",
     "output_type": "stream",
     "text": [
      "200batch [00:01, 300.38batch/s]\n",
      "460batch [00:01, 475.00batch/s]\u001B[A\n",
      "Epoch 1 of 4                   \u001B[A"
     ]
    },
    {
     "name": "stdout",
     "output_type": "stream",
     "text": [
      "---------------------------------\n",
      "| batch_size        | 32        |\n",
      "| bc/               |           |\n",
      "|    batch          | 500       |\n",
      "|    ent_loss       | -0.000177 |\n",
      "|    entropy        | 0.177     |\n",
      "|    epoch          | 2         |\n",
      "|    l2_loss        | 0         |\n",
      "|    l2_norm        | 198       |\n",
      "|    loss           | 0.188     |\n",
      "|    neglogp        | 0.188     |\n",
      "|    prob_true_act  | 0.881     |\n",
      "|    samples_so_far | 16032     |\n",
      "| rollout/          |           |\n",
      "|    return_max     | 500       |\n",
      "|    return_mean    | 500       |\n",
      "|    return_min     | 500       |\n",
      "|    return_std     | 0         |\n",
      "---------------------------------\n"
     ]
    },
    {
     "name": "stderr",
     "output_type": "stream",
     "text": [
      "660batch [00:02, 287.08batch/s]\n",
      "869batch [00:03, 438.12batch/s]\u001B[A\n",
      "920batch [00:03, 284.33batch/s]\u001B[A\n"
     ]
    },
    {
     "name": "stdout",
     "output_type": "stream",
     "text": [
      "DAgger Training - Step 5000: Mean Reward = 500.0\n"
     ]
    },
    {
     "data": {
      "text/plain": [
       "Saving the dataset (0/1 shards):   0%|          | 0/1 [00:00<?, ? examples/s]"
      ],
      "application/vnd.jupyter.widget-view+json": {
       "version_major": 2,
       "version_minor": 0,
       "model_id": "11abc4b062e348faa199c9fda0175ae5"
      }
     },
     "metadata": {},
     "output_type": "display_data"
    },
    {
     "data": {
      "text/plain": [
       "Saving the dataset (0/1 shards):   0%|          | 0/1 [00:00<?, ? examples/s]"
      ],
      "application/vnd.jupyter.widget-view+json": {
       "version_major": 2,
       "version_minor": 0,
       "model_id": "db0a1335200041389674bb7bda85ca92"
      }
     },
     "metadata": {},
     "output_type": "display_data"
    },
    {
     "data": {
      "text/plain": [
       "Saving the dataset (0/1 shards):   0%|          | 0/1 [00:00<?, ? examples/s]"
      ],
      "application/vnd.jupyter.widget-view+json": {
       "version_major": 2,
       "version_minor": 0,
       "model_id": "ff7ef7e07f5f4fc69f074aca1c661ed1"
      }
     },
     "metadata": {},
     "output_type": "display_data"
    },
    {
     "name": "stderr",
     "output_type": "stream",
     "text": [
      "0batch [00:00, ?batch/s]"
     ]
    },
    {
     "name": "stdout",
     "output_type": "stream",
     "text": [
      "---------------------------------\n",
      "| batch_size        | 32        |\n",
      "| bc/               |           |\n",
      "|    batch          | 0         |\n",
      "|    ent_loss       | -0.000146 |\n",
      "|    entropy        | 0.146     |\n",
      "|    epoch          | 0         |\n",
      "|    l2_loss        | 0         |\n",
      "|    l2_norm        | 210       |\n",
      "|    loss           | 0.0699    |\n",
      "|    neglogp        | 0.07      |\n",
      "|    prob_true_act  | 0.94      |\n",
      "|    samples_so_far | 32        |\n",
      "| rollout/          |           |\n",
      "|    return_max     | 500       |\n",
      "|    return_mean    | 500       |\n",
      "|    return_min     | 500       |\n",
      "|    return_std     | 0         |\n",
      "---------------------------------\n"
     ]
    },
    {
     "name": "stderr",
     "output_type": "stream",
     "text": [
      "259batch [00:01, 366.31batch/s]\n",
      "467batch [00:01, 477.15batch/s]\u001B[A"
     ]
    },
    {
     "name": "stdout",
     "output_type": "stream",
     "text": [
      "---------------------------------\n",
      "| batch_size        | 32        |\n",
      "| bc/               |           |\n",
      "|    batch          | 500       |\n",
      "|    ent_loss       | -0.000181 |\n",
      "|    entropy        | 0.181     |\n",
      "|    epoch          | 1         |\n",
      "|    l2_loss        | 0         |\n",
      "|    l2_norm        | 226       |\n",
      "|    loss           | 0.0904    |\n",
      "|    neglogp        | 0.0905    |\n",
      "|    prob_true_act  | 0.922     |\n",
      "|    samples_so_far | 16032     |\n",
      "| rollout/          |           |\n",
      "|    return_max     | 500       |\n",
      "|    return_mean    | 500       |\n",
      "|    return_min     | 500       |\n",
      "|    return_std     | 0         |\n",
      "---------------------------------\n"
     ]
    },
    {
     "name": "stderr",
     "output_type": "stream",
     "text": [
      "519batch [00:02, 160.15batch/s]\n",
      "825batch [00:03, 410.01batch/s]\u001B[A\n",
      "980batch [00:03, 465.41batch/s]\u001B[A"
     ]
    },
    {
     "name": "stdout",
     "output_type": "stream",
     "text": [
      "---------------------------------\n",
      "| batch_size        | 32        |\n",
      "| bc/               |           |\n",
      "|    batch          | 1000      |\n",
      "|    ent_loss       | -0.000125 |\n",
      "|    entropy        | 0.125     |\n",
      "|    epoch          | 3         |\n",
      "|    l2_loss        | 0         |\n",
      "|    l2_norm        | 243       |\n",
      "|    loss           | 0.0779    |\n",
      "|    neglogp        | 0.078     |\n",
      "|    prob_true_act  | 0.937     |\n",
      "|    samples_so_far | 32032     |\n",
      "| rollout/          |           |\n",
      "|    return_max     | 500       |\n",
      "|    return_mean    | 500       |\n",
      "|    return_min     | 500       |\n",
      "|    return_std     | 0         |\n",
      "---------------------------------\n"
     ]
    },
    {
     "name": "stderr",
     "output_type": "stream",
     "text": [
      "1083batch [00:04, 205.46batch/s]\n",
      "1108batch [00:04, 258.65batch/s]\u001B[A\n"
     ]
    },
    {
     "name": "stdout",
     "output_type": "stream",
     "text": [
      "DAgger Training - Step 6000: Mean Reward = 500.0\n"
     ]
    },
    {
     "data": {
      "text/plain": [
       "Saving the dataset (0/1 shards):   0%|          | 0/1 [00:00<?, ? examples/s]"
      ],
      "application/vnd.jupyter.widget-view+json": {
       "version_major": 2,
       "version_minor": 0,
       "model_id": "4d73585dcf7b4989a6e69a910fe1f8bc"
      }
     },
     "metadata": {},
     "output_type": "display_data"
    },
    {
     "data": {
      "text/plain": [
       "Saving the dataset (0/1 shards):   0%|          | 0/1 [00:00<?, ? examples/s]"
      ],
      "application/vnd.jupyter.widget-view+json": {
       "version_major": 2,
       "version_minor": 0,
       "model_id": "3115c433c5a14a82a947d793139add11"
      }
     },
     "metadata": {},
     "output_type": "display_data"
    },
    {
     "data": {
      "text/plain": [
       "Saving the dataset (0/1 shards):   0%|          | 0/1 [00:00<?, ? examples/s]"
      ],
      "application/vnd.jupyter.widget-view+json": {
       "version_major": 2,
       "version_minor": 0,
       "model_id": "be085234cddc492b9e522003f40fe21d"
      }
     },
     "metadata": {},
     "output_type": "display_data"
    },
    {
     "name": "stderr",
     "output_type": "stream",
     "text": [
      "0batch [00:00, ?batch/s]"
     ]
    },
    {
     "name": "stdout",
     "output_type": "stream",
     "text": [
      "---------------------------------\n",
      "| batch_size        | 32        |\n",
      "| bc/               |           |\n",
      "|    batch          | 0         |\n",
      "|    ent_loss       | -0.000127 |\n",
      "|    entropy        | 0.127     |\n",
      "|    epoch          | 0         |\n",
      "|    l2_loss        | 0         |\n",
      "|    l2_norm        | 246       |\n",
      "|    loss           | 0.0697    |\n",
      "|    neglogp        | 0.0698    |\n",
      "|    prob_true_act  | 0.942     |\n",
      "|    samples_so_far | 32        |\n",
      "| rollout/          |           |\n",
      "|    return_max     | 500       |\n",
      "|    return_mean    | 500       |\n",
      "|    return_min     | 500       |\n",
      "|    return_std     | 0         |\n",
      "---------------------------------\n"
     ]
    },
    {
     "name": "stderr",
     "output_type": "stream",
     "text": [
      "292batch [00:01, 381.01batch/s]\n",
      "450batch [00:01, 470.73batch/s]\u001B[A"
     ]
    },
    {
     "name": "stdout",
     "output_type": "stream",
     "text": [
      "---------------------------------\n",
      "| batch_size        | 32        |\n",
      "| bc/               |           |\n",
      "|    batch          | 500       |\n",
      "|    ent_loss       | -7.04e-05 |\n",
      "|    entropy        | 0.0704    |\n",
      "|    epoch          | 1         |\n",
      "|    l2_loss        | 0         |\n",
      "|    l2_norm        | 262       |\n",
      "|    loss           | 0.0308    |\n",
      "|    neglogp        | 0.0309    |\n",
      "|    prob_true_act  | 0.973     |\n",
      "|    samples_so_far | 16032     |\n",
      "| rollout/          |           |\n",
      "|    return_max     | 500       |\n",
      "|    return_mean    | 500       |\n",
      "|    return_min     | 500       |\n",
      "|    return_std     | 0         |\n",
      "---------------------------------\n"
     ]
    },
    {
     "name": "stderr",
     "output_type": "stream",
     "text": [
      "605batch [00:02, 250.07batch/s]\n",
      "957batch [00:03, 447.97batch/s]\u001B[A\n",
      "Epoch 2 of 4                   \u001B[A"
     ]
    },
    {
     "name": "stdout",
     "output_type": "stream",
     "text": [
      "---------------------------------\n",
      "| batch_size        | 32        |\n",
      "| bc/               |           |\n",
      "|    batch          | 1000      |\n",
      "|    ent_loss       | -0.000189 |\n",
      "|    entropy        | 0.189     |\n",
      "|    epoch          | 3         |\n",
      "|    l2_loss        | 0         |\n",
      "|    l2_norm        | 277       |\n",
      "|    loss           | 0.146     |\n",
      "|    neglogp        | 0.147     |\n",
      "|    prob_true_act  | 0.894     |\n",
      "|    samples_so_far | 32032     |\n",
      "| rollout/          |           |\n",
      "|    return_max     | 500       |\n",
      "|    return_mean    | 500       |\n",
      "|    return_min     | 500       |\n",
      "|    return_std     | 0         |\n",
      "---------------------------------\n"
     ]
    },
    {
     "name": "stderr",
     "output_type": "stream",
     "text": [
      "1257batch [00:04, 372.09batch/s]\n",
      "1296batch [00:04, 274.71batch/s]\u001B[A\n"
     ]
    },
    {
     "name": "stdout",
     "output_type": "stream",
     "text": [
      "DAgger Training - Step 7000: Mean Reward = 500.0\n"
     ]
    },
    {
     "data": {
      "text/plain": [
       "Saving the dataset (0/1 shards):   0%|          | 0/1 [00:00<?, ? examples/s]"
      ],
      "application/vnd.jupyter.widget-view+json": {
       "version_major": 2,
       "version_minor": 0,
       "model_id": "eec243a279a44718918016ae40a88589"
      }
     },
     "metadata": {},
     "output_type": "display_data"
    },
    {
     "data": {
      "text/plain": [
       "Saving the dataset (0/1 shards):   0%|          | 0/1 [00:00<?, ? examples/s]"
      ],
      "application/vnd.jupyter.widget-view+json": {
       "version_major": 2,
       "version_minor": 0,
       "model_id": "6e83e854b03040e5ad32b8ab5fe5810e"
      }
     },
     "metadata": {},
     "output_type": "display_data"
    },
    {
     "data": {
      "text/plain": [
       "Saving the dataset (0/1 shards):   0%|          | 0/1 [00:00<?, ? examples/s]"
      ],
      "application/vnd.jupyter.widget-view+json": {
       "version_major": 2,
       "version_minor": 0,
       "model_id": "c7c767ad42c04a229fb4fbc4acb193bc"
      }
     },
     "metadata": {},
     "output_type": "display_data"
    },
    {
     "name": "stderr",
     "output_type": "stream",
     "text": [
      "0batch [00:00, ?batch/s]"
     ]
    },
    {
     "name": "stdout",
     "output_type": "stream",
     "text": [
      "---------------------------------\n",
      "| batch_size        | 32        |\n",
      "| bc/               |           |\n",
      "|    batch          | 0         |\n",
      "|    ent_loss       | -0.000128 |\n",
      "|    entropy        | 0.128     |\n",
      "|    epoch          | 0         |\n",
      "|    l2_loss        | 0         |\n",
      "|    l2_norm        | 285       |\n",
      "|    loss           | 0.0716    |\n",
      "|    neglogp        | 0.0718    |\n",
      "|    prob_true_act  | 0.941     |\n",
      "|    samples_so_far | 32        |\n",
      "| rollout/          |           |\n",
      "|    return_max     | 500       |\n",
      "|    return_mean    | 500       |\n",
      "|    return_min     | 500       |\n",
      "|    return_std     | 0         |\n",
      "---------------------------------\n"
     ]
    },
    {
     "name": "stderr",
     "output_type": "stream",
     "text": [
      "365batch [00:01, 436.68batch/s]\n",
      "466batch [00:01, 441.00batch/s]\u001B[A"
     ]
    },
    {
     "name": "stdout",
     "output_type": "stream",
     "text": [
      "---------------------------------\n",
      "| batch_size        | 32        |\n",
      "| bc/               |           |\n",
      "|    batch          | 500       |\n",
      "|    ent_loss       | -0.000181 |\n",
      "|    entropy        | 0.181     |\n",
      "|    epoch          | 1         |\n",
      "|    l2_loss        | 0         |\n",
      "|    l2_norm        | 299       |\n",
      "|    loss           | 0.136     |\n",
      "|    neglogp        | 0.136     |\n",
      "|    prob_true_act  | 0.899     |\n",
      "|    samples_so_far | 16032     |\n",
      "| rollout/          |           |\n",
      "|    return_max     | 500       |\n",
      "|    return_mean    | 499       |\n",
      "|    return_min     | 497       |\n",
      "|    return_std     | 1.2       |\n",
      "---------------------------------\n"
     ]
    },
    {
     "name": "stderr",
     "output_type": "stream",
     "text": [
      "716batch [00:02, 322.26batch/s]\n",
      "969batch [00:03, 467.55batch/s]\u001B[A"
     ]
    },
    {
     "name": "stdout",
     "output_type": "stream",
     "text": [
      "---------------------------------\n",
      "| batch_size        | 32        |\n",
      "| bc/               |           |\n",
      "|    batch          | 1000      |\n",
      "|    ent_loss       | -5.63e-05 |\n",
      "|    entropy        | 0.0563    |\n",
      "|    epoch          | 2         |\n",
      "|    l2_loss        | 0         |\n",
      "|    l2_norm        | 313       |\n",
      "|    loss           | 0.0195    |\n",
      "|    neglogp        | 0.0196    |\n",
      "|    prob_true_act  | 0.982     |\n",
      "|    samples_so_far | 32032     |\n",
      "| rollout/          |           |\n",
      "|    return_max     | 500       |\n",
      "|    return_mean    | 475       |\n",
      "|    return_min     | 376       |\n",
      "|    return_std     | 49.6      |\n",
      "---------------------------------\n"
     ]
    },
    {
     "name": "stderr",
     "output_type": "stream",
     "text": [
      "1066batch [00:04, 200.67batch/s]\n",
      "1434batch [00:04, 462.27batch/s]\u001B[A\n",
      "1484batch [00:05, 295.40batch/s]\u001B[A\n"
     ]
    },
    {
     "name": "stdout",
     "output_type": "stream",
     "text": [
      "DAgger Training - Step 8000: Mean Reward = 500.0\n"
     ]
    }
   ],
   "execution_count": 3
  },
  {
   "cell_type": "code",
   "id": "ca8db856",
   "metadata": {
    "ExecuteTime": {
     "end_time": "2025-07-25T13:19:50.188763Z",
     "start_time": "2025-07-25T13:19:50.072127Z"
    }
   },
   "source": [
    "# Plot the rewards for Regular PPO Training and DAgger Training\n",
    "plt.figure(figsize=(10, 6))\n",
    "plt.plot(range(0, 10000, 1000), regular_rewards, label=\"PPO Regular Training\", marker=\"o\")\n",
    "plt.plot(range(0, 8000, 1000), dagger_rewards, label=\"DAgger Training\", marker=\"o\")\n",
    "plt.xlabel(\"Timesteps\")\n",
    "plt.ylabel(\"Mean Reward\")\n",
    "plt.title(\"Comparison of PPO and DAgger Training Rewards\")\n",
    "plt.legend()\n",
    "plt.grid(True)\n",
    "plt.show()"
   ],
   "outputs": [
    {
     "data": {
      "text/plain": [
       "<Figure size 1000x600 with 1 Axes>"
      ],
      "image/png": "[encoded data removed]"
     },
     "metadata": {},
     "output_type": "display_data"
    }
   ],
   "execution_count": 4
  },
  {
   "cell_type": "markdown",
   "id": "46f18622",
   "metadata": {},
   "source": [
    "\n",
    "### 3. A2C Agent Training (20 Points)\n",
    "After DAgger training, a third agent is trained using the **Advantage Actor-Critic (A2C)** algorithm."
   ]
  },
  {
   "cell_type": "code",
   "id": "c822cdb9",
   "metadata": {
    "ExecuteTime": {
     "end_time": "2025-07-25T13:20:02.563025Z",
     "start_time": "2025-07-25T13:19:50.201504Z"
    }
   },
   "source": [
    "# Create the CartPole-v1 environment\n",
    "env = gym.make(\"CartPole-v1\")\n",
    "# Initialize the A2C model\n",
    "model = A2C(\"MlpPolicy\", env)\n",
    "\n",
    "# Record rewards during training\n",
    "regular_rewards = []\n",
    "\n",
    "# Training loop\n",
    "total_timesteps = 10000\n",
    "eval_freq = 1000 \n",
    "for timestep in range(0, total_timesteps, eval_freq):\n",
    "    model.learn(total_timesteps=eval_freq) \n",
    "\n",
    "    # TODO: Evaluate the model and record the reward\n",
    "    reward, _ = evaluate_policy(model, model.get_env(), n_eval_episodes=5)\n",
    "    regular_rewards.append(reward)\n",
    "    print(f\"Regular Training - Step {timestep + eval_freq}: Mean Reward = {reward}\")\n",
    "\n",
    "# Save the model after training\n",
    "model.save(\"CartPole_v1_A2C_model.zip\")\n",
    "env.close()"
   ],
   "outputs": [
    {
     "name": "stdout",
     "output_type": "stream",
     "text": [
      "Regular Training - Step 1000: Mean Reward = 363.0\n",
      "Regular Training - Step 2000: Mean Reward = 500.0\n",
      "Regular Training - Step 3000: Mean Reward = 500.0\n",
      "Regular Training - Step 4000: Mean Reward = 358.2\n",
      "Regular Training - Step 5000: Mean Reward = 500.0\n",
      "Regular Training - Step 6000: Mean Reward = 500.0\n",
      "Regular Training - Step 7000: Mean Reward = 490.2\n",
      "Regular Training - Step 8000: Mean Reward = 500.0\n",
      "Regular Training - Step 9000: Mean Reward = 500.0\n",
      "Regular Training - Step 10000: Mean Reward = 500.0\n"
     ]
    }
   ],
   "execution_count": 5
  },
  {
   "cell_type": "code",
   "id": "59de5485",
   "metadata": {
    "ExecuteTime": {
     "end_time": "2025-07-25T13:20:35.438855Z",
     "start_time": "2025-07-25T13:20:02.600059Z"
    }
   },
   "source": [
    "# Load the A2C model manually using Stable-Baselines3's load method\n",
    "venv = make_vec_env(\"CartPole-v1\", n_envs=1, rng=np.random.default_rng(42))\n",
    "expert = A2C.load(\"CartPole_v1_A2C_model.zip\", env=venv)\n",
    "\n",
    "# Initialize the Behavior Cloning (BC) trainer\n",
    "bc_trainer = bc.BC(\n",
    "    observation_space=venv.observation_space,\n",
    "    action_space=venv.action_space,\n",
    "    rng=np.random.default_rng(42)\n",
    ")\n",
    "# Record rewards during DAgger training\n",
    "dagger_rewards = []\n",
    "\n",
    "# Train using DAgger\n",
    "with tempfile.TemporaryDirectory(prefix=\"dagger_example_\") as tmpdir:\n",
    "    dagger_trainer = SimpleDAggerTrainer(\n",
    "        venv=venv,\n",
    "        expert_policy=expert,\n",
    "        bc_trainer=bc_trainer,\n",
    "        scratch_dir=tmpdir,\n",
    "        rng=np.random.default_rng(42)\n",
    "    )\n",
    "    \n",
    "    # Training loop for DAgger\n",
    "    total_dagger_timesteps = 8000\n",
    "    eval_freq = 1000 \n",
    "    for timestep in range(0, total_dagger_timesteps, eval_freq):\n",
    "        dagger_trainer.train(eval_freq)  # Train the agent for `eval_freq` timesteps\n",
    "\n",
    "        # TODO: Evaluate the model and record the reward\n",
    "        reward, _ = evaluate_policy(\n",
    "            bc_trainer.policy, venv, n_eval_episodes=5\n",
    "        )\n",
    "        dagger_rewards.append(reward)\n",
    "        print(f\"DAgger Training - Step {timestep + eval_freq}: Mean Reward = {reward}\")\n",
    "\n",
    "# Close the environment after DAgger training\n",
    "env.close()"
   ],
   "outputs": [
    {
     "data": {
      "text/plain": [
       "Saving the dataset (0/1 shards):   0%|          | 0/1 [00:00<?, ? examples/s]"
      ],
      "application/vnd.jupyter.widget-view+json": {
       "version_major": 2,
       "version_minor": 0,
       "model_id": "5850568b91a84800943fa5a338d5f088"
      }
     },
     "metadata": {},
     "output_type": "display_data"
    },
    {
     "data": {
      "text/plain": [
       "Saving the dataset (0/1 shards):   0%|          | 0/1 [00:00<?, ? examples/s]"
      ],
      "application/vnd.jupyter.widget-view+json": {
       "version_major": 2,
       "version_minor": 0,
       "model_id": "f83e974c474f44ec90d203c50765ee11"
      }
     },
     "metadata": {},
     "output_type": "display_data"
    },
    {
     "data": {
      "text/plain": [
       "Saving the dataset (0/1 shards):   0%|          | 0/1 [00:00<?, ? examples/s]"
      ],
      "application/vnd.jupyter.widget-view+json": {
       "version_major": 2,
       "version_minor": 0,
       "model_id": "4ad59480ece143fab7c2b9753fb02cc9"
      }
     },
     "metadata": {},
     "output_type": "display_data"
    },
    {
     "name": "stderr",
     "output_type": "stream",
     "text": [
      "0batch [00:00, ?batch/s]"
     ]
    },
    {
     "name": "stdout",
     "output_type": "stream",
     "text": [
      "---------------------------------\n",
      "| batch_size        | 32        |\n",
      "| bc/               |           |\n",
      "|    batch          | 0         |\n",
      "|    ent_loss       | -0.000693 |\n",
      "|    entropy        | 0.693     |\n",
      "|    epoch          | 0         |\n",
      "|    l2_loss        | 0         |\n",
      "|    l2_norm        | 72.5      |\n",
      "|    loss           | 0.693     |\n",
      "|    neglogp        | 0.694     |\n",
      "|    prob_true_act  | 0.5       |\n",
      "|    samples_so_far | 32        |\n",
      "| rollout/          |           |\n",
      "|    return_max     | 32        |\n",
      "|    return_mean    | 19        |\n",
      "|    return_min     | 13        |\n",
      "|    return_std     | 6.96      |\n",
      "---------------------------------\n"
     ]
    },
    {
     "name": "stderr",
     "output_type": "stream",
     "text": [
      "34batch [00:00, 337.92batch/s]\n",
      "79batch [00:00, 401.89batch/s]\u001B[A\n",
      "120batch [00:00, 405.31batch/s][A\n",
      "162batch [00:00, 409.98batch/s]\u001B[A\n",
      "184batch [00:00, 410.91batch/s]\u001B[A\n"
     ]
    },
    {
     "name": "stdout",
     "output_type": "stream",
     "text": [
      "DAgger Training - Step 1000: Mean Reward = 96.8\n"
     ]
    },
    {
     "data": {
      "text/plain": [
       "Saving the dataset (0/1 shards):   0%|          | 0/1 [00:00<?, ? examples/s]"
      ],
      "application/vnd.jupyter.widget-view+json": {
       "version_major": 2,
       "version_minor": 0,
       "model_id": "c6193ea602064bacaba1ab2f1122b619"
      }
     },
     "metadata": {},
     "output_type": "display_data"
    },
    {
     "data": {
      "text/plain": [
       "Saving the dataset (0/1 shards):   0%|          | 0/1 [00:00<?, ? examples/s]"
      ],
      "application/vnd.jupyter.widget-view+json": {
       "version_major": 2,
       "version_minor": 0,
       "model_id": "9675c6eeafb6444ab05738d49bb58b8e"
      }
     },
     "metadata": {},
     "output_type": "display_data"
    },
    {
     "data": {
      "text/plain": [
       "Saving the dataset (0/1 shards):   0%|          | 0/1 [00:00<?, ? examples/s]"
      ],
      "application/vnd.jupyter.widget-view+json": {
       "version_major": 2,
       "version_minor": 0,
       "model_id": "679cb5633e3e489cbfdb4a26579a7905"
      }
     },
     "metadata": {},
     "output_type": "display_data"
    },
    {
     "name": "stderr",
     "output_type": "stream",
     "text": [
      "0batch [00:00, ?batch/s]"
     ]
    },
    {
     "name": "stdout",
     "output_type": "stream",
     "text": [
      "---------------------------------\n",
      "| batch_size        | 32        |\n",
      "| bc/               |           |\n",
      "|    batch          | 0         |\n",
      "|    ent_loss       | -0.000279 |\n",
      "|    entropy        | 0.279     |\n",
      "|    epoch          | 0         |\n",
      "|    l2_loss        | 0         |\n",
      "|    l2_norm        | 86.1      |\n",
      "|    loss           | 0.294     |\n",
      "|    neglogp        | 0.294     |\n",
      "|    prob_true_act  | 0.811     |\n",
      "|    samples_so_far | 32        |\n",
      "| rollout/          |           |\n",
      "|    return_max     | 132       |\n",
      "|    return_mean    | 81.4      |\n",
      "|    return_min     | 55        |\n",
      "|    return_std     | 26.6      |\n",
      "---------------------------------\n"
     ]
    },
    {
     "name": "stderr",
     "output_type": "stream",
     "text": [
      "51batch [00:00, 276.74batch/s]\n",
      "152batch [00:00, 425.23batch/s][A\n",
      "243batch [00:00, 435.26batch/s]\u001B[A\n",
      "343batch [00:00, 469.07batch/s]\u001B[A\n",
      "372batch [00:00, 420.29batch/s]\u001B[A\n"
     ]
    },
    {
     "name": "stdout",
     "output_type": "stream",
     "text": [
      "DAgger Training - Step 2000: Mean Reward = 500.0\n"
     ]
    },
    {
     "data": {
      "text/plain": [
       "Saving the dataset (0/1 shards):   0%|          | 0/1 [00:00<?, ? examples/s]"
      ],
      "application/vnd.jupyter.widget-view+json": {
       "version_major": 2,
       "version_minor": 0,
       "model_id": "4b22fa89c9704a9a960c513e0cdf7d44"
      }
     },
     "metadata": {},
     "output_type": "display_data"
    },
    {
     "data": {
      "text/plain": [
       "Saving the dataset (0/1 shards):   0%|          | 0/1 [00:00<?, ? examples/s]"
      ],
      "application/vnd.jupyter.widget-view+json": {
       "version_major": 2,
       "version_minor": 0,
       "model_id": "d69791432f844503bae516fcf2a1ecad"
      }
     },
     "metadata": {},
     "output_type": "display_data"
    },
    {
     "data": {
      "text/plain": [
       "Saving the dataset (0/1 shards):   0%|          | 0/1 [00:00<?, ? examples/s]"
      ],
      "application/vnd.jupyter.widget-view+json": {
       "version_major": 2,
       "version_minor": 0,
       "model_id": "7222e4e966b84888a89dce748f8b3f90"
      }
     },
     "metadata": {},
     "output_type": "display_data"
    },
    {
     "name": "stderr",
     "output_type": "stream",
     "text": [
      "0batch [00:00, ?batch/s]"
     ]
    },
    {
     "name": "stdout",
     "output_type": "stream",
     "text": [
      "---------------------------------\n",
      "| batch_size        | 32        |\n",
      "| bc/               |           |\n",
      "|    batch          | 0         |\n",
      "|    ent_loss       | -0.000267 |\n",
      "|    entropy        | 0.267     |\n",
      "|    epoch          | 0         |\n",
      "|    l2_loss        | 0         |\n",
      "|    l2_norm        | 95.2      |\n",
      "|    loss           | 0.286     |\n",
      "|    neglogp        | 0.287     |\n",
      "|    prob_true_act  | 0.806     |\n",
      "|    samples_so_far | 32        |\n",
      "| rollout/          |           |\n",
      "|    return_max     | 500       |\n",
      "|    return_mean    | 269       |\n",
      "|    return_min     | 161       |\n",
      "|    return_std     | 133       |\n",
      "---------------------------------\n"
     ]
    },
    {
     "name": "stderr",
     "output_type": "stream",
     "text": [
      "100batch [00:00, 237.28batch/s]\n",
      "240batch [00:00, 379.78batch/s]\u001B[A\n",
      "386batch [00:01, 400.00batch/s]\u001B[A\n",
      "487batch [00:01, 451.22batch/s]\u001B[A"
     ]
    },
    {
     "name": "stdout",
     "output_type": "stream",
     "text": [
      "---------------------------------\n",
      "| batch_size        | 32        |\n",
      "| bc/               |           |\n",
      "|    batch          | 500       |\n",
      "|    ent_loss       | -0.000252 |\n",
      "|    entropy        | 0.252     |\n",
      "|    epoch          | 3         |\n",
      "|    l2_loss        | 0         |\n",
      "|    l2_norm        | 130       |\n",
      "|    loss           | 0.242     |\n",
      "|    neglogp        | 0.242     |\n",
      "|    prob_true_act  | 0.827     |\n",
      "|    samples_so_far | 16032     |\n",
      "| rollout/          |           |\n",
      "|    return_max     | 500       |\n",
      "|    return_mean    | 500       |\n",
      "|    return_min     | 500       |\n",
      "|    return_std     | 0         |\n",
      "---------------------------------\n"
     ]
    },
    {
     "name": "stderr",
     "output_type": "stream",
     "text": [
      "534batch [00:02, 150.31batch/s]\n",
      "560batch [00:02, 243.43batch/s]\u001B[A\n"
     ]
    },
    {
     "name": "stdout",
     "output_type": "stream",
     "text": [
      "DAgger Training - Step 3000: Mean Reward = 500.0\n"
     ]
    },
    {
     "data": {
      "text/plain": [
       "Saving the dataset (0/1 shards):   0%|          | 0/1 [00:00<?, ? examples/s]"
      ],
      "application/vnd.jupyter.widget-view+json": {
       "version_major": 2,
       "version_minor": 0,
       "model_id": "767271871fe24081983a732cdb2a7f22"
      }
     },
     "metadata": {},
     "output_type": "display_data"
    },
    {
     "data": {
      "text/plain": [
       "Saving the dataset (0/1 shards):   0%|          | 0/1 [00:00<?, ? examples/s]"
      ],
      "application/vnd.jupyter.widget-view+json": {
       "version_major": 2,
       "version_minor": 0,
       "model_id": "7dc84043250d4635aa73f8fc2b02bed5"
      }
     },
     "metadata": {},
     "output_type": "display_data"
    },
    {
     "data": {
      "text/plain": [
       "Saving the dataset (0/1 shards):   0%|          | 0/1 [00:00<?, ? examples/s]"
      ],
      "application/vnd.jupyter.widget-view+json": {
       "version_major": 2,
       "version_minor": 0,
       "model_id": "6469c1797c6b4da8bb83fc457ebae9df"
      }
     },
     "metadata": {},
     "output_type": "display_data"
    },
    {
     "name": "stderr",
     "output_type": "stream",
     "text": [
      "0batch [00:00, ?batch/s]"
     ]
    },
    {
     "name": "stdout",
     "output_type": "stream",
     "text": [
      "---------------------------------\n",
      "| batch_size        | 32        |\n",
      "| bc/               |           |\n",
      "|    batch          | 0         |\n",
      "|    ent_loss       | -0.000245 |\n",
      "|    entropy        | 0.245     |\n",
      "|    epoch          | 0         |\n",
      "|    l2_loss        | 0         |\n",
      "|    l2_norm        | 135       |\n",
      "|    loss           | 0.186     |\n",
      "|    neglogp        | 0.186     |\n",
      "|    prob_true_act  | 0.861     |\n",
      "|    samples_so_far | 32        |\n",
      "| rollout/          |           |\n",
      "|    return_max     | 500       |\n",
      "|    return_mean    | 500       |\n",
      "|    return_min     | 500       |\n",
      "|    return_std     | 0         |\n",
      "---------------------------------\n"
     ]
    },
    {
     "name": "stderr",
     "output_type": "stream",
     "text": [
      "157batch [00:01, 247.34batch/s]\n",
      "367batch [00:01, 433.09batch/s]\u001B[A\n",
      "469batch [00:01, 459.80batch/s]\u001B[A"
     ]
    },
    {
     "name": "stdout",
     "output_type": "stream",
     "text": [
      "---------------------------------\n",
      "| batch_size        | 32        |\n",
      "| bc/               |           |\n",
      "|    batch          | 500       |\n",
      "|    ent_loss       | -0.000252 |\n",
      "|    entropy        | 0.252     |\n",
      "|    epoch          | 2         |\n",
      "|    l2_loss        | 0         |\n",
      "|    l2_norm        | 175       |\n",
      "|    loss           | 0.166     |\n",
      "|    neglogp        | 0.166     |\n",
      "|    prob_true_act  | 0.869     |\n",
      "|    samples_so_far | 16032     |\n",
      "| rollout/          |           |\n",
      "|    return_max     | 500       |\n",
      "|    return_mean    | 500       |\n",
      "|    return_min     | 500       |\n",
      "|    return_std     | 0         |\n",
      "---------------------------------\n"
     ]
    },
    {
     "name": "stderr",
     "output_type": "stream",
     "text": [
      "561batch [00:02, 190.45batch/s]\n",
      "711batch [00:02, 325.21batch/s]\u001B[A\n",
      "748batch [00:02, 258.27batch/s]\u001B[A\n"
     ]
    },
    {
     "name": "stdout",
     "output_type": "stream",
     "text": [
      "DAgger Training - Step 4000: Mean Reward = 500.0\n"
     ]
    },
    {
     "data": {
      "text/plain": [
       "Saving the dataset (0/1 shards):   0%|          | 0/1 [00:00<?, ? examples/s]"
      ],
      "application/vnd.jupyter.widget-view+json": {
       "version_major": 2,
       "version_minor": 0,
       "model_id": "c1af8b26ac05446996293855ffed0d1e"
      }
     },
     "metadata": {},
     "output_type": "display_data"
    },
    {
     "data": {
      "text/plain": [
       "Saving the dataset (0/1 shards):   0%|          | 0/1 [00:00<?, ? examples/s]"
      ],
      "application/vnd.jupyter.widget-view+json": {
       "version_major": 2,
       "version_minor": 0,
       "model_id": "9013b9777a2b49fe82624274c3ad1921"
      }
     },
     "metadata": {},
     "output_type": "display_data"
    },
    {
     "data": {
      "text/plain": [
       "Saving the dataset (0/1 shards):   0%|          | 0/1 [00:00<?, ? examples/s]"
      ],
      "application/vnd.jupyter.widget-view+json": {
       "version_major": 2,
       "version_minor": 0,
       "model_id": "bd004f078c2540d088f17781c8fbaa0f"
      }
     },
     "metadata": {},
     "output_type": "display_data"
    },
    {
     "name": "stderr",
     "output_type": "stream",
     "text": [
      "0batch [00:00, ?batch/s]"
     ]
    },
    {
     "name": "stdout",
     "output_type": "stream",
     "text": [
      "---------------------------------\n",
      "| batch_size        | 32        |\n",
      "| bc/               |           |\n",
      "|    batch          | 0         |\n",
      "|    ent_loss       | -0.000202 |\n",
      "|    entropy        | 0.202     |\n",
      "|    epoch          | 0         |\n",
      "|    l2_loss        | 0         |\n",
      "|    l2_norm        | 192       |\n",
      "|    loss           | 0.132     |\n",
      "|    neglogp        | 0.132     |\n",
      "|    prob_true_act  | 0.895     |\n",
      "|    samples_so_far | 32        |\n",
      "| rollout/          |           |\n",
      "|    return_max     | 500       |\n",
      "|    return_mean    | 500       |\n",
      "|    return_min     | 500       |\n",
      "|    return_std     | 0         |\n",
      "---------------------------------\n"
     ]
    },
    {
     "name": "stderr",
     "output_type": "stream",
     "text": [
      "206batch [00:01, 311.67batch/s]\n",
      "462batch [00:01, 460.85batch/s]\u001B[A\n",
      "Epoch 1 of 4                   \u001B[A"
     ]
    },
    {
     "name": "stdout",
     "output_type": "stream",
     "text": [
      "--------------------------------\n",
      "| batch_size        | 32       |\n",
      "| bc/               |          |\n",
      "|    batch          | 500      |\n",
      "|    ent_loss       | -0.00011 |\n",
      "|    entropy        | 0.11     |\n",
      "|    epoch          | 2        |\n",
      "|    l2_loss        | 0        |\n",
      "|    l2_norm        | 228      |\n",
      "|    loss           | 0.0581   |\n",
      "|    neglogp        | 0.0582   |\n",
      "|    prob_true_act  | 0.952    |\n",
      "|    samples_so_far | 16032    |\n",
      "| rollout/          |          |\n",
      "|    return_max     | 500      |\n",
      "|    return_mean    | 500      |\n",
      "|    return_min     | 500      |\n",
      "|    return_std     | 0        |\n",
      "--------------------------------\n"
     ]
    },
    {
     "name": "stderr",
     "output_type": "stream",
     "text": [
      "668batch [00:02, 297.32batch/s]\n",
      "931batch [00:03, 465.46batch/s]\u001B[A\n",
      "936batch [00:03, 290.61batch/s]\u001B[A\n"
     ]
    },
    {
     "name": "stdout",
     "output_type": "stream",
     "text": [
      "DAgger Training - Step 5000: Mean Reward = 500.0\n"
     ]
    },
    {
     "data": {
      "text/plain": [
       "Saving the dataset (0/1 shards):   0%|          | 0/1 [00:00<?, ? examples/s]"
      ],
      "application/vnd.jupyter.widget-view+json": {
       "version_major": 2,
       "version_minor": 0,
       "model_id": "216e4861c7a64f34b2c49dcc20e4e36f"
      }
     },
     "metadata": {},
     "output_type": "display_data"
    },
    {
     "data": {
      "text/plain": [
       "Saving the dataset (0/1 shards):   0%|          | 0/1 [00:00<?, ? examples/s]"
      ],
      "application/vnd.jupyter.widget-view+json": {
       "version_major": 2,
       "version_minor": 0,
       "model_id": "1e64d5cf77ea4d0eaa8795f44b9ec5cc"
      }
     },
     "metadata": {},
     "output_type": "display_data"
    },
    {
     "data": {
      "text/plain": [
       "Saving the dataset (0/1 shards):   0%|          | 0/1 [00:00<?, ? examples/s]"
      ],
      "application/vnd.jupyter.widget-view+json": {
       "version_major": 2,
       "version_minor": 0,
       "model_id": "b435b053dc55498ba9f2b6615c431c36"
      }
     },
     "metadata": {},
     "output_type": "display_data"
    },
    {
     "name": "stderr",
     "output_type": "stream",
     "text": [
      "0batch [00:00, ?batch/s]"
     ]
    },
    {
     "name": "stdout",
     "output_type": "stream",
     "text": [
      "--------------------------------\n",
      "| batch_size        | 32       |\n",
      "| bc/               |          |\n",
      "|    batch          | 0        |\n",
      "|    ent_loss       | -0.00012 |\n",
      "|    entropy        | 0.12     |\n",
      "|    epoch          | 0        |\n",
      "|    l2_loss        | 0        |\n",
      "|    l2_norm        | 258      |\n",
      "|    loss           | 0.0772   |\n",
      "|    neglogp        | 0.0773   |\n",
      "|    prob_true_act  | 0.94     |\n",
      "|    samples_so_far | 32       |\n",
      "| rollout/          |          |\n",
      "|    return_max     | 500      |\n",
      "|    return_mean    | 500      |\n",
      "|    return_min     | 500      |\n",
      "|    return_std     | 0        |\n",
      "--------------------------------\n"
     ]
    },
    {
     "name": "stderr",
     "output_type": "stream",
     "text": [
      "254batch [00:01, 360.87batch/s]\n",
      "454batch [00:01, 444.07batch/s]\u001B[A"
     ]
    },
    {
     "name": "stdout",
     "output_type": "stream",
     "text": [
      "---------------------------------\n",
      "| batch_size        | 32        |\n",
      "| bc/               |           |\n",
      "|    batch          | 500       |\n",
      "|    ent_loss       | -0.000119 |\n",
      "|    entropy        | 0.119     |\n",
      "|    epoch          | 1         |\n",
      "|    l2_loss        | 0         |\n",
      "|    l2_norm        | 290       |\n",
      "|    loss           | 0.0571    |\n",
      "|    neglogp        | 0.0572    |\n",
      "|    prob_true_act  | 0.951     |\n",
      "|    samples_so_far | 16032     |\n",
      "| rollout/          |           |\n",
      "|    return_max     | 500       |\n",
      "|    return_mean    | 500       |\n",
      "|    return_min     | 500       |\n",
      "|    return_std     | 0         |\n",
      "---------------------------------\n"
     ]
    },
    {
     "name": "stderr",
     "output_type": "stream",
     "text": [
      "549batch [00:02, 188.95batch/s]\n",
      "795batch [00:03, 385.21batch/s]\u001B[A\n",
      "951batch [00:03, 464.50batch/s]\u001B[A"
     ]
    },
    {
     "name": "stdout",
     "output_type": "stream",
     "text": [
      "---------------------------------\n",
      "| batch_size        | 32        |\n",
      "| bc/               |           |\n",
      "|    batch          | 1000      |\n",
      "|    ent_loss       | -8.49e-05 |\n",
      "|    entropy        | 0.0849    |\n",
      "|    epoch          | 3         |\n",
      "|    l2_loss        | 0         |\n",
      "|    l2_norm        | 316       |\n",
      "|    loss           | 0.0689    |\n",
      "|    neglogp        | 0.069     |\n",
      "|    prob_true_act  | 0.951     |\n",
      "|    samples_so_far | 32032     |\n",
      "| rollout/          |           |\n",
      "|    return_max     | 500       |\n",
      "|    return_mean    | 500       |\n",
      "|    return_min     | 500       |\n",
      "|    return_std     | 0         |\n",
      "---------------------------------\n"
     ]
    },
    {
     "name": "stderr",
     "output_type": "stream",
     "text": [
      "1102batch [00:04, 246.00batch/s]\n",
      "1124batch [00:04, 256.98batch/s]\u001B[A\n"
     ]
    },
    {
     "name": "stdout",
     "output_type": "stream",
     "text": [
      "DAgger Training - Step 6000: Mean Reward = 500.0\n"
     ]
    },
    {
     "data": {
      "text/plain": [
       "Saving the dataset (0/1 shards):   0%|          | 0/1 [00:00<?, ? examples/s]"
      ],
      "application/vnd.jupyter.widget-view+json": {
       "version_major": 2,
       "version_minor": 0,
       "model_id": "ab7c1c92e48d4e78b6ac64a9e17517a0"
      }
     },
     "metadata": {},
     "output_type": "display_data"
    },
    {
     "data": {
      "text/plain": [
       "Saving the dataset (0/1 shards):   0%|          | 0/1 [00:00<?, ? examples/s]"
      ],
      "application/vnd.jupyter.widget-view+json": {
       "version_major": 2,
       "version_minor": 0,
       "model_id": "f8be8c4995694bab85d027e4fef4c141"
      }
     },
     "metadata": {},
     "output_type": "display_data"
    },
    {
     "data": {
      "text/plain": [
       "Saving the dataset (0/1 shards):   0%|          | 0/1 [00:00<?, ? examples/s]"
      ],
      "application/vnd.jupyter.widget-view+json": {
       "version_major": 2,
       "version_minor": 0,
       "model_id": "68df4e3d156d483a97fa79503ac38fea"
      }
     },
     "metadata": {},
     "output_type": "display_data"
    },
    {
     "name": "stderr",
     "output_type": "stream",
     "text": [
      "0batch [00:00, ?batch/s]"
     ]
    },
    {
     "name": "stdout",
     "output_type": "stream",
     "text": [
      "---------------------------------\n",
      "| batch_size        | 32        |\n",
      "| bc/               |           |\n",
      "|    batch          | 0         |\n",
      "|    ent_loss       | -7.41e-05 |\n",
      "|    entropy        | 0.0741    |\n",
      "|    epoch          | 0         |\n",
      "|    l2_loss        | 0         |\n",
      "|    l2_norm        | 322       |\n",
      "|    loss           | 0.079     |\n",
      "|    neglogp        | 0.079     |\n",
      "|    prob_true_act  | 0.948     |\n",
      "|    samples_so_far | 32        |\n",
      "| rollout/          |           |\n",
      "|    return_max     | 500       |\n",
      "|    return_mean    | 500       |\n",
      "|    return_min     | 500       |\n",
      "|    return_std     | 0         |\n",
      "---------------------------------\n"
     ]
    },
    {
     "name": "stderr",
     "output_type": "stream",
     "text": [
      "310batch [00:01, 393.71batch/s]\n",
      "463batch [00:01, 458.87batch/s]\u001B[A"
     ]
    },
    {
     "name": "stdout",
     "output_type": "stream",
     "text": [
      "---------------------------------\n",
      "| batch_size        | 32        |\n",
      "| bc/               |           |\n",
      "|    batch          | 500       |\n",
      "|    ent_loss       | -7.68e-05 |\n",
      "|    entropy        | 0.0768    |\n",
      "|    epoch          | 1         |\n",
      "|    l2_loss        | 0         |\n",
      "|    l2_norm        | 346       |\n",
      "|    loss           | 0.0402    |\n",
      "|    neglogp        | 0.0403    |\n",
      "|    prob_true_act  | 0.967     |\n",
      "|    samples_so_far | 16032     |\n",
      "| rollout/          |           |\n",
      "|    return_max     | 500       |\n",
      "|    return_mean    | 500       |\n",
      "|    return_min     | 500       |\n",
      "|    return_std     | 0         |\n",
      "---------------------------------\n"
     ]
    },
    {
     "name": "stderr",
     "output_type": "stream",
     "text": [
      "650batch [00:02, 273.35batch/s]\n",
      "956batch [00:03, 468.78batch/s]\u001B[A\n",
      "Epoch 2 of 4                   \u001B[A"
     ]
    },
    {
     "name": "stdout",
     "output_type": "stream",
     "text": [
      "---------------------------------\n",
      "| batch_size        | 32        |\n",
      "| bc/               |           |\n",
      "|    batch          | 1000      |\n",
      "|    ent_loss       | -6.12e-05 |\n",
      "|    entropy        | 0.0612    |\n",
      "|    epoch          | 3         |\n",
      "|    l2_loss        | 0         |\n",
      "|    l2_norm        | 370       |\n",
      "|    loss           | 0.0338    |\n",
      "|    neglogp        | 0.0338    |\n",
      "|    prob_true_act  | 0.973     |\n",
      "|    samples_so_far | 32032     |\n",
      "| rollout/          |           |\n",
      "|    return_max     | 500       |\n",
      "|    return_mean    | 500       |\n",
      "|    return_min     | 500       |\n",
      "|    return_std     | 0         |\n",
      "---------------------------------\n"
     ]
    },
    {
     "name": "stderr",
     "output_type": "stream",
     "text": [
      "1308batch [00:04, 396.32batch/s]\n",
      "1312batch [00:04, 272.80batch/s]\u001B[A\n"
     ]
    },
    {
     "name": "stdout",
     "output_type": "stream",
     "text": [
      "DAgger Training - Step 7000: Mean Reward = 500.0\n"
     ]
    },
    {
     "data": {
      "text/plain": [
       "Saving the dataset (0/1 shards):   0%|          | 0/1 [00:00<?, ? examples/s]"
      ],
      "application/vnd.jupyter.widget-view+json": {
       "version_major": 2,
       "version_minor": 0,
       "model_id": "a264bcf2f9734c859b5dce455466070d"
      }
     },
     "metadata": {},
     "output_type": "display_data"
    },
    {
     "data": {
      "text/plain": [
       "Saving the dataset (0/1 shards):   0%|          | 0/1 [00:00<?, ? examples/s]"
      ],
      "application/vnd.jupyter.widget-view+json": {
       "version_major": 2,
       "version_minor": 0,
       "model_id": "4b56671c988a4aa784e21a5793c76d86"
      }
     },
     "metadata": {},
     "output_type": "display_data"
    },
    {
     "data": {
      "text/plain": [
       "Saving the dataset (0/1 shards):   0%|          | 0/1 [00:00<?, ? examples/s]"
      ],
      "application/vnd.jupyter.widget-view+json": {
       "version_major": 2,
       "version_minor": 0,
       "model_id": "27cc4669b6274766b7f05917d0c43656"
      }
     },
     "metadata": {},
     "output_type": "display_data"
    },
    {
     "name": "stderr",
     "output_type": "stream",
     "text": [
      "0batch [00:00, ?batch/s]"
     ]
    },
    {
     "name": "stdout",
     "output_type": "stream",
     "text": [
      "---------------------------------\n",
      "| batch_size        | 32        |\n",
      "| bc/               |           |\n",
      "|    batch          | 0         |\n",
      "|    ent_loss       | -4.69e-05 |\n",
      "|    entropy        | 0.0469    |\n",
      "|    epoch          | 0         |\n",
      "|    l2_loss        | 0         |\n",
      "|    l2_norm        | 384       |\n",
      "|    loss           | 0.0489    |\n",
      "|    neglogp        | 0.049     |\n",
      "|    prob_true_act  | 0.969     |\n",
      "|    samples_so_far | 32        |\n",
      "| rollout/          |           |\n",
      "|    return_max     | 500       |\n",
      "|    return_mean    | 500       |\n",
      "|    return_min     | 500       |\n",
      "|    return_std     | 0         |\n",
      "---------------------------------\n"
     ]
    },
    {
     "name": "stderr",
     "output_type": "stream",
     "text": [
      "350batch [00:01, 423.74batch/s]\n",
      "452batch [00:01, 463.60batch/s]\u001B[A"
     ]
    },
    {
     "name": "stdout",
     "output_type": "stream",
     "text": [
      "---------------------------------\n",
      "| batch_size        | 32        |\n",
      "| bc/               |           |\n",
      "|    batch          | 500       |\n",
      "|    ent_loss       | -9.64e-05 |\n",
      "|    entropy        | 0.0964    |\n",
      "|    epoch          | 1         |\n",
      "|    l2_loss        | 0         |\n",
      "|    l2_norm        | 402       |\n",
      "|    loss           | 0.0828    |\n",
      "|    neglogp        | 0.0829    |\n",
      "|    prob_true_act  | 0.942     |\n",
      "|    samples_so_far | 16032     |\n",
      "| rollout/          |           |\n",
      "|    return_max     | 500       |\n",
      "|    return_mean    | 500       |\n",
      "|    return_min     | 500       |\n",
      "|    return_std     | 0         |\n",
      "---------------------------------\n"
     ]
    },
    {
     "name": "stderr",
     "output_type": "stream",
     "text": [
      "749batch [00:02, 363.05batch/s]\n",
      "997batch [00:03, 458.44batch/s]\u001B[A"
     ]
    },
    {
     "name": "stdout",
     "output_type": "stream",
     "text": [
      "---------------------------------\n",
      "| batch_size        | 32        |\n",
      "| bc/               |           |\n",
      "|    batch          | 1000      |\n",
      "|    ent_loss       | -5.27e-05 |\n",
      "|    entropy        | 0.0527    |\n",
      "|    epoch          | 2         |\n",
      "|    l2_loss        | 0         |\n",
      "|    l2_norm        | 419       |\n",
      "|    loss           | 0.0364    |\n",
      "|    neglogp        | 0.0365    |\n",
      "|    prob_true_act  | 0.972     |\n",
      "|    samples_so_far | 32032     |\n",
      "| rollout/          |           |\n",
      "|    return_max     | 500       |\n",
      "|    return_mean    | 500       |\n",
      "|    return_min     | 500       |\n",
      "|    return_std     | 0         |\n",
      "---------------------------------\n"
     ]
    },
    {
     "name": "stderr",
     "output_type": "stream",
     "text": [
      "1090batch [00:04, 190.43batch/s]\n",
      "1479batch [00:05, 422.19batch/s]\u001B[A\n",
      "1500batch [00:05, 287.80batch/s]\u001B[A\n"
     ]
    },
    {
     "name": "stdout",
     "output_type": "stream",
     "text": [
      "DAgger Training - Step 8000: Mean Reward = 500.0\n"
     ]
    }
   ],
   "execution_count": 6
  },
  {
   "cell_type": "code",
   "id": "b3e844a7",
   "metadata": {
    "ExecuteTime": {
     "end_time": "2025-07-25T13:20:35.563367Z",
     "start_time": "2025-07-25T13:20:35.451249Z"
    }
   },
   "source": [
    "# Plot the rewards for Regular A2C Training and DAgger Training\n",
    "plt.figure(figsize=(10, 6))\n",
    "plt.plot(range(0, 10000, 1000), regular_rewards, label=\"A2C Regular Training\", marker=\"o\")\n",
    "plt.plot(range(0, 8000, 1000), dagger_rewards, label=\"DAgger Training\", marker=\"o\")\n",
    "\n",
    "plt.xlabel(\"Timesteps\")\n",
    "plt.ylabel(\"Mean Reward\")\n",
    "plt.title(\"Comparison of A2C and DAgger Training Rewards\")\n",
    "plt.legend()\n",
    "\n",
    "plt.grid(True)\n",
    "plt.show()"
   ],
   "outputs": [
    {
     "data": {
      "text/plain": [
       "<Figure size 1000x600 with 1 Axes>"
      ],
      "image/png": "[encoded data removed]"
     },
     "metadata": {},
     "output_type": "display_data"
    }
   ],
   "execution_count": 7
  },
  {
   "cell_type": "markdown",
   "id": "efd02210",
   "metadata": {},
   "source": [
    "# Training a GAIL Model Using an Expert Policy\n",
    "\n",
    "In this section, we walk through the process of setting up and training a **Generative Adversarial Imitation Learning (GAIL)** model using a pre-trained expert in environments such as `CartPole-v1`, `Pendulum-v0`, and `BipedalWalker-v3`.\n",
    "\n",
    "The full pipeline includes:\n",
    "- Setting up directories and configurations,\n",
    "- Loading and validating the environment,\n",
    "- Initializing expert and GAIL models,\n",
    "- Training GAIL using the expert’s behavior,\n",
    "- Saving the final results and model weights.\n",
    "\n",
    "## Summary\n",
    "\n",
    "This pipeline implements a complete imitation learning workflow using GAIL. The process involves:\n",
    "- Setting up a Gym-compatible environment,\n",
    "- Loading a pre-trained expert model,\n",
    "- Training a GAIL agent to mimic the expert,\n",
    "- Storing the training results and model artifacts.\n",
    "\n",
    "By following this structure, we can compare GAIL's performance to reinforcement learning approaches like PPO or A2C, and evaluate the efficiency of learning from demonstrations.\n",
    "\n",
    "---\n"
   ]
  },
  {
   "cell_type": "markdown",
   "id": "4cf3e0d3",
   "metadata": {},
   "source": [
    "### **1. `setup_directories(env_name)`** (5 Points)\n",
    "\n",
    "\n",
    "This function handles directory setup and expert configuration:\n",
    "- Creates a base checkpoint directory (`ckpts/`).\n",
    "- Validates if the provided environment name is supported.\n",
    "- Loads the expert model configuration from a JSON file.\n",
    "- Creates a subdirectory for storing environment-specific checkpoints.\n",
    "\n",
    "**Purpose:** Prepare the file system and load settings for the expert model."
   ]
  },
  {
   "cell_type": "code",
   "id": "6a08ebd1",
   "metadata": {
    "ExecuteTime": {
     "end_time": "2025-07-25T13:20:35.579945Z",
     "start_time": "2025-07-25T13:20:35.574861Z"
    }
   },
   "source": [
    "def setup_directories(env_name):\n",
    "    output_ckpt_path = \"ckpts\"\n",
    "    if not os.path.isdir(output_ckpt_path):\n",
    "        os.mkdir(output_ckpt_path)\n",
    "\n",
    "    if env_name not in [\"CartPole-v1\", \"Pendulum-v0\", \"BipedalWalker-v3\"]:\n",
    "        print(\"The environment name is wrong!\")\n",
    "        return None, None, None\n",
    "\n",
    "    expert_ckpt_path = os.path.join(\"experts\", env_name)\n",
    "\n",
    "    expert_config_path = os.path.join(expert_ckpt_path, \"model_config.json\")\n",
    "    if not os.path.isfile(expert_config_path):\n",
    "        print(f\"Expert config file not found at {expert_config_path}\")\n",
    "        return None, None, None\n",
    "\n",
    "    with open(expert_config_path, 'r') as f:\n",
    "        expert_config = json.load(f)\n",
    "\n",
    "    # Define the final output path for this specific run\n",
    "    final_output_path = os.path.join(output_ckpt_path, env_name)\n",
    "    if not os.path.isdir(final_output_path):\n",
    "        os.mkdir(final_output_path)\n",
    "\n",
    "    return expert_ckpt_path, expert_config, final_output_path"
   ],
   "outputs": [],
   "execution_count": 8
  },
  {
   "cell_type": "markdown",
   "id": "47a4cda3",
   "metadata": {},
   "source": [
    "### **2. `load_and_save_configs(expert_ckpt_path, ckpt_path, env_name)`** (10 Points)\n",
    "- Loads a general configuration file (`config.json`) that contains training hyperparameters specific to the environment.\n",
    "- Saves these configurations to the current checkpoint folder for logging and reproducibility.\n",
    "\n",
    "**Purpose:** Fetch and store hyperparameters needed for training the GAIL model."
   ]
  },
  {
   "cell_type": "code",
   "id": "9551c18e",
   "metadata": {
    "ExecuteTime": {
     "end_time": "2025-07-25T13:20:35.625094Z",
     "start_time": "2025-07-25T13:20:35.622443Z"
    }
   },
   "source": [
    "def load_and_save_configs(ckpt_path, env_name):\n",
    "    with open(\"config.json\", 'r') as f:\n",
    "        gail_config = json.load(f)[env_name]\n",
    "\n",
    "    with open(os.path.join(ckpt_path, \"config.json\"), 'w') as f:\n",
    "        json.dump(gail_config, f, indent=4)\n",
    "    return gail_config"
   ],
   "outputs": [],
   "execution_count": 9
  },
  {
   "cell_type": "markdown",
   "id": "57da1775",
   "metadata": {},
   "source": [
    "### **3. `setup_environment(env_name)`** (10 Points)\n",
    "\n",
    "- Initializes the chosen environment using OpenAI Gym.\n",
    "- Extracts the dimensions of the state and action spaces.\n",
    "- Checks whether the action space is discrete (e.g., CartPole) or continuous (e.g., Pendulum).\n",
    "\n",
    "**Purpose:** Provide key environment information for model initialization.\n"
   ]
  },
  {
   "cell_type": "code",
   "id": "9305537e",
   "metadata": {
    "ExecuteTime": {
     "end_time": "2025-07-25T13:20:35.672837Z",
     "start_time": "2025-07-25T13:20:35.669797Z"
    }
   },
   "source": [
    "def setup_environment(env_name):\n",
    "    # TODO: Verify that the environment is being created and reset properly\n",
    "    env = gym.make(env_name)\n",
    "    env.reset()\n",
    "\n",
    "    # TODO: Double-check the dimensions of state and action spaces for each environment\n",
    "    state_dim = len(env.observation_space.high)\n",
    "    if isinstance(env.action_space, gym.spaces.Discrete):\n",
    "        action_dim = env.action_space.n\n",
    "        discrete = True\n",
    "    else:\n",
    "        action_dim = env.action_space.shape[0]\n",
    "        discrete = False\n",
    "\n",
    "    return env, state_dim, action_dim, discrete"
   ],
   "outputs": [],
   "execution_count": 10
  },
  {
   "cell_type": "markdown",
   "id": "45678fbc",
   "metadata": {},
   "source": [
    "### **4. `setup_device()`** (+5 Points for running on GPU)\n",
    "- Checks if a GPU (`cuda`) is available.\n",
    "- Falls back to CPU if GPU is not detected.\n",
    "\n",
    "**Purpose:** Ensure the training runs on the optimal hardware available.\n"
   ]
  },
  {
   "cell_type": "code",
   "id": "97a6533c",
   "metadata": {
    "ExecuteTime": {
     "end_time": "2025-07-25T13:20:35.731303Z",
     "start_time": "2025-07-25T13:20:35.726980Z"
    }
   },
   "source": [
    "def setup_device():\n",
    "    # TODO: Ensure device compatibility and fallback to CPU if no GPU available\n",
    "    device = torch.device(\"cuda\" if torch.cuda.is_available() else \"cpu\")\n",
    "    return device"
   ],
   "outputs": [],
   "execution_count": 11
  },
  {
   "cell_type": "markdown",
   "id": "b1c6e95b",
   "metadata": {},
   "source": [
    "### **5. `initialize_expert(...)`** (15 Points)\n",
    "\n",
    "- Initializes an `Expert` model using its architecture config and environment dimensions.\n",
    "- Loads pre-trained policy weights (`policy.ckpt`) from the expert checkpoint.\n",
    "\n",
    "**Purpose:** Prepare a high-performance expert model whose behavior GAIL will learn to imitate."
   ]
  },
  {
   "metadata": {
    "ExecuteTime": {
     "end_time": "2025-07-25T13:20:35.789785Z",
     "start_time": "2025-07-25T13:20:35.785391Z"
    }
   },
   "cell_type": "code",
   "source": [
    "# !git clone https://github.com/hcnoh/gail-pytorch.git\n",
    "# !mv gail-pytorch/* ./"
   ],
   "id": "6e6174f68e644a59",
   "outputs": [],
   "execution_count": 12
  },
  {
   "metadata": {
    "ExecuteTime": {
     "end_time": "2025-07-25T13:20:35.851174Z",
     "start_time": "2025-07-25T13:20:35.843153Z"
    }
   },
   "cell_type": "code",
   "source": [
    "from models.gail import GAIL\n",
    "from models.nets import Expert"
   ],
   "id": "ac193191ffea52a",
   "outputs": [],
   "execution_count": 13
  },
  {
   "cell_type": "code",
   "id": "7cde7652",
   "metadata": {
    "ExecuteTime": {
     "end_time": "2025-07-25T13:20:35.904259Z",
     "start_time": "2025-07-25T13:20:35.900305Z"
    }
   },
   "source": [
    "def initialize_expert(expert_ckpt_path, state_dim, action_dim, discrete, expert_config, device):\n",
    "    # TODO: Confirm that the Expert class is loaded with the correct parameters\n",
    "    # TODO: Ensure that the policy checkpoint for the expert is available\n",
    "    expert = Expert(\n",
    "        state_dim=state_dim,\n",
    "        action_dim=action_dim,\n",
    "        discrete=discrete,\n",
    "        **expert_config\n",
    "    ).to(device)\n",
    "    expert_ckpt_path = os.path.join(expert_ckpt_path, \"policy.ckpt\")\n",
    "    expert.pi.load_state_dict(torch.load(expert_ckpt_path, map_location=device))\n",
    "    return expert"
   ],
   "outputs": [],
   "execution_count": 14
  },
  {
   "cell_type": "markdown",
   "id": "95af9d8f",
   "metadata": {},
   "source": [
    "### **6. `initialize_gail_model(...)`** (15 Points)\n",
    "- Initializes the `GAIL` model using environment specs and configuration parameters.\n",
    "- The model includes a policy, value function, and discriminator.\n",
    "\n",
    "**Purpose:** Set up the GAIL agent that learns by interacting with the environment and distinguishing between expert and learner behavior.\n"
   ]
  },
  {
   "cell_type": "code",
   "id": "b86d7ec1",
   "metadata": {
    "ExecuteTime": {
     "end_time": "2025-07-25T13:20:35.949845Z",
     "start_time": "2025-07-25T13:20:35.947718Z"
    }
   },
   "source": [
    "def initialize_gail_model(state_dim, action_dim, discrete, config, device):\n",
    "    # TODO: Verify that the GAIL model is initialized correctly with the config\n",
    "    return GAIL(\n",
    "        state_dim=state_dim,\n",
    "        action_dim=action_dim,\n",
    "        discrete=discrete,\n",
    "        train_config=config\n",
    "    )"
   ],
   "outputs": [],
   "execution_count": 15
  },
  {
   "cell_type": "markdown",
   "id": "3967f575",
   "metadata": {},
   "source": [
    "### **7. `train_gail_model(model, env, expert)`** (20 Points)\n",
    "- Runs the training loop for the GAIL agent.\n",
    "- The GAIL model tries to imitate the expert by fooling the discriminator into thinking the learner’s actions come from the expert.\n",
    "\n",
    "**Purpose:** Train the policy using imitation learning via adversarial training.\n"
   ]
  },
  {
   "cell_type": "code",
   "id": "bb6cc0c0",
   "metadata": {
    "ExecuteTime": {
     "end_time": "2025-07-25T13:20:36.005860Z",
     "start_time": "2025-07-25T13:20:36.003743Z"
    }
   },
   "source": [
    "def train_gail_model(model, env, expert):\n",
    "    return model.train(env=env,expert=expert)"
   ],
   "outputs": [],
   "execution_count": 16
  },
  {
   "cell_type": "markdown",
   "id": "a94c5b6d",
   "metadata": {},
   "source": [
    "### **8. `save_results_and_checkpoints(...)`** (+5 Points)\n",
    "- Saves training results (e.g., episode returns) as a pickle file.\n",
    "- Saves the weights of the trained components: policy, value network, and discriminator.\n",
    "\n",
    "**Purpose:** Store the final model and results for evaluation and future use.\n"
   ]
  },
  {
   "cell_type": "code",
   "id": "0e18dafa",
   "metadata": {
    "ExecuteTime": {
     "end_time": "2025-07-25T13:20:36.064251Z",
     "start_time": "2025-07-25T13:20:36.061107Z"
    }
   },
   "source": [
    "def save_results_and_checkpoints(ckpt_path, results, model):\n",
    "    # TODO: Confirm that training results are serialized correctly\n",
    "    # TODO: Confirm that the model weights are saved correctly for each component\n",
    "    with open(os.path.join(ckpt_path, \"results.pkl\"), 'wb') as f:\n",
    "        pickle.dump(results, f)\n",
    "\n",
    "    torch.save(model.pi.state_dict(), os.path.join(ckpt_path, \"policy.ckpt\"))\n",
    "    torch.save(model.v.state_dict(), os.path.join(ckpt_path, \"value.ckpt\"))\n",
    "    torch.save(model.d.state_dict(), os.path.join(ckpt_path, \"discriminator.ckpt\"))"
   ],
   "outputs": [],
   "execution_count": 17
  },
  {
   "cell_type": "markdown",
   "id": "3c10ba5b",
   "metadata": {},
   "source": [
    "### 9. **`main()`** (25 Points)\n",
    "- The main function orchestrates the entire GAIL training process.\n",
    "- It calls all the above functions in sequence to set up directories, load configurations, initialize models, train the GAIL agent, and save results.\n"
   ]
  },
  {
   "cell_type": "code",
   "id": "7ca58aa5",
   "metadata": {
    "ExecuteTime": {
     "end_time": "2025-07-25T13:20:36.127377Z",
     "start_time": "2025-07-25T13:20:36.120626Z"
    }
   },
   "source": [
    "def main(env_name):\n",
    "    expert_ckpt_path, expert_config, output_path = setup_directories(env_name)\n",
    "    if not expert_ckpt_path:\n",
    "        return None\n",
    "\n",
    "    gail_config = load_and_save_configs(output_path, env_name)\n",
    "\n",
    "    env, state_dim, action_dim, discrete = setup_environment(env_name)\n",
    "    device = setup_device()\n",
    "\n",
    "    # print(state_dim, action_dim, discrete)\n",
    "    # print(env.reset())\n",
    "    expert = initialize_expert(expert_ckpt_path, state_dim, action_dim, discrete, expert_config, device)\n",
    "    model = initialize_gail_model(state_dim, action_dim, discrete, gail_config, device)\n",
    "\n",
    "    results = train_gail_model(model, env, expert)\n",
    "    env.close()\n",
    "    save_results_and_checkpoints(output_path, results, model)\n",
    "\n",
    "    return results"
   ],
   "outputs": [],
   "execution_count": 18
  },
  {
   "cell_type": "markdown",
   "id": "33ca5295",
   "metadata": {},
   "source": [
    "### 10. **`run_gail(env_name)`** (+5 Points if using parse_args)\n",
    "- This function serves as the entry point for running the GAIL training pipeline.\n",
    "- It accepts an environment name as input and executes the entire GAIL training process.\n"
   ]
  },
  {
   "metadata": {
    "ExecuteTime": {
     "end_time": "2025-07-25T13:26:26.994560Z",
     "start_time": "2025-07-25T13:20:36.177214Z"
    }
   },
   "cell_type": "code",
   "source": [
    "# TODO: Ensure that the command-line arguments are parsed correctly\n",
    "# parser = ...\n",
    "# args = parser.parse_args()\n",
    "\n",
    "choices = [\"CartPole-v1\", \"Pendulum-v0\", \"BipedalWalker-v3\"]\n",
    "\n",
    "# parser = argparse.ArgumentParser(description=\"Run GAIL training\")\n",
    "# parser.add_argument(\"--env_name\",\n",
    "#                     type=str,\n",
    "#                     default=\"CartPole-v1\",\n",
    "#                     help=\"Name of the environment to train on\",\n",
    "#                     choices=[\"CartPole-v1\", \"BipedalWalker-v3\", \"Pendulum-v0\"])\n",
    "# env_name = parser.parse_args().env_name\n",
    "env_name = choices[0]\n",
    "# Run the Main Function\n",
    "# TODO: Verify that the correct environment name is passed to the main function\n",
    "if __name__ == \"__main__\":\n",
    "    print(f\"Running GAIL training on environment: {env_name}\")\n",
    "    results = main(env_name)\n",
    "\n",
    "    # Plotting the results\n",
    "    if results:\n",
    "        expert_reward, agent_rewards = results\n",
    "\n",
    "        plt.figure(figsize=(10, 6))\n",
    "        plt.plot(agent_rewards, label=\"GAIL Agent Reward\", marker=\"o\")\n",
    "        plt.axhline(y=expert_reward, color='r', linestyle='--', label=\"Expert Reward\")\n",
    "        plt.xlabel(\"Iteration\")\n",
    "        plt.ylabel(\"Mean Reward\")\n",
    "        plt.title(\"GAIL Training Progress\")\n",
    "        plt.legend()\n",
    "        plt.grid(True)\n",
    "        plt.show()"
   ],
   "id": "1e6bf3f534bb7503",
   "outputs": [
    {
     "name": "stdout",
     "output_type": "stream",
     "text": [
      "Running GAIL training on environment: CartPole-v1\n",
      "[500.0, 500.0, 500.0, 500.0]\n",
      "HI\n",
      "Expert Reward Mean: 500.0\n",
      "Iterations: 1,   Reward Mean: 20.306122448979593\n",
      "Iterations: 2,   Reward Mean: 27.315068493150687\n",
      "Iterations: 3,   Reward Mean: 31.109375\n",
      "Iterations: 4,   Reward Mean: 44.90909090909091\n",
      "Iterations: 5,   Reward Mean: 79.92\n",
      "Iterations: 6,   Reward Mean: 116.76470588235294\n",
      "Iterations: 7,   Reward Mean: 192.8\n",
      "Iterations: 8,   Reward Mean: 260.85714285714283\n",
      "Iterations: 9,   Reward Mean: 461.75\n",
      "Iterations: 10,   Reward Mean: 313.8\n",
      "Iterations: 11,   Reward Mean: 385.6\n",
      "Iterations: 12,   Reward Mean: 297.6666666666667\n",
      "Iterations: 13,   Reward Mean: 409.5\n",
      "Iterations: 14,   Reward Mean: 397.0\n",
      "Iterations: 15,   Reward Mean: 395.0\n",
      "Iterations: 16,   Reward Mean: 363.0\n",
      "Iterations: 17,   Reward Mean: 469.25\n",
      "Iterations: 18,   Reward Mean: 284.7142857142857\n",
      "Iterations: 19,   Reward Mean: 354.8\n",
      "Iterations: 20,   Reward Mean: 457.0\n",
      "Iterations: 21,   Reward Mean: 474.0\n",
      "Iterations: 22,   Reward Mean: 494.25\n",
      "Iterations: 23,   Reward Mean: 430.5\n",
      "Iterations: 24,   Reward Mean: 372.6\n",
      "Iterations: 25,   Reward Mean: 336.4\n",
      "Iterations: 26,   Reward Mean: 327.8333333333333\n",
      "Iterations: 27,   Reward Mean: 309.6666666666667\n",
      "Iterations: 28,   Reward Mean: 394.8\n",
      "Iterations: 29,   Reward Mean: 381.0\n",
      "Iterations: 30,   Reward Mean: 338.8\n",
      "Iterations: 31,   Reward Mean: 353.8\n",
      "Iterations: 32,   Reward Mean: 284.8333333333333\n",
      "Iterations: 33,   Reward Mean: 321.0\n",
      "Iterations: 34,   Reward Mean: 227.375\n",
      "Iterations: 35,   Reward Mean: 235.625\n",
      "Iterations: 36,   Reward Mean: 242.375\n",
      "Iterations: 37,   Reward Mean: 212.125\n",
      "Iterations: 38,   Reward Mean: 304.8333333333333\n",
      "Iterations: 39,   Reward Mean: 202.77777777777777\n",
      "Iterations: 40,   Reward Mean: 177.0909090909091\n",
      "Iterations: 41,   Reward Mean: 313.1666666666667\n",
      "Iterations: 42,   Reward Mean: 266.85714285714283\n",
      "Iterations: 43,   Reward Mean: 242.0\n",
      "Iterations: 44,   Reward Mean: 258.8333333333333\n",
      "Iterations: 45,   Reward Mean: 359.6\n",
      "Iterations: 46,   Reward Mean: 356.6\n",
      "Iterations: 47,   Reward Mean: 327.6666666666667\n",
      "Iterations: 48,   Reward Mean: 273.14285714285717\n",
      "Iterations: 49,   Reward Mean: 367.8\n",
      "Iterations: 50,   Reward Mean: 426.5\n",
      "Iterations: 51,   Reward Mean: 351.0\n",
      "Iterations: 52,   Reward Mean: 385.2\n",
      "Iterations: 53,   Reward Mean: 325.3333333333333\n",
      "Iterations: 54,   Reward Mean: 216.66666666666666\n",
      "Iterations: 55,   Reward Mean: 327.8\n",
      "Iterations: 56,   Reward Mean: 285.14285714285717\n",
      "Iterations: 57,   Reward Mean: 249.42857142857142\n",
      "Iterations: 58,   Reward Mean: 423.25\n",
      "Iterations: 59,   Reward Mean: 473.0\n",
      "Iterations: 60,   Reward Mean: 500.0\n",
      "Iterations: 61,   Reward Mean: 500.0\n",
      "Iterations: 62,   Reward Mean: 500.0\n",
      "Iterations: 63,   Reward Mean: 500.0\n",
      "Iterations: 64,   Reward Mean: 500.0\n",
      "Iterations: 65,   Reward Mean: 490.25\n",
      "Iterations: 66,   Reward Mean: 500.0\n",
      "Iterations: 67,   Reward Mean: 500.0\n",
      "Iterations: 68,   Reward Mean: 500.0\n",
      "Iterations: 69,   Reward Mean: 500.0\n",
      "Iterations: 70,   Reward Mean: 500.0\n",
      "Iterations: 71,   Reward Mean: 500.0\n",
      "Iterations: 72,   Reward Mean: 500.0\n",
      "Iterations: 73,   Reward Mean: 500.0\n",
      "Iterations: 74,   Reward Mean: 500.0\n",
      "Iterations: 75,   Reward Mean: 500.0\n",
      "Iterations: 76,   Reward Mean: 500.0\n",
      "Iterations: 77,   Reward Mean: 500.0\n",
      "Iterations: 78,   Reward Mean: 500.0\n",
      "Iterations: 79,   Reward Mean: 500.0\n",
      "Iterations: 80,   Reward Mean: 500.0\n",
      "Iterations: 81,   Reward Mean: 500.0\n",
      "Iterations: 82,   Reward Mean: 500.0\n",
      "Iterations: 83,   Reward Mean: 500.0\n",
      "Iterations: 84,   Reward Mean: 500.0\n",
      "Iterations: 85,   Reward Mean: 500.0\n",
      "Iterations: 86,   Reward Mean: 500.0\n",
      "Iterations: 87,   Reward Mean: 500.0\n",
      "Iterations: 88,   Reward Mean: 500.0\n",
      "Iterations: 89,   Reward Mean: 482.5\n",
      "Iterations: 90,   Reward Mean: 498.5\n",
      "Iterations: 91,   Reward Mean: 500.0\n",
      "Iterations: 92,   Reward Mean: 500.0\n",
      "Iterations: 93,   Reward Mean: 500.0\n",
      "Iterations: 94,   Reward Mean: 500.0\n",
      "Iterations: 95,   Reward Mean: 500.0\n",
      "Iterations: 96,   Reward Mean: 500.0\n",
      "Iterations: 97,   Reward Mean: 500.0\n",
      "Iterations: 98,   Reward Mean: 500.0\n",
      "Iterations: 99,   Reward Mean: 500.0\n",
      "Iterations: 100,   Reward Mean: 500.0\n",
      "Iterations: 101,   Reward Mean: 500.0\n",
      "Iterations: 102,   Reward Mean: 489.0\n",
      "Iterations: 103,   Reward Mean: 500.0\n",
      "Iterations: 104,   Reward Mean: 312.8333333333333\n",
      "Iterations: 105,   Reward Mean: 396.75\n",
      "Iterations: 106,   Reward Mean: 500.0\n",
      "Iterations: 107,   Reward Mean: 394.6\n",
      "Iterations: 108,   Reward Mean: 489.5\n",
      "Iterations: 109,   Reward Mean: 488.75\n",
      "Iterations: 110,   Reward Mean: 400.75\n",
      "Iterations: 111,   Reward Mean: 500.0\n",
      "Iterations: 112,   Reward Mean: 490.0\n",
      "Iterations: 113,   Reward Mean: 500.0\n",
      "Iterations: 114,   Reward Mean: 500.0\n",
      "Iterations: 115,   Reward Mean: 500.0\n",
      "Iterations: 116,   Reward Mean: 500.0\n",
      "Iterations: 117,   Reward Mean: 500.0\n",
      "Iterations: 118,   Reward Mean: 500.0\n",
      "Iterations: 119,   Reward Mean: 500.0\n",
      "Iterations: 120,   Reward Mean: 436.5\n",
      "Iterations: 121,   Reward Mean: 500.0\n",
      "Iterations: 122,   Reward Mean: 500.0\n",
      "Iterations: 123,   Reward Mean: 500.0\n",
      "Iterations: 124,   Reward Mean: 500.0\n",
      "Iterations: 125,   Reward Mean: 500.0\n",
      "Iterations: 126,   Reward Mean: 500.0\n",
      "Iterations: 127,   Reward Mean: 500.0\n",
      "Iterations: 128,   Reward Mean: 500.0\n",
      "Iterations: 129,   Reward Mean: 500.0\n",
      "Iterations: 130,   Reward Mean: 500.0\n",
      "Iterations: 131,   Reward Mean: 352.6\n",
      "Iterations: 132,   Reward Mean: 500.0\n",
      "Iterations: 133,   Reward Mean: 500.0\n",
      "Iterations: 134,   Reward Mean: 500.0\n",
      "Iterations: 135,   Reward Mean: 500.0\n",
      "Iterations: 136,   Reward Mean: 425.5\n",
      "Iterations: 137,   Reward Mean: 500.0\n",
      "Iterations: 138,   Reward Mean: 500.0\n",
      "Iterations: 139,   Reward Mean: 500.0\n",
      "Iterations: 140,   Reward Mean: 500.0\n",
      "Iterations: 141,   Reward Mean: 500.0\n",
      "Iterations: 142,   Reward Mean: 500.0\n",
      "Iterations: 143,   Reward Mean: 441.0\n",
      "Iterations: 144,   Reward Mean: 500.0\n",
      "Iterations: 145,   Reward Mean: 500.0\n",
      "Iterations: 146,   Reward Mean: 383.4\n",
      "Iterations: 147,   Reward Mean: 500.0\n",
      "Iterations: 148,   Reward Mean: 500.0\n",
      "Iterations: 149,   Reward Mean: 330.3333333333333\n",
      "Iterations: 150,   Reward Mean: 419.25\n",
      "Iterations: 151,   Reward Mean: 500.0\n",
      "Iterations: 152,   Reward Mean: 500.0\n",
      "Iterations: 153,   Reward Mean: 500.0\n",
      "Iterations: 154,   Reward Mean: 500.0\n",
      "Iterations: 155,   Reward Mean: 448.0\n",
      "Iterations: 156,   Reward Mean: 487.25\n",
      "Iterations: 157,   Reward Mean: 500.0\n",
      "Iterations: 158,   Reward Mean: 462.25\n",
      "Iterations: 159,   Reward Mean: 500.0\n",
      "Iterations: 160,   Reward Mean: 500.0\n",
      "Iterations: 161,   Reward Mean: 500.0\n",
      "Iterations: 162,   Reward Mean: 500.0\n",
      "Iterations: 163,   Reward Mean: 500.0\n",
      "Iterations: 164,   Reward Mean: 500.0\n",
      "Iterations: 165,   Reward Mean: 500.0\n",
      "Iterations: 166,   Reward Mean: 500.0\n",
      "Iterations: 167,   Reward Mean: 500.0\n",
      "Iterations: 168,   Reward Mean: 500.0\n",
      "Iterations: 169,   Reward Mean: 500.0\n",
      "Iterations: 170,   Reward Mean: 500.0\n",
      "Iterations: 171,   Reward Mean: 456.25\n",
      "Iterations: 172,   Reward Mean: 482.0\n",
      "Iterations: 173,   Reward Mean: 500.0\n",
      "Iterations: 174,   Reward Mean: 386.75\n",
      "Iterations: 175,   Reward Mean: 500.0\n",
      "Iterations: 176,   Reward Mean: 496.5\n",
      "Iterations: 177,   Reward Mean: 500.0\n",
      "Iterations: 178,   Reward Mean: 300.8\n",
      "Iterations: 179,   Reward Mean: 326.1666666666667\n",
      "Iterations: 180,   Reward Mean: 441.25\n",
      "Iterations: 181,   Reward Mean: 475.25\n",
      "Iterations: 182,   Reward Mean: 500.0\n",
      "Iterations: 183,   Reward Mean: 436.5\n",
      "Iterations: 184,   Reward Mean: 500.0\n",
      "Iterations: 185,   Reward Mean: 464.75\n",
      "Iterations: 186,   Reward Mean: 365.2\n",
      "Iterations: 187,   Reward Mean: 469.75\n",
      "Iterations: 188,   Reward Mean: 466.75\n",
      "Iterations: 189,   Reward Mean: 488.5\n",
      "Iterations: 190,   Reward Mean: 463.5\n",
      "Iterations: 191,   Reward Mean: 481.25\n",
      "Iterations: 192,   Reward Mean: 500.0\n",
      "Iterations: 193,   Reward Mean: 453.25\n",
      "Iterations: 194,   Reward Mean: 346.4\n",
      "Iterations: 195,   Reward Mean: 455.75\n",
      "Iterations: 196,   Reward Mean: 379.4\n",
      "Iterations: 197,   Reward Mean: 389.4\n",
      "Iterations: 198,   Reward Mean: 327.1666666666667\n",
      "Iterations: 199,   Reward Mean: 332.3333333333333\n",
      "Iterations: 200,   Reward Mean: 409.5\n"
     ]
    },
    {
     "data": {
      "text/plain": [
       "<Figure size 1000x600 with 1 Axes>"
      ],
      "image/png": "[encoded data removed]"
     },
     "metadata": {},
     "output_type": "display_data"
    }
   ],
   "execution_count": 19
  },
  {
   "metadata": {},
   "cell_type": "markdown",
   "source": "provide a plot like below:",
   "id": "5b430165143559c5"
  },
  {
   "metadata": {},
   "cell_type": "markdown",
   "source": "![image.png](attachment:image.png)",
   "id": "fd652e34bbed4d04"
  },
  {
   "metadata": {},
   "cell_type": "markdown",
   "source": [
    "````\n",
    "\n"
   ],
   "id": "5f6dfb44d167ece3"
  }
 ],
 "metadata": {
  "kernelspec": {
   "display_name": "Python 3 (ipykernel)",
   "language": "python",
   "name": "python3"
  },
  "language_info": {
   "codemirror_mode": {
    "name": "ipython",
    "version": 3
   },
   "file_extension": ".py",
   "mimetype": "text/x-python",
   "name": "python",
   "nbconvert_exporter": "python",
   "pygments_lexer": "ipython3",
   "version": "3.11.5"
  }
 },
 "nbformat": 4,
 "nbformat_minor": 5
}
