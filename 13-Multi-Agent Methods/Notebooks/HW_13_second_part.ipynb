{
 "cells": [
  {
   "cell_type": "markdown",
   "id": "09cb63d3",
   "metadata": {
    "id": "s9PAzBIOgimq",
    "papermill": {
     "duration": 0.005805,
     "end_time": "2025-09-11T11:46:09.532233",
     "exception": false,
     "start_time": "2025-09-11T11:46:09.526428",
     "status": "completed"
    },
    "tags": []
   },
   "source": [
    "# Assignment: Implementing MADDPG with the TorchRL Toolkit\n",
    "In this task, you’ll implement the MADDPG algorithm — a method used to train multiple agents to learn and collaborate effectively.\n",
    "\n",
    "To make things smoother, we’ll be using TorchRL, a library that simplifies building and training RL agents.\n",
    "\n",
    "The assignment has two main goals:\n",
    "\n",
    "1. Help you understand the key ideas behind MADDPG, especially the idea of centralized training (agents learn together) and decentralized execution (they act independently).\n",
    "\n",
    "2. Introduce you to important TorchRL.\n",
    "\n",
    "We’ve already set up the basic structure for you. Your job is to complete the missing pieces marked as TODOs. Before each coding step, we’ll explain what the MADDPG concept is and how to apply it using the right TorchRL tools."
   ]
  },
  {
   "cell_type": "code",
   "execution_count": 1,
   "id": "de3a7488",
   "metadata": {
    "execution": {
     "iopub.execute_input": "2025-09-11T11:46:09.542383Z",
     "iopub.status.busy": "2025-09-11T11:46:09.542164Z",
     "iopub.status.idle": "2025-09-11T11:48:07.422570Z",
     "shell.execute_reply": "2025-09-11T11:48:07.421629Z"
    },
    "id": "A5sNEpyyr2qw",
    "papermill": {
     "duration": 117.887279,
     "end_time": "2025-09-11T11:48:07.424168",
     "exception": false,
     "start_time": "2025-09-11T11:46:09.536889",
     "status": "completed"
    },
    "tags": []
   },
   "outputs": [
    {
     "name": "stdout",
     "output_type": "stream",
     "text": [
      "Collecting torchrl\r\n",
      "  Downloading torchrl-0.9.2-cp311-cp311-manylinux_2_28_x86_64.whl.metadata (42 kB)\r\n",
      "\u001b[2K     \u001b[90m━━━━━━━━━━━━━━━━━━━━━━━━━━━━━━━━━━━━━━━━\u001b[0m \u001b[32m43.0/43.0 kB\u001b[0m \u001b[31m1.4 MB/s\u001b[0m eta \u001b[36m0:00:00\u001b[0m\r\n",
      "\u001b[?25hRequirement already satisfied: torch>=2.1.0 in /usr/local/lib/python3.11/dist-packages (from torchrl) (2.6.0+cu124)\r\n",
      "Requirement already satisfied: numpy in /usr/local/lib/python3.11/dist-packages (from torchrl) (1.26.4)\r\n",
      "Requirement already satisfied: packaging in /usr/local/lib/python3.11/dist-packages (from torchrl) (25.0)\r\n",
      "Requirement already satisfied: cloudpickle in /usr/local/lib/python3.11/dist-packages (from torchrl) (3.1.1)\r\n",
      "Collecting tensordict<0.10.0,>=0.9.0 (from torchrl)\r\n",
      "  Downloading tensordict-0.9.1-cp311-cp311-manylinux_2_28_x86_64.whl.metadata (9.3 kB)\r\n",
      "Requirement already satisfied: importlib_metadata in /usr/local/lib/python3.11/dist-packages (from tensordict<0.10.0,>=0.9.0->torchrl) (8.7.0)\r\n",
      "Requirement already satisfied: orjson in /usr/local/lib/python3.11/dist-packages (from tensordict<0.10.0,>=0.9.0->torchrl) (3.10.18)\r\n",
      "Collecting pyvers<0.2.0,>=0.1.0 (from tensordict<0.10.0,>=0.9.0->torchrl)\r\n",
      "  Downloading pyvers-0.1.0-py3-none-any.whl.metadata (5.4 kB)\r\n",
      "Requirement already satisfied: filelock in /usr/local/lib/python3.11/dist-packages (from torch>=2.1.0->torchrl) (3.18.0)\r\n",
      "Requirement already satisfied: typing-extensions>=4.10.0 in /usr/local/lib/python3.11/dist-packages (from torch>=2.1.0->torchrl) (4.14.0)\r\n",
      "Requirement already satisfied: networkx in /usr/local/lib/python3.11/dist-packages (from torch>=2.1.0->torchrl) (3.5)\r\n",
      "Requirement already satisfied: jinja2 in /usr/local/lib/python3.11/dist-packages (from torch>=2.1.0->torchrl) (3.1.6)\r\n",
      "Requirement already satisfied: fsspec in /usr/local/lib/python3.11/dist-packages (from torch>=2.1.0->torchrl) (2025.5.1)\r\n",
      "Collecting nvidia-cuda-nvrtc-cu12==12.4.127 (from torch>=2.1.0->torchrl)\r\n",
      "  Downloading nvidia_cuda_nvrtc_cu12-12.4.127-py3-none-manylinux2014_x86_64.whl.metadata (1.5 kB)\r\n",
      "Collecting nvidia-cuda-runtime-cu12==12.4.127 (from torch>=2.1.0->torchrl)\r\n",
      "  Downloading nvidia_cuda_runtime_cu12-12.4.127-py3-none-manylinux2014_x86_64.whl.metadata (1.5 kB)\r\n",
      "Collecting nvidia-cuda-cupti-cu12==12.4.127 (from torch>=2.1.0->torchrl)\r\n",
      "  Downloading nvidia_cuda_cupti_cu12-12.4.127-py3-none-manylinux2014_x86_64.whl.metadata (1.6 kB)\r\n",
      "Collecting nvidia-cudnn-cu12==9.1.0.70 (from torch>=2.1.0->torchrl)\r\n",
      "  Downloading nvidia_cudnn_cu12-9.1.0.70-py3-none-manylinux2014_x86_64.whl.metadata (1.6 kB)\r\n",
      "Collecting nvidia-cublas-cu12==12.4.5.8 (from torch>=2.1.0->torchrl)\r\n",
      "  Downloading nvidia_cublas_cu12-12.4.5.8-py3-none-manylinux2014_x86_64.whl.metadata (1.5 kB)\r\n",
      "Collecting nvidia-cufft-cu12==11.2.1.3 (from torch>=2.1.0->torchrl)\r\n",
      "  Downloading nvidia_cufft_cu12-11.2.1.3-py3-none-manylinux2014_x86_64.whl.metadata (1.5 kB)\r\n",
      "Collecting nvidia-curand-cu12==10.3.5.147 (from torch>=2.1.0->torchrl)\r\n",
      "  Downloading nvidia_curand_cu12-10.3.5.147-py3-none-manylinux2014_x86_64.whl.metadata (1.5 kB)\r\n",
      "Collecting nvidia-cusolver-cu12==11.6.1.9 (from torch>=2.1.0->torchrl)\r\n",
      "  Downloading nvidia_cusolver_cu12-11.6.1.9-py3-none-manylinux2014_x86_64.whl.metadata (1.6 kB)\r\n",
      "Collecting nvidia-cusparse-cu12==12.3.1.170 (from torch>=2.1.0->torchrl)\r\n",
      "  Downloading nvidia_cusparse_cu12-12.3.1.170-py3-none-manylinux2014_x86_64.whl.metadata (1.6 kB)\r\n",
      "Requirement already satisfied: nvidia-cusparselt-cu12==0.6.2 in /usr/local/lib/python3.11/dist-packages (from torch>=2.1.0->torchrl) (0.6.2)\r\n",
      "Requirement already satisfied: nvidia-nccl-cu12==2.21.5 in /usr/local/lib/python3.11/dist-packages (from torch>=2.1.0->torchrl) (2.21.5)\r\n",
      "Requirement already satisfied: nvidia-nvtx-cu12==12.4.127 in /usr/local/lib/python3.11/dist-packages (from torch>=2.1.0->torchrl) (12.4.127)\r\n",
      "Collecting nvidia-nvjitlink-cu12==12.4.127 (from torch>=2.1.0->torchrl)\r\n",
      "  Downloading nvidia_nvjitlink_cu12-12.4.127-py3-none-manylinux2014_x86_64.whl.metadata (1.5 kB)\r\n",
      "Requirement already satisfied: triton==3.2.0 in /usr/local/lib/python3.11/dist-packages (from torch>=2.1.0->torchrl) (3.2.0)\r\n",
      "Requirement already satisfied: sympy==1.13.1 in /usr/local/lib/python3.11/dist-packages (from torch>=2.1.0->torchrl) (1.13.1)\r\n",
      "Requirement already satisfied: mpmath<1.4,>=1.1.0 in /usr/local/lib/python3.11/dist-packages (from sympy==1.13.1->torch>=2.1.0->torchrl) (1.3.0)\r\n",
      "Requirement already satisfied: mkl_fft in /usr/local/lib/python3.11/dist-packages (from numpy->torchrl) (1.3.8)\r\n",
      "Requirement already satisfied: mkl_random in /usr/local/lib/python3.11/dist-packages (from numpy->torchrl) (1.2.4)\r\n",
      "Requirement already satisfied: mkl_umath in /usr/local/lib/python3.11/dist-packages (from numpy->torchrl) (0.1.1)\r\n",
      "Requirement already satisfied: mkl in /usr/local/lib/python3.11/dist-packages (from numpy->torchrl) (2025.2.0)\r\n",
      "Requirement already satisfied: tbb4py in /usr/local/lib/python3.11/dist-packages (from numpy->torchrl) (2022.2.0)\r\n",
      "Requirement already satisfied: mkl-service in /usr/local/lib/python3.11/dist-packages (from numpy->torchrl) (2.4.1)\r\n",
      "Requirement already satisfied: zipp>=3.20 in /usr/local/lib/python3.11/dist-packages (from importlib_metadata->tensordict<0.10.0,>=0.9.0->torchrl) (3.23.0)\r\n",
      "Requirement already satisfied: MarkupSafe>=2.0 in /usr/local/lib/python3.11/dist-packages (from jinja2->torch>=2.1.0->torchrl) (3.0.2)\r\n",
      "Requirement already satisfied: intel-openmp<2026,>=2024 in /usr/local/lib/python3.11/dist-packages (from mkl->numpy->torchrl) (2024.2.0)\r\n",
      "Requirement already satisfied: tbb==2022.* in /usr/local/lib/python3.11/dist-packages (from mkl->numpy->torchrl) (2022.2.0)\r\n",
      "Requirement already satisfied: tcmlib==1.* in /usr/local/lib/python3.11/dist-packages (from tbb==2022.*->mkl->numpy->torchrl) (1.4.0)\r\n",
      "Requirement already satisfied: intel-cmplr-lib-rt in /usr/local/lib/python3.11/dist-packages (from mkl_umath->numpy->torchrl) (2024.2.0)\r\n",
      "Requirement already satisfied: intel-cmplr-lib-ur==2024.2.0 in /usr/local/lib/python3.11/dist-packages (from intel-openmp<2026,>=2024->mkl->numpy->torchrl) (2024.2.0)\r\n",
      "Downloading torchrl-0.9.2-cp311-cp311-manylinux_2_28_x86_64.whl (1.4 MB)\r\n",
      "\u001b[2K   \u001b[90m━━━━━━━━━━━━━━━━━━━━━━━━━━━━━━━━━━━━━━━━\u001b[0m \u001b[32m1.4/1.4 MB\u001b[0m \u001b[31m22.1 MB/s\u001b[0m eta \u001b[36m0:00:00\u001b[0m\r\n",
      "\u001b[?25hDownloading tensordict-0.9.1-cp311-cp311-manylinux_2_28_x86_64.whl (427 kB)\r\n",
      "\u001b[2K   \u001b[90m━━━━━━━━━━━━━━━━━━━━━━━━━━━━━━━━━━━━━━━━\u001b[0m \u001b[32m427.5/427.5 kB\u001b[0m \u001b[31m22.9 MB/s\u001b[0m eta \u001b[36m0:00:00\u001b[0m\r\n",
      "\u001b[?25hDownloading nvidia_cublas_cu12-12.4.5.8-py3-none-manylinux2014_x86_64.whl (363.4 MB)\r\n",
      "\u001b[2K   \u001b[90m━━━━━━━━━━━━━━━━━━━━━━━━━━━━━━━━━━━━━━━━\u001b[0m \u001b[32m363.4/363.4 MB\u001b[0m \u001b[31m4.7 MB/s\u001b[0m eta \u001b[36m0:00:00\u001b[0m\r\n",
      "\u001b[?25hDownloading nvidia_cuda_cupti_cu12-12.4.127-py3-none-manylinux2014_x86_64.whl (13.8 MB)\r\n",
      "\u001b[2K   \u001b[90m━━━━━━━━━━━━━━━━━━━━━━━━━━━━━━━━━━━━━━━━\u001b[0m \u001b[32m13.8/13.8 MB\u001b[0m \u001b[31m94.0 MB/s\u001b[0m eta \u001b[36m0:00:00\u001b[0m\r\n",
      "\u001b[?25hDownloading nvidia_cuda_nvrtc_cu12-12.4.127-py3-none-manylinux2014_x86_64.whl (24.6 MB)\r\n",
      "\u001b[2K   \u001b[90m━━━━━━━━━━━━━━━━━━━━━━━━━━━━━━━━━━━━━━━━\u001b[0m \u001b[32m24.6/24.6 MB\u001b[0m \u001b[31m80.0 MB/s\u001b[0m eta \u001b[36m0:00:00\u001b[0m\r\n",
      "\u001b[?25hDownloading nvidia_cuda_runtime_cu12-12.4.127-py3-none-manylinux2014_x86_64.whl (883 kB)\r\n",
      "\u001b[2K   \u001b[90m━━━━━━━━━━━━━━━━━━━━━━━━━━━━━━━━━━━━━━━━\u001b[0m \u001b[32m883.7/883.7 kB\u001b[0m \u001b[31m45.4 MB/s\u001b[0m eta \u001b[36m0:00:00\u001b[0m\r\n",
      "\u001b[?25hDownloading nvidia_cudnn_cu12-9.1.0.70-py3-none-manylinux2014_x86_64.whl (664.8 MB)\r\n",
      "\u001b[2K   \u001b[90m━━━━━━━━━━━━━━━━━━━━━━━━━━━━━━━━━━━━━━━━\u001b[0m \u001b[32m664.8/664.8 MB\u001b[0m \u001b[31m2.1 MB/s\u001b[0m eta \u001b[36m0:00:00\u001b[0m\r\n",
      "\u001b[?25hDownloading nvidia_cufft_cu12-11.2.1.3-py3-none-manylinux2014_x86_64.whl (211.5 MB)\r\n",
      "\u001b[2K   \u001b[90m━━━━━━━━━━━━━━━━━━━━━━━━━━━━━━━━━━━━━━━━\u001b[0m \u001b[32m211.5/211.5 MB\u001b[0m \u001b[31m4.9 MB/s\u001b[0m eta \u001b[36m0:00:00\u001b[0m\r\n",
      "\u001b[?25hDownloading nvidia_curand_cu12-10.3.5.147-py3-none-manylinux2014_x86_64.whl (56.3 MB)\r\n",
      "\u001b[2K   \u001b[90m━━━━━━━━━━━━━━━━━━━━━━━━━━━━━━━━━━━━━━━━\u001b[0m \u001b[32m56.3/56.3 MB\u001b[0m \u001b[31m3.1 MB/s\u001b[0m eta \u001b[36m0:00:00\u001b[0m\r\n",
      "\u001b[?25hDownloading nvidia_cusolver_cu12-11.6.1.9-py3-none-manylinux2014_x86_64.whl (127.9 MB)\r\n",
      "\u001b[2K   \u001b[90m━━━━━━━━━━━━━━━━━━━━━━━━━━━━━━━━━━━━━━━━\u001b[0m \u001b[32m127.9/127.9 MB\u001b[0m \u001b[31m11.3 MB/s\u001b[0m eta \u001b[36m0:00:00\u001b[0m\r\n",
      "\u001b[?25hDownloading nvidia_cusparse_cu12-12.3.1.170-py3-none-manylinux2014_x86_64.whl (207.5 MB)\r\n",
      "\u001b[2K   \u001b[90m━━━━━━━━━━━━━━━━━━━━━━━━━━━━━━━━━━━━━━━━\u001b[0m \u001b[32m207.5/207.5 MB\u001b[0m \u001b[31m8.1 MB/s\u001b[0m eta \u001b[36m0:00:00\u001b[0m\r\n",
      "\u001b[?25hDownloading nvidia_nvjitlink_cu12-12.4.127-py3-none-manylinux2014_x86_64.whl (21.1 MB)\r\n",
      "\u001b[2K   \u001b[90m━━━━━━━━━━━━━━━━━━━━━━━━━━━━━━━━━━━━━━━━\u001b[0m \u001b[32m21.1/21.1 MB\u001b[0m \u001b[31m79.0 MB/s\u001b[0m eta \u001b[36m0:00:00\u001b[0m\r\n",
      "\u001b[?25hDownloading pyvers-0.1.0-py3-none-any.whl (10 kB)\r\n",
      "Installing collected packages: pyvers, nvidia-nvjitlink-cu12, nvidia-curand-cu12, nvidia-cufft-cu12, nvidia-cuda-runtime-cu12, nvidia-cuda-nvrtc-cu12, nvidia-cuda-cupti-cu12, nvidia-cublas-cu12, nvidia-cusparse-cu12, nvidia-cudnn-cu12, nvidia-cusolver-cu12, tensordict, torchrl\r\n",
      "  Attempting uninstall: nvidia-nvjitlink-cu12\r\n",
      "    Found existing installation: nvidia-nvjitlink-cu12 12.5.82\r\n",
      "    Uninstalling nvidia-nvjitlink-cu12-12.5.82:\r\n",
      "      Successfully uninstalled nvidia-nvjitlink-cu12-12.5.82\r\n",
      "  Attempting uninstall: nvidia-curand-cu12\r\n",
      "    Found existing installation: nvidia-curand-cu12 10.3.6.82\r\n",
      "    Uninstalling nvidia-curand-cu12-10.3.6.82:\r\n",
      "      Successfully uninstalled nvidia-curand-cu12-10.3.6.82\r\n",
      "  Attempting uninstall: nvidia-cufft-cu12\r\n",
      "    Found existing installation: nvidia-cufft-cu12 11.2.3.61\r\n",
      "    Uninstalling nvidia-cufft-cu12-11.2.3.61:\r\n",
      "      Successfully uninstalled nvidia-cufft-cu12-11.2.3.61\r\n",
      "  Attempting uninstall: nvidia-cuda-runtime-cu12\r\n",
      "    Found existing installation: nvidia-cuda-runtime-cu12 12.5.82\r\n",
      "    Uninstalling nvidia-cuda-runtime-cu12-12.5.82:\r\n",
      "      Successfully uninstalled nvidia-cuda-runtime-cu12-12.5.82\r\n",
      "  Attempting uninstall: nvidia-cuda-nvrtc-cu12\r\n",
      "    Found existing installation: nvidia-cuda-nvrtc-cu12 12.5.82\r\n",
      "    Uninstalling nvidia-cuda-nvrtc-cu12-12.5.82:\r\n",
      "      Successfully uninstalled nvidia-cuda-nvrtc-cu12-12.5.82\r\n",
      "  Attempting uninstall: nvidia-cuda-cupti-cu12\r\n",
      "    Found existing installation: nvidia-cuda-cupti-cu12 12.5.82\r\n",
      "    Uninstalling nvidia-cuda-cupti-cu12-12.5.82:\r\n",
      "      Successfully uninstalled nvidia-cuda-cupti-cu12-12.5.82\r\n",
      "  Attempting uninstall: nvidia-cublas-cu12\r\n",
      "    Found existing installation: nvidia-cublas-cu12 12.5.3.2\r\n",
      "    Uninstalling nvidia-cublas-cu12-12.5.3.2:\r\n",
      "      Successfully uninstalled nvidia-cublas-cu12-12.5.3.2\r\n",
      "  Attempting uninstall: nvidia-cusparse-cu12\r\n",
      "    Found existing installation: nvidia-cusparse-cu12 12.5.1.3\r\n",
      "    Uninstalling nvidia-cusparse-cu12-12.5.1.3:\r\n",
      "      Successfully uninstalled nvidia-cusparse-cu12-12.5.1.3\r\n",
      "  Attempting uninstall: nvidia-cudnn-cu12\r\n",
      "    Found existing installation: nvidia-cudnn-cu12 9.3.0.75\r\n",
      "    Uninstalling nvidia-cudnn-cu12-9.3.0.75:\r\n",
      "      Successfully uninstalled nvidia-cudnn-cu12-9.3.0.75\r\n",
      "  Attempting uninstall: nvidia-cusolver-cu12\r\n",
      "    Found existing installation: nvidia-cusolver-cu12 11.6.3.83\r\n",
      "    Uninstalling nvidia-cusolver-cu12-11.6.3.83:\r\n",
      "      Successfully uninstalled nvidia-cusolver-cu12-11.6.3.83\r\n",
      "Successfully installed nvidia-cublas-cu12-12.4.5.8 nvidia-cuda-cupti-cu12-12.4.127 nvidia-cuda-nvrtc-cu12-12.4.127 nvidia-cuda-runtime-cu12-12.4.127 nvidia-cudnn-cu12-9.1.0.70 nvidia-cufft-cu12-11.2.1.3 nvidia-curand-cu12-10.3.5.147 nvidia-cusolver-cu12-11.6.1.9 nvidia-cusparse-cu12-12.3.1.170 nvidia-nvjitlink-cu12-12.4.127 pyvers-0.1.0 tensordict-0.9.1 torchrl-0.9.2\r\n",
      "Collecting vmas\r\n",
      "  Downloading vmas-1.5.0.tar.gz (217 kB)\r\n",
      "\u001b[2K     \u001b[90m━━━━━━━━━━━━━━━━━━━━━━━━━━━━━━━━━━━━━━━\u001b[0m \u001b[32m217.5/217.5 kB\u001b[0m \u001b[31m5.5 MB/s\u001b[0m eta \u001b[36m0:00:00\u001b[0m\r\n",
      "\u001b[?25h  Preparing metadata (setup.py) ... \u001b[?25l\u001b[?25hdone\r\n",
      "Requirement already satisfied: numpy in /usr/local/lib/python3.11/dist-packages (from vmas) (1.26.4)\r\n",
      "Requirement already satisfied: torch in /usr/local/lib/python3.11/dist-packages (from vmas) (2.6.0+cu124)\r\n",
      "Collecting pyglet<=1.5.27 (from vmas)\r\n",
      "  Downloading pyglet-1.5.27-py3-none-any.whl.metadata (7.6 kB)\r\n",
      "Requirement already satisfied: gym in /usr/local/lib/python3.11/dist-packages (from vmas) (0.25.2)\r\n",
      "Requirement already satisfied: six in /usr/local/lib/python3.11/dist-packages (from vmas) (1.17.0)\r\n",
      "Requirement already satisfied: cloudpickle>=1.2.0 in /usr/local/lib/python3.11/dist-packages (from gym->vmas) (3.1.1)\r\n",
      "Requirement already satisfied: gym-notices>=0.0.4 in /usr/local/lib/python3.11/dist-packages (from gym->vmas) (0.0.8)\r\n",
      "Requirement already satisfied: mkl_fft in /usr/local/lib/python3.11/dist-packages (from numpy->vmas) (1.3.8)\r\n",
      "Requirement already satisfied: mkl_random in /usr/local/lib/python3.11/dist-packages (from numpy->vmas) (1.2.4)\r\n",
      "Requirement already satisfied: mkl_umath in /usr/local/lib/python3.11/dist-packages (from numpy->vmas) (0.1.1)\r\n",
      "Requirement already satisfied: mkl in /usr/local/lib/python3.11/dist-packages (from numpy->vmas) (2025.2.0)\r\n",
      "Requirement already satisfied: tbb4py in /usr/local/lib/python3.11/dist-packages (from numpy->vmas) (2022.2.0)\r\n",
      "Requirement already satisfied: mkl-service in /usr/local/lib/python3.11/dist-packages (from numpy->vmas) (2.4.1)\r\n",
      "Requirement already satisfied: filelock in /usr/local/lib/python3.11/dist-packages (from torch->vmas) (3.18.0)\r\n",
      "Requirement already satisfied: typing-extensions>=4.10.0 in /usr/local/lib/python3.11/dist-packages (from torch->vmas) (4.14.0)\r\n",
      "Requirement already satisfied: networkx in /usr/local/lib/python3.11/dist-packages (from torch->vmas) (3.5)\r\n",
      "Requirement already satisfied: jinja2 in /usr/local/lib/python3.11/dist-packages (from torch->vmas) (3.1.6)\r\n",
      "Requirement already satisfied: fsspec in /usr/local/lib/python3.11/dist-packages (from torch->vmas) (2025.5.1)\r\n",
      "Requirement already satisfied: nvidia-cuda-nvrtc-cu12==12.4.127 in /usr/local/lib/python3.11/dist-packages (from torch->vmas) (12.4.127)\r\n",
      "Requirement already satisfied: nvidia-cuda-runtime-cu12==12.4.127 in /usr/local/lib/python3.11/dist-packages (from torch->vmas) (12.4.127)\r\n",
      "Requirement already satisfied: nvidia-cuda-cupti-cu12==12.4.127 in /usr/local/lib/python3.11/dist-packages (from torch->vmas) (12.4.127)\r\n",
      "Requirement already satisfied: nvidia-cudnn-cu12==9.1.0.70 in /usr/local/lib/python3.11/dist-packages (from torch->vmas) (9.1.0.70)\r\n",
      "Requirement already satisfied: nvidia-cublas-cu12==12.4.5.8 in /usr/local/lib/python3.11/dist-packages (from torch->vmas) (12.4.5.8)\r\n",
      "Requirement already satisfied: nvidia-cufft-cu12==11.2.1.3 in /usr/local/lib/python3.11/dist-packages (from torch->vmas) (11.2.1.3)\r\n",
      "Requirement already satisfied: nvidia-curand-cu12==10.3.5.147 in /usr/local/lib/python3.11/dist-packages (from torch->vmas) (10.3.5.147)\r\n",
      "Requirement already satisfied: nvidia-cusolver-cu12==11.6.1.9 in /usr/local/lib/python3.11/dist-packages (from torch->vmas) (11.6.1.9)\r\n",
      "Requirement already satisfied: nvidia-cusparse-cu12==12.3.1.170 in /usr/local/lib/python3.11/dist-packages (from torch->vmas) (12.3.1.170)\r\n",
      "Requirement already satisfied: nvidia-cusparselt-cu12==0.6.2 in /usr/local/lib/python3.11/dist-packages (from torch->vmas) (0.6.2)\r\n",
      "Requirement already satisfied: nvidia-nccl-cu12==2.21.5 in /usr/local/lib/python3.11/dist-packages (from torch->vmas) (2.21.5)\r\n",
      "Requirement already satisfied: nvidia-nvtx-cu12==12.4.127 in /usr/local/lib/python3.11/dist-packages (from torch->vmas) (12.4.127)\r\n",
      "Requirement already satisfied: nvidia-nvjitlink-cu12==12.4.127 in /usr/local/lib/python3.11/dist-packages (from torch->vmas) (12.4.127)\r\n",
      "Requirement already satisfied: triton==3.2.0 in /usr/local/lib/python3.11/dist-packages (from torch->vmas) (3.2.0)\r\n",
      "Requirement already satisfied: sympy==1.13.1 in /usr/local/lib/python3.11/dist-packages (from torch->vmas) (1.13.1)\r\n",
      "Requirement already satisfied: mpmath<1.4,>=1.1.0 in /usr/local/lib/python3.11/dist-packages (from sympy==1.13.1->torch->vmas) (1.3.0)\r\n",
      "Requirement already satisfied: MarkupSafe>=2.0 in /usr/local/lib/python3.11/dist-packages (from jinja2->torch->vmas) (3.0.2)\r\n",
      "Requirement already satisfied: intel-openmp<2026,>=2024 in /usr/local/lib/python3.11/dist-packages (from mkl->numpy->vmas) (2024.2.0)\r\n",
      "Requirement already satisfied: tbb==2022.* in /usr/local/lib/python3.11/dist-packages (from mkl->numpy->vmas) (2022.2.0)\r\n",
      "Requirement already satisfied: tcmlib==1.* in /usr/local/lib/python3.11/dist-packages (from tbb==2022.*->mkl->numpy->vmas) (1.4.0)\r\n",
      "Requirement already satisfied: intel-cmplr-lib-rt in /usr/local/lib/python3.11/dist-packages (from mkl_umath->numpy->vmas) (2024.2.0)\r\n",
      "Requirement already satisfied: intel-cmplr-lib-ur==2024.2.0 in /usr/local/lib/python3.11/dist-packages (from intel-openmp<2026,>=2024->mkl->numpy->vmas) (2024.2.0)\r\n",
      "Downloading pyglet-1.5.27-py3-none-any.whl (1.1 MB)\r\n",
      "\u001b[2K   \u001b[90m━━━━━━━━━━━━━━━━━━━━━━━━━━━━━━━━━━━━━━━━\u001b[0m \u001b[32m1.1/1.1 MB\u001b[0m \u001b[31m26.1 MB/s\u001b[0m eta \u001b[36m0:00:00\u001b[0m\r\n",
      "\u001b[?25hBuilding wheels for collected packages: vmas\r\n",
      "  Building wheel for vmas (setup.py) ... \u001b[?25l\u001b[?25hdone\r\n",
      "  Created wheel for vmas: filename=vmas-1.5.0-py3-none-any.whl size=257528 sha256=d83c65e69dde0fe20d608c2011e76a4f0e7974a60acc80b3dfc96413384779a3\r\n",
      "  Stored in directory: /root/.cache/pip/wheels/f1/ab/3b/f1eb0befe556b53a3f78b4780554c29dca0cb781fb664f6a81\r\n",
      "Successfully built vmas\r\n",
      "Installing collected packages: pyglet, vmas\r\n",
      "Successfully installed pyglet-1.5.27 vmas-1.5.0\r\n",
      "Requirement already satisfied: tqdm in /usr/local/lib/python3.11/dist-packages (4.67.1)\r\n",
      "Hit:1 http://archive.ubuntu.com/ubuntu jammy InRelease\r\n",
      "Get:2 http://security.ubuntu.com/ubuntu jammy-security InRelease [129 kB]\r\n",
      "Get:3 https://developer.download.nvidia.com/compute/cuda/repos/ubuntu2204/x86_64  InRelease [1,581 B]\r\n",
      "Get:4 http://archive.ubuntu.com/ubuntu jammy-updates InRelease [128 kB]\r\n",
      "Get:5 https://cloud.r-project.org/bin/linux/ubuntu jammy-cran40/ InRelease [3,632 B]\r\n",
      "Get:6 https://r2u.stat.illinois.edu/ubuntu jammy InRelease [6,555 B]\r\n",
      "Get:7 http://archive.ubuntu.com/ubuntu jammy-backports InRelease [127 kB]\r\n",
      "Get:8 https://developer.download.nvidia.com/compute/cuda/repos/ubuntu2204/x86_64  Packages [2,006 kB]\r\n",
      "Get:9 https://cloud.r-project.org/bin/linux/ubuntu jammy-cran40/ Packages [80.4 kB]\r\n",
      "Get:10 https://ppa.launchpadcontent.net/deadsnakes/ppa/ubuntu jammy InRelease [18.1 kB]\r\n",
      "Get:11 http://security.ubuntu.com/ubuntu jammy-security/main amd64 Packages [3,310 kB]\r\n",
      "Get:12 https://ppa.launchpadcontent.net/graphics-drivers/ppa/ubuntu jammy InRelease [24.3 kB]\r\n",
      "Get:13 https://r2u.stat.illinois.edu/ubuntu jammy/main all Packages [9,253 kB]\r\n",
      "Get:14 http://security.ubuntu.com/ubuntu jammy-security/multiverse amd64 Packages [48.5 kB]\r\n",
      "Get:15 http://security.ubuntu.com/ubuntu jammy-security/restricted amd64 Packages [5,374 kB]\r\n",
      "Hit:16 https://ppa.launchpadcontent.net/ubuntugis/ppa/ubuntu jammy InRelease\r\n",
      "Get:17 http://security.ubuntu.com/ubuntu jammy-security/universe amd64 Packages [1,273 kB]\r\n",
      "Get:18 http://archive.ubuntu.com/ubuntu jammy-updates/multiverse amd64 Packages [75.9 kB]\r\n",
      "Get:19 http://archive.ubuntu.com/ubuntu jammy-updates/universe amd64 Packages [1,581 kB]\r\n",
      "Get:20 http://archive.ubuntu.com/ubuntu jammy-updates/main amd64 Packages [3,623 kB]\r\n",
      "Get:21 https://r2u.stat.illinois.edu/ubuntu jammy/main amd64 Packages [2,792 kB]\r\n",
      "Get:22 http://archive.ubuntu.com/ubuntu jammy-updates/restricted amd64 Packages [5,560 kB]\r\n",
      "Get:23 http://archive.ubuntu.com/ubuntu jammy-backports/main amd64 Packages [83.2 kB]\r\n",
      "Get:24 http://archive.ubuntu.com/ubuntu jammy-backports/universe amd64 Packages [35.2 kB]\r\n",
      "Get:25 https://ppa.launchpadcontent.net/deadsnakes/ppa/ubuntu jammy/main amd64 Packages [33.2 kB]\r\n",
      "Get:26 https://ppa.launchpadcontent.net/graphics-drivers/ppa/ubuntu jammy/main amd64 Packages [43.0 kB]\r\n",
      "Fetched 35.6 MB in 3s (12.9 MB/s)\r\n",
      "\r\n",
      "W: Skipping acquire of configured file 'main/source/Sources' as repository 'https://r2u.stat.illinois.edu/ubuntu jammy InRelease' does not seem to provide it (sources.list entry misspelt?)\r\n",
      "\r\n",
      "\r\n",
      "\r\n",
      "libgl1-mesa-glx is already the newest version (23.0.4-0ubuntu1~22.04.1).\r\n",
      "xvfb is already the newest version (2:21.1.4-2ubuntu1.7~22.04.15).\r\n",
      "The following additional packages will be installed:\r\n",
      "  freeglut3 libxtst6 libxxf86dga1\r\n",
      "Suggested packages:\r\n",
      "  libgle3 python3-numpy mesa-utils\r\n",
      "The following NEW packages will be installed:\r\n",
      "  freeglut3 libglu1-mesa libxtst6 libxxf86dga1 python3-opengl x11-utils\r\n",
      "0 upgraded, 6 newly installed, 0 to remove and 155 not upgraded.\r\n",
      "Need to get 1,056 kB of archives.\r\n",
      "After this operation, 8,911 kB of additional disk space will be used.\r\n",
      "Get:1 http://archive.ubuntu.com/ubuntu jammy/universe amd64 freeglut3 amd64 2.8.1-6 [74.0 kB]\r\n",
      "Get:2 http://archive.ubuntu.com/ubuntu jammy/main amd64 libxtst6 amd64 2:1.2.3-1build4 [13.4 kB]\r\n",
      "Get:3 http://archive.ubuntu.com/ubuntu jammy/main amd64 libxxf86dga1 amd64 2:1.1.5-0ubuntu3 [12.6 kB]\r\n",
      "Get:4 http://archive.ubuntu.com/ubuntu jammy/main amd64 libglu1-mesa amd64 9.0.2-1 [145 kB]\r\n",
      "Get:5 http://archive.ubuntu.com/ubuntu jammy/universe amd64 python3-opengl all 3.1.5+dfsg-1 [605 kB]\r\n",
      "Get:6 http://archive.ubuntu.com/ubuntu jammy/main amd64 x11-utils amd64 7.7+5build2 [206 kB]\r\n",
      "Fetched 1,056 kB in 1s (1,009 kB/s)\r\n",
      "Selecting previously unselected package freeglut3:amd64.\r\n",
      "(Reading database ... 128663 files and directories currently installed.)\r\n",
      "Preparing to unpack .../0-freeglut3_2.8.1-6_amd64.deb ...\r\n",
      "Unpacking freeglut3:amd64 (2.8.1-6) ...\r\n",
      "Selecting previously unselected package libxtst6:amd64.\r\n",
      "Preparing to unpack .../1-libxtst6_2%3a1.2.3-1build4_amd64.deb ...\r\n",
      "Unpacking libxtst6:amd64 (2:1.2.3-1build4) ...\r\n",
      "Selecting previously unselected package libxxf86dga1:amd64.\r\n",
      "Preparing to unpack .../2-libxxf86dga1_2%3a1.1.5-0ubuntu3_amd64.deb ...\r\n",
      "Unpacking libxxf86dga1:amd64 (2:1.1.5-0ubuntu3) ...\r\n",
      "Selecting previously unselected package libglu1-mesa:amd64.\r\n",
      "Preparing to unpack .../3-libglu1-mesa_9.0.2-1_amd64.deb ...\r\n",
      "Unpacking libglu1-mesa:amd64 (9.0.2-1) ...\r\n",
      "Selecting previously unselected package python3-opengl.\r\n",
      "Preparing to unpack .../4-python3-opengl_3.1.5+dfsg-1_all.deb ...\r\n",
      "Unpacking python3-opengl (3.1.5+dfsg-1) ...\r\n",
      "Selecting previously unselected package x11-utils.\r\n",
      "Preparing to unpack .../5-x11-utils_7.7+5build2_amd64.deb ...\r\n",
      "Unpacking x11-utils (7.7+5build2) ...\r\n",
      "Setting up freeglut3:amd64 (2.8.1-6) ...\r\n",
      "Setting up libxtst6:amd64 (2:1.2.3-1build4) ...\r\n",
      "Setting up libxxf86dga1:amd64 (2:1.1.5-0ubuntu3) ...\r\n",
      "Setting up x11-utils (7.7+5build2) ...\r\n",
      "Setting up libglu1-mesa:amd64 (9.0.2-1) ...\r\n",
      "Setting up python3-opengl (3.1.5+dfsg-1) ...\r\n",
      "Processing triggers for libc-bin (2.35-0ubuntu3.8) ...\r\n",
      "/sbin/ldconfig.real: /usr/local/lib/libumf.so.0 is not a symbolic link\r\n",
      "\r\n",
      "/sbin/ldconfig.real: /usr/local/lib/libtcm_debug.so.1 is not a symbolic link\r\n",
      "\r\n",
      "/sbin/ldconfig.real: /usr/local/lib/libtcm.so.1 is not a symbolic link\r\n",
      "\r\n",
      "/sbin/ldconfig.real: /usr/local/lib/libhwloc.so.15 is not a symbolic link\r\n",
      "\r\n",
      "/sbin/ldconfig.real: /usr/local/lib/libur_loader.so.0 is not a symbolic link\r\n",
      "\r\n",
      "/sbin/ldconfig.real: /usr/local/lib/libur_adapter_level_zero.so.0 is not a symbolic link\r\n",
      "\r\n",
      "/sbin/ldconfig.real: /usr/local/lib/libur_adapter_opencl.so.0 is not a symbolic link\r\n",
      "\r\n",
      "/sbin/ldconfig.real: /usr/local/lib/libtbbbind_2_5.so.3 is not a symbolic link\r\n",
      "\r\n",
      "/sbin/ldconfig.real: /usr/local/lib/libtbbbind.so.3 is not a symbolic link\r\n",
      "\r\n",
      "/sbin/ldconfig.real: /usr/local/lib/libtbbbind_2_0.so.3 is not a symbolic link\r\n",
      "\r\n",
      "/sbin/ldconfig.real: /usr/local/lib/libtbb.so.12 is not a symbolic link\r\n",
      "\r\n",
      "/sbin/ldconfig.real: /usr/local/lib/libtbbmalloc_proxy.so.2 is not a symbolic link\r\n",
      "\r\n",
      "/sbin/ldconfig.real: /usr/local/lib/libtbbmalloc.so.2 is not a symbolic link\r\n",
      "\r\n",
      "Processing triggers for man-db (2.10.2-1) ...\r\n",
      "Collecting pyvirtualdisplay\r\n",
      "  Downloading PyVirtualDisplay-3.0-py3-none-any.whl.metadata (943 bytes)\r\n",
      "Downloading PyVirtualDisplay-3.0-py3-none-any.whl (15 kB)\r\n",
      "Installing collected packages: pyvirtualdisplay\r\n",
      "Successfully installed pyvirtualdisplay-3.0\r\n"
     ]
    }
   ],
   "source": [
    "# Install dependencies\n",
    "!pip3 install torchrl\n",
    "!pip3 install vmas\n",
    "!pip3 install tqdm\n",
    "!apt-get update -y\n",
    "!apt-get install -y x11-utils xvfb python3-opengl libgl1-mesa-glx libglu1-mesa\n",
    "!pip install pyvirtualdisplay"
   ]
  },
  {
   "cell_type": "markdown",
   "id": "be63d7c8",
   "metadata": {
    "id": "W7WYX8P0YGGy",
    "papermill": {
     "duration": 0.029084,
     "end_time": "2025-09-11T11:48:07.484066",
     "exception": false,
     "start_time": "2025-09-11T11:48:07.454982",
     "status": "completed"
    },
    "tags": []
   },
   "source": [
    "##Imports"
   ]
  },
  {
   "cell_type": "code",
   "execution_count": 2,
   "id": "35c4d2c4",
   "metadata": {
    "execution": {
     "iopub.execute_input": "2025-09-11T11:48:07.545536Z",
     "iopub.status.busy": "2025-09-11T11:48:07.545243Z",
     "iopub.status.idle": "2025-09-11T11:48:19.949532Z",
     "shell.execute_reply": "2025-09-11T11:48:19.948673Z"
    },
    "id": "ndJCvEKxX7IT",
    "papermill": {
     "duration": 12.435903,
     "end_time": "2025-09-11T11:48:19.950989",
     "exception": false,
     "start_time": "2025-09-11T11:48:07.515086",
     "status": "completed"
    },
    "tags": []
   },
   "outputs": [
    {
     "name": "stderr",
     "output_type": "stream",
     "text": [
      "/usr/local/lib/python3.11/dist-packages/torchrl/data/replay_buffers/samplers.py:36: UserWarning: Failed to import torchrl C++ binaries. Some modules (eg, prioritized replay buffers) may not work with your installation. This is likely due to a discrepancy between your package version and the PyTorch version. Make sure both are compatible. Usually, torchrl majors follow the pytorch majors within a few days around the release. For instance, TorchRL 0.5 requires PyTorch 2.4.0, and TorchRL 0.6 requires PyTorch 2.5.0.\n",
      "  warnings.warn(EXTENSION_WARNING)\n"
     ]
    },
    {
     "name": "stdout",
     "output_type": "stream",
     "text": [
      "Virtual display started.\n"
     ]
    }
   ],
   "source": [
    "import copy\n",
    "import tempfile\n",
    "import torch\n",
    "import torch.nn as nn\n",
    "from matplotlib import pyplot as plt\n",
    "import pyvirtualdisplay\n",
    "from PIL import Image\n",
    "import numpy as np\n",
    "\n",
    "from tensordict import TensorDictBase\n",
    "from tensordict.nn import TensorDictModule, TensorDictSequential\n",
    "from torch import multiprocessing\n",
    "from torchrl.collectors import SyncDataCollector\n",
    "from torchrl.data import LazyMemmapStorage, RandomSampler, ReplayBuffer\n",
    "from torchrl.envs import (\n",
    "    check_env_specs,\n",
    "    RewardSum,\n",
    "    TransformedEnv,\n",
    "    VmasEnv,\n",
    ")\n",
    "from torchrl.modules import (\n",
    "    AdditiveGaussianModule,\n",
    "    MLP,\n",
    "    ProbabilisticActor,\n",
    "    TanhDelta,\n",
    ")\n",
    "from torchrl.objectives import DDPGLoss, SoftUpdate, ValueEstimators\n",
    "from tqdm import tqdm\n",
    "\n",
    "# --- Setup Virtual Display ---\n",
    "try:\n",
    "    display = pyvirtualdisplay.Display(visible=False, size=(1400, 900))\n",
    "    display.start()\n",
    "    print(\"Virtual display started.\")\n",
    "except Exception as e:\n",
    "    print(f\"Could not start virtual display: {e}\")"
   ]
  },
  {
   "cell_type": "markdown",
   "id": "19ff4502",
   "metadata": {
    "id": "HTDTHy_qYbZj",
    "papermill": {
     "duration": 0.076246,
     "end_time": "2025-09-11T11:48:20.059025",
     "exception": false,
     "start_time": "2025-09-11T11:48:19.982779",
     "status": "completed"
    },
    "tags": []
   },
   "source": [
    "##Configuration"
   ]
  },
  {
   "cell_type": "code",
   "execution_count": 3,
   "id": "492fdb99",
   "metadata": {
    "execution": {
     "iopub.execute_input": "2025-09-11T11:48:20.119704Z",
     "iopub.status.busy": "2025-09-11T11:48:20.119000Z",
     "iopub.status.idle": "2025-09-11T11:48:20.208042Z",
     "shell.execute_reply": "2025-09-11T11:48:20.207180Z"
    },
    "id": "QLxkb6VXYKuu",
    "papermill": {
     "duration": 0.120634,
     "end_time": "2025-09-11T11:48:20.209178",
     "exception": false,
     "start_time": "2025-09-11T11:48:20.088544",
     "status": "completed"
    },
    "tags": []
   },
   "outputs": [
    {
     "name": "stdout",
     "output_type": "stream",
     "text": [
      "Using device: cuda:0\n"
     ]
    }
   ],
   "source": [
    "# General\n",
    "seed = 0\n",
    "is_fork = multiprocessing.get_start_method() == \"fork\"\n",
    "device = torch.device(0) if torch.cuda.is_available() and not is_fork else torch.device(\"cpu\")\n",
    "torch.manual_seed(seed)\n",
    "print(f\"Using device: {device}\")\n",
    "\n",
    "# Vmas Environment\n",
    "scenario_name = \"navigation\"\n",
    "n_agents = 3\n",
    "max_steps = 100  # Episode steps before done\n",
    "\n",
    "# Sampling\n",
    "frames_per_batch = 2000\n",
    "n_iters = 1500\n",
    "total_frames = frames_per_batch * n_iters\n",
    "num_vmas_envs = frames_per_batch // max_steps\n",
    "\n",
    "# Replay Buffer\n",
    "memory_size = 2_000_000\n",
    "\n",
    "# Training\n",
    "n_optimiser_steps = 10\n",
    "train_batch_size = 512\n",
    "lr = 3e-4\n",
    "max_grad_norm = 1.0\n",
    "\n",
    "# DDPG Algorithm\n",
    "gamma = 0.99\n",
    "polyak_tau = 0.005"
   ]
  },
  {
   "cell_type": "markdown",
   "id": "6bddcf84",
   "metadata": {
    "id": "eHe9QGlZYflY",
    "papermill": {
     "duration": 0.030744,
     "end_time": "2025-09-11T11:48:20.270861",
     "exception": false,
     "start_time": "2025-09-11T11:48:20.240117",
     "status": "completed"
    },
    "tags": []
   },
   "source": [
    "##Environment Setup"
   ]
  },
  {
   "cell_type": "code",
   "execution_count": 4,
   "id": "c7d857f9",
   "metadata": {
    "execution": {
     "iopub.execute_input": "2025-09-11T11:48:20.339086Z",
     "iopub.status.busy": "2025-09-11T11:48:20.338815Z",
     "iopub.status.idle": "2025-09-11T11:48:22.405429Z",
     "shell.execute_reply": "2025-09-11T11:48:22.404700Z"
    },
    "id": "S8yKRbusYkIP",
    "papermill": {
     "duration": 2.102045,
     "end_time": "2025-09-11T11:48:22.406960",
     "exception": false,
     "start_time": "2025-09-11T11:48:20.304915",
     "status": "completed"
    },
    "tags": []
   },
   "outputs": [
    {
     "name": "stdout",
     "output_type": "stream",
     "text": [
      "group_map: {'agent_0': ['agent_0'], 'agent_1': ['agent_1'], 'agent_2': ['agent_2']}\n",
      "action_spec: Composite(\n",
      "    agent_0: Composite(\n",
      "        action: BoundedContinuous(\n",
      "            shape=torch.Size([20, 1, 2]),\n",
      "            space=ContinuousBox(\n",
      "                low=Tensor(shape=torch.Size([20, 1, 2]), device=cuda:0, dtype=torch.float32, contiguous=True),\n",
      "                high=Tensor(shape=torch.Size([20, 1, 2]), device=cuda:0, dtype=torch.float32, contiguous=True)),\n",
      "            device=cuda:0,\n",
      "            dtype=torch.float32,\n",
      "            domain=continuous),\n",
      "        device=cuda:0,\n",
      "        shape=torch.Size([20, 1]),\n",
      "        data_cls=None),\n",
      "    agent_1: Composite(\n",
      "        action: BoundedContinuous(\n",
      "            shape=torch.Size([20, 1, 2]),\n",
      "            space=ContinuousBox(\n",
      "                low=Tensor(shape=torch.Size([20, 1, 2]), device=cuda:0, dtype=torch.float32, contiguous=True),\n",
      "                high=Tensor(shape=torch.Size([20, 1, 2]), device=cuda:0, dtype=torch.float32, contiguous=True)),\n",
      "            device=cuda:0,\n",
      "            dtype=torch.float32,\n",
      "            domain=continuous),\n",
      "        device=cuda:0,\n",
      "        shape=torch.Size([20, 1]),\n",
      "        data_cls=None),\n",
      "    agent_2: Composite(\n",
      "        action: BoundedContinuous(\n",
      "            shape=torch.Size([20, 1, 2]),\n",
      "            space=ContinuousBox(\n",
      "                low=Tensor(shape=torch.Size([20, 1, 2]), device=cuda:0, dtype=torch.float32, contiguous=True),\n",
      "                high=Tensor(shape=torch.Size([20, 1, 2]), device=cuda:0, dtype=torch.float32, contiguous=True)),\n",
      "            device=cuda:0,\n",
      "            dtype=torch.float32,\n",
      "            domain=continuous),\n",
      "        device=cuda:0,\n",
      "        shape=torch.Size([20, 1]),\n",
      "        data_cls=None),\n",
      "    device=cuda:0,\n",
      "    shape=torch.Size([20]),\n",
      "    data_cls=None)\n",
      "reward_spec: Composite(\n",
      "    agent_0: Composite(\n",
      "        reward: UnboundedContinuous(\n",
      "            shape=torch.Size([20, 1, 1]),\n",
      "            space=ContinuousBox(\n",
      "                low=Tensor(shape=torch.Size([20, 1, 1]), device=cuda:0, dtype=torch.float32, contiguous=True),\n",
      "                high=Tensor(shape=torch.Size([20, 1, 1]), device=cuda:0, dtype=torch.float32, contiguous=True)),\n",
      "            device=cuda:0,\n",
      "            dtype=torch.float32,\n",
      "            domain=continuous),\n",
      "        device=cuda:0,\n",
      "        shape=torch.Size([20, 1]),\n",
      "        data_cls=None),\n",
      "    agent_1: Composite(\n",
      "        reward: UnboundedContinuous(\n",
      "            shape=torch.Size([20, 1, 1]),\n",
      "            space=ContinuousBox(\n",
      "                low=Tensor(shape=torch.Size([20, 1, 1]), device=cuda:0, dtype=torch.float32, contiguous=True),\n",
      "                high=Tensor(shape=torch.Size([20, 1, 1]), device=cuda:0, dtype=torch.float32, contiguous=True)),\n",
      "            device=cuda:0,\n",
      "            dtype=torch.float32,\n",
      "            domain=continuous),\n",
      "        device=cuda:0,\n",
      "        shape=torch.Size([20, 1]),\n",
      "        data_cls=None),\n",
      "    agent_2: Composite(\n",
      "        reward: UnboundedContinuous(\n",
      "            shape=torch.Size([20, 1, 1]),\n",
      "            space=ContinuousBox(\n",
      "                low=Tensor(shape=torch.Size([20, 1, 1]), device=cuda:0, dtype=torch.float32, contiguous=True),\n",
      "                high=Tensor(shape=torch.Size([20, 1, 1]), device=cuda:0, dtype=torch.float32, contiguous=True)),\n",
      "            device=cuda:0,\n",
      "            dtype=torch.float32,\n",
      "            domain=continuous),\n",
      "        device=cuda:0,\n",
      "        shape=torch.Size([20, 1]),\n",
      "        data_cls=None),\n",
      "    device=cuda:0,\n",
      "    shape=torch.Size([20]),\n",
      "    data_cls=None)\n",
      "done_spec: Composite(\n",
      "    done: Categorical(\n",
      "        shape=torch.Size([20, 1]),\n",
      "        space=CategoricalBox(n=2),\n",
      "        device=cuda:0,\n",
      "        dtype=torch.bool,\n",
      "        domain=discrete),\n",
      "    terminated: Categorical(\n",
      "        shape=torch.Size([20, 1]),\n",
      "        space=CategoricalBox(n=2),\n",
      "        device=cuda:0,\n",
      "        dtype=torch.bool,\n",
      "        domain=discrete),\n",
      "    device=cuda:0,\n",
      "    shape=torch.Size([20]),\n",
      "    data_cls=None)\n",
      "observation_spec: Composite(\n",
      "    agent_0: Composite(\n",
      "        observation: UnboundedContinuous(\n",
      "            shape=torch.Size([20, 1, 18]),\n",
      "            space=ContinuousBox(\n",
      "                low=Tensor(shape=torch.Size([20, 1, 18]), device=cuda:0, dtype=torch.float32, contiguous=True),\n",
      "                high=Tensor(shape=torch.Size([20, 1, 18]), device=cuda:0, dtype=torch.float32, contiguous=True)),\n",
      "            device=cuda:0,\n",
      "            dtype=torch.float32,\n",
      "            domain=continuous),\n",
      "        info: Composite(\n",
      "            pos_rew: UnboundedContinuous(\n",
      "                shape=torch.Size([20, 1, 1]),\n",
      "                space=ContinuousBox(\n",
      "                    low=Tensor(shape=torch.Size([20, 1, 1]), device=cuda:0, dtype=torch.float32, contiguous=True),\n",
      "                    high=Tensor(shape=torch.Size([20, 1, 1]), device=cuda:0, dtype=torch.float32, contiguous=True)),\n",
      "                device=cuda:0,\n",
      "                dtype=torch.float32,\n",
      "                domain=continuous),\n",
      "            final_rew: UnboundedContinuous(\n",
      "                shape=torch.Size([20, 1, 1]),\n",
      "                space=ContinuousBox(\n",
      "                    low=Tensor(shape=torch.Size([20, 1, 1]), device=cuda:0, dtype=torch.float32, contiguous=True),\n",
      "                    high=Tensor(shape=torch.Size([20, 1, 1]), device=cuda:0, dtype=torch.float32, contiguous=True)),\n",
      "                device=cuda:0,\n",
      "                dtype=torch.float32,\n",
      "                domain=continuous),\n",
      "            agent_collisions: UnboundedContinuous(\n",
      "                shape=torch.Size([20, 1, 1]),\n",
      "                space=ContinuousBox(\n",
      "                    low=Tensor(shape=torch.Size([20, 1, 1]), device=cuda:0, dtype=torch.float32, contiguous=True),\n",
      "                    high=Tensor(shape=torch.Size([20, 1, 1]), device=cuda:0, dtype=torch.float32, contiguous=True)),\n",
      "                device=cuda:0,\n",
      "                dtype=torch.float32,\n",
      "                domain=continuous),\n",
      "            device=cuda:0,\n",
      "            shape=torch.Size([20, 1]),\n",
      "            data_cls=None),\n",
      "        episode_reward: UnboundedContinuous(\n",
      "            shape=torch.Size([20, 1, 1]),\n",
      "            space=ContinuousBox(\n",
      "                low=Tensor(shape=torch.Size([20, 1, 1]), device=cuda:0, dtype=torch.float32, contiguous=True),\n",
      "                high=Tensor(shape=torch.Size([20, 1, 1]), device=cuda:0, dtype=torch.float32, contiguous=True)),\n",
      "            device=cuda:0,\n",
      "            dtype=torch.float32,\n",
      "            domain=continuous),\n",
      "        device=cuda:0,\n",
      "        shape=torch.Size([20, 1]),\n",
      "        data_cls=None),\n",
      "    agent_1: Composite(\n",
      "        observation: UnboundedContinuous(\n",
      "            shape=torch.Size([20, 1, 18]),\n",
      "            space=ContinuousBox(\n",
      "                low=Tensor(shape=torch.Size([20, 1, 18]), device=cuda:0, dtype=torch.float32, contiguous=True),\n",
      "                high=Tensor(shape=torch.Size([20, 1, 18]), device=cuda:0, dtype=torch.float32, contiguous=True)),\n",
      "            device=cuda:0,\n",
      "            dtype=torch.float32,\n",
      "            domain=continuous),\n",
      "        info: Composite(\n",
      "            pos_rew: UnboundedContinuous(\n",
      "                shape=torch.Size([20, 1, 1]),\n",
      "                space=ContinuousBox(\n",
      "                    low=Tensor(shape=torch.Size([20, 1, 1]), device=cuda:0, dtype=torch.float32, contiguous=True),\n",
      "                    high=Tensor(shape=torch.Size([20, 1, 1]), device=cuda:0, dtype=torch.float32, contiguous=True)),\n",
      "                device=cuda:0,\n",
      "                dtype=torch.float32,\n",
      "                domain=continuous),\n",
      "            final_rew: UnboundedContinuous(\n",
      "                shape=torch.Size([20, 1, 1]),\n",
      "                space=ContinuousBox(\n",
      "                    low=Tensor(shape=torch.Size([20, 1, 1]), device=cuda:0, dtype=torch.float32, contiguous=True),\n",
      "                    high=Tensor(shape=torch.Size([20, 1, 1]), device=cuda:0, dtype=torch.float32, contiguous=True)),\n",
      "                device=cuda:0,\n",
      "                dtype=torch.float32,\n",
      "                domain=continuous),\n",
      "            agent_collisions: UnboundedContinuous(\n",
      "                shape=torch.Size([20, 1, 1]),\n",
      "                space=ContinuousBox(\n",
      "                    low=Tensor(shape=torch.Size([20, 1, 1]), device=cuda:0, dtype=torch.float32, contiguous=True),\n",
      "                    high=Tensor(shape=torch.Size([20, 1, 1]), device=cuda:0, dtype=torch.float32, contiguous=True)),\n",
      "                device=cuda:0,\n",
      "                dtype=torch.float32,\n",
      "                domain=continuous),\n",
      "            device=cuda:0,\n",
      "            shape=torch.Size([20, 1]),\n",
      "            data_cls=None),\n",
      "        episode_reward: UnboundedContinuous(\n",
      "            shape=torch.Size([20, 1, 1]),\n",
      "            space=ContinuousBox(\n",
      "                low=Tensor(shape=torch.Size([20, 1, 1]), device=cuda:0, dtype=torch.float32, contiguous=True),\n",
      "                high=Tensor(shape=torch.Size([20, 1, 1]), device=cuda:0, dtype=torch.float32, contiguous=True)),\n",
      "            device=cuda:0,\n",
      "            dtype=torch.float32,\n",
      "            domain=continuous),\n",
      "        device=cuda:0,\n",
      "        shape=torch.Size([20, 1]),\n",
      "        data_cls=None),\n",
      "    agent_2: Composite(\n",
      "        observation: UnboundedContinuous(\n",
      "            shape=torch.Size([20, 1, 18]),\n",
      "            space=ContinuousBox(\n",
      "                low=Tensor(shape=torch.Size([20, 1, 18]), device=cuda:0, dtype=torch.float32, contiguous=True),\n",
      "                high=Tensor(shape=torch.Size([20, 1, 18]), device=cuda:0, dtype=torch.float32, contiguous=True)),\n",
      "            device=cuda:0,\n",
      "            dtype=torch.float32,\n",
      "            domain=continuous),\n",
      "        info: Composite(\n",
      "            pos_rew: UnboundedContinuous(\n",
      "                shape=torch.Size([20, 1, 1]),\n",
      "                space=ContinuousBox(\n",
      "                    low=Tensor(shape=torch.Size([20, 1, 1]), device=cuda:0, dtype=torch.float32, contiguous=True),\n",
      "                    high=Tensor(shape=torch.Size([20, 1, 1]), device=cuda:0, dtype=torch.float32, contiguous=True)),\n",
      "                device=cuda:0,\n",
      "                dtype=torch.float32,\n",
      "                domain=continuous),\n",
      "            final_rew: UnboundedContinuous(\n",
      "                shape=torch.Size([20, 1, 1]),\n",
      "                space=ContinuousBox(\n",
      "                    low=Tensor(shape=torch.Size([20, 1, 1]), device=cuda:0, dtype=torch.float32, contiguous=True),\n",
      "                    high=Tensor(shape=torch.Size([20, 1, 1]), device=cuda:0, dtype=torch.float32, contiguous=True)),\n",
      "                device=cuda:0,\n",
      "                dtype=torch.float32,\n",
      "                domain=continuous),\n",
      "            agent_collisions: UnboundedContinuous(\n",
      "                shape=torch.Size([20, 1, 1]),\n",
      "                space=ContinuousBox(\n",
      "                    low=Tensor(shape=torch.Size([20, 1, 1]), device=cuda:0, dtype=torch.float32, contiguous=True),\n",
      "                    high=Tensor(shape=torch.Size([20, 1, 1]), device=cuda:0, dtype=torch.float32, contiguous=True)),\n",
      "                device=cuda:0,\n",
      "                dtype=torch.float32,\n",
      "                domain=continuous),\n",
      "            device=cuda:0,\n",
      "            shape=torch.Size([20, 1]),\n",
      "            data_cls=None),\n",
      "        episode_reward: UnboundedContinuous(\n",
      "            shape=torch.Size([20, 1, 1]),\n",
      "            space=ContinuousBox(\n",
      "                low=Tensor(shape=torch.Size([20, 1, 1]), device=cuda:0, dtype=torch.float32, contiguous=True),\n",
      "                high=Tensor(shape=torch.Size([20, 1, 1]), device=cuda:0, dtype=torch.float32, contiguous=True)),\n",
      "            device=cuda:0,\n",
      "            dtype=torch.float32,\n",
      "            domain=continuous),\n",
      "        device=cuda:0,\n",
      "        shape=torch.Size([20, 1]),\n",
      "        data_cls=None),\n",
      "    device=cuda:0,\n",
      "    shape=torch.Size([20]),\n",
      "    data_cls=None)\n",
      "\u001b[92m2025-09-11 11:48:22,402 [torchrl][INFO]\u001b[0m    check_env_specs succeeded!\u001b[92m [END]\u001b[0m\n"
     ]
    }
   ],
   "source": [
    "# Each agent is in its own group, so group_name == agent_name\n",
    "custom_group_map = {f\"agent_{i}\": [f\"agent_{i}\"] for i in range(n_agents)}\n",
    "\n",
    "# Create the vectorized Vmas environment\n",
    "env = VmasEnv(\n",
    "    scenario=scenario_name,\n",
    "    num_envs=num_vmas_envs,\n",
    "    continuous_actions=True,\n",
    "    max_steps=max_steps,\n",
    "    device=device,\n",
    "    n_agents=n_agents,\n",
    "    group_map=custom_group_map,\n",
    ")\n",
    "\n",
    "# Wrap the environment to sum rewards for each agent group\n",
    "env = TransformedEnv(\n",
    "    env,\n",
    "    RewardSum(\n",
    "        in_keys=env.reward_keys,\n",
    "        reset_keys=[\"_reset\"] * len(env.group_map.keys()),\n",
    "    ),\n",
    ")\n",
    "\n",
    "# Print environment specs\n",
    "print(f\"group_map: {env.group_map}\")\n",
    "print(\"action_spec:\", env.full_action_spec)\n",
    "print(\"reward_spec:\", env.full_reward_spec)\n",
    "print(\"done_spec:\", env.full_done_spec)\n",
    "print(\"observation_spec:\", env.observation_spec)\n",
    "\n",
    "check_env_specs(env)"
   ]
  },
  {
   "cell_type": "markdown",
   "id": "a3e8d06f",
   "metadata": {
    "id": "u7LQITA1g1cP",
    "papermill": {
     "duration": 0.03012,
     "end_time": "2025-09-11T11:48:22.470525",
     "exception": false,
     "start_time": "2025-09-11T11:48:22.440405",
     "status": "completed"
    },
    "tags": []
   },
   "source": [
    "##Part 1 : Decentralized Actor\n",
    "\n",
    "**1a. MADDPG Concept: The Agent's Brain**\n",
    "\n",
    "In MADDPG, each agent has its own independent \"actor\" network. This network takes the agent's observation and decides which action to take. It's the \"decentralized execution\" part of the algorithm.\n",
    "\n",
    "Your Task:\n",
    "\n",
    "Implement the Actor Network using torchrl.modules.MLP. This will be a standard PyTorch nn.Module that serves as the brain for a single agent.\n",
    "\n",
    "**1b. TorchRL vs TensorDictModule**\n",
    "\n",
    "A standard nn.Module doesn't know how to interact with TorchRL's data structures. We need to wrap it with a TensorDictModule. This wrapper acts as an adapter, telling your MLP which data \"key\" to read its input from in the TensorDict and which \"key\" to write its output to.\n",
    "\n",
    "Your Task:\n",
    "\n",
    "Wrap your AgentMLP in a TensorDictModule."
   ]
  },
  {
   "cell_type": "markdown",
   "id": "1868a3db",
   "metadata": {
    "id": "BxXuM9FgYn8g",
    "papermill": {
     "duration": 0.030725,
     "end_time": "2025-09-11T11:48:22.530974",
     "exception": false,
     "start_time": "2025-09-11T11:48:22.500249",
     "status": "completed"
    },
    "tags": []
   },
   "source": [
    "##Policy Initialization"
   ]
  },
  {
   "cell_type": "code",
   "execution_count": 5,
   "id": "7b6f158f",
   "metadata": {
    "execution": {
     "iopub.execute_input": "2025-09-11T11:48:22.594110Z",
     "iopub.status.busy": "2025-09-11T11:48:22.593627Z",
     "iopub.status.idle": "2025-09-11T11:48:22.644262Z",
     "shell.execute_reply": "2025-09-11T11:48:22.643553Z"
    },
    "id": "4SkGNtr-YznQ",
    "papermill": {
     "duration": 0.083059,
     "end_time": "2025-09-11T11:48:22.645560",
     "exception": false,
     "start_time": "2025-09-11T11:48:22.562501",
     "status": "completed"
    },
    "tags": []
   },
   "outputs": [],
   "source": [
    "# Part 1: Create the Actor Network using torchrl.modules.MLP\n",
    "policy_modules = {}\n",
    "for group, agents in env.group_map.items():\n",
    "    agent_modules = {}\n",
    "    for agent in agents:\n",
    "        ### TODO: PART 1a ###\n",
    "        # Create an actor network using `torchrl.modules.MLP`.\n",
    "        # - `in_features`: The dimension of the agent's observation.\n",
    "        # - `out_features`: The dimension of the agent's action.\n",
    "        # - `num_cells`: A list defining the hidden layer sizes (e.g., [256, 256]).\n",
    "        # - `activation_class`: The activation function (e.g., nn.ReLU).\n",
    "        ### YOUR CODE HERE ###\n",
    "        observation_dim = env.observation_spec[(agent, \"observation\")].shape[-1]\n",
    "        action_dim = env.full_action_spec[(agent, \"action\")].shape[-1]\n",
    "        agent_modules[agent] = MLP(\n",
    "            in_features=observation_dim,\n",
    "            out_features=action_dim,\n",
    "            num_cells=[256, 256],\n",
    "            activation_class=nn.ReLU,\n",
    "        )\n",
    "\n",
    "    ### TODO: PART 1b ###\n",
    "    # Wrap the MLP actor in a TensorDictModule to handle I/O.\n",
    "    # - The input should be the agent's observation: `(agent, \"observation\")`.\n",
    "    # - The output should be the action parameters: `(agent, \"param\")`.\n",
    "    ### YOUR CODE HERE ###\n",
    "    agent_policy_modules = {}\n",
    "    for agent in agents:\n",
    "        agent_policy_modules[agent] = TensorDictModule(\n",
    "            module=agent_modules[agent],\n",
    "            in_keys=[(agent, \"observation\")],\n",
    "            out_keys=[(agent, \"param\")],\n",
    "        )\n",
    "    policy_modules[group] = TensorDictSequential(*agent_policy_modules.values())\n",
    "\n",
    "\n",
    "# Create Probabilistic Policies\n",
    "policies = {}\n",
    "for group, agents in env.group_map.items():\n",
    "    agent_policies = []\n",
    "    for agent in agents:\n",
    "        agent_policies.append(\n",
    "            ProbabilisticActor(\n",
    "                module=policy_modules[group],\n",
    "                spec=env.full_action_spec[agent, \"action\"],\n",
    "                in_keys=[(agent, \"param\")],\n",
    "                out_keys=[(agent, \"action\")],\n",
    "                distribution_class=TanhDelta,\n",
    "                distribution_kwargs={\n",
    "                    \"low\": env.full_action_spec_unbatched[agent, \"action\"].space.low,\n",
    "                    \"high\": env.full_action_spec_unbatched[agent, \"action\"].space.high,\n",
    "                },\n",
    "                return_log_prob=False,\n",
    "            )\n",
    "        )\n",
    "    policies[group] = TensorDictSequential(*agent_policies)\n",
    "\n",
    "# Create Target Policies for DDPG\n",
    "target_policies = copy.deepcopy(policies)\n",
    "\n",
    "# Create Exploration Policies: An AdditiveGaussianModule is appended to the policy to add noise for exploration\n",
    "exploration_policies = {}\n",
    "for group, _agents in env.group_map.items():\n",
    "    first_actor = None\n",
    "    for module in policies[group].modules():\n",
    "        if isinstance(module, ProbabilisticActor):\n",
    "            first_actor = module\n",
    "            break\n",
    "    if first_actor is None:\n",
    "        raise RuntimeError(\"No ProbabilisticActor found in policies[group]\")\n",
    "\n",
    "    exploration_policy = TensorDictSequential(\n",
    "        policies[group],\n",
    "        AdditiveGaussianModule(\n",
    "            spec=first_actor.spec,\n",
    "            annealing_num_steps=total_frames // 3,\n",
    "            action_key=(group, \"action\"),\n",
    "            sigma_init=0.5,\n",
    "            sigma_end=0.05,\n",
    "        ),\n",
    "    )\n",
    "    exploration_policies[group] = exploration_policy"
   ]
  },
  {
   "cell_type": "markdown",
   "id": "3e248c91",
   "metadata": {
    "id": "mI4b4gE2iXaV",
    "papermill": {
     "duration": 0.02971,
     "end_time": "2025-09-11T11:48:22.705594",
     "exception": false,
     "start_time": "2025-09-11T11:48:22.675884",
     "status": "completed"
    },
    "tags": []
   },
   "source": [
    "##Part 2: The Centralized Critic\n",
    "\n",
    "**2a. MADDPG Concept: Using Global Information**\n",
    "\n",
    "One of the key strengths of the MADDPG algorithm lies in its use of a centralized critic during training. Unlike the decentralized actors, which only have access to their individual observations, the centralized critic has access to the observations and actions of all agents. This broader perspective enables it to more accurately evaluate the quality of joint actions taken by the agents, which in turn leads to more stable and cooperative learning dynamics.\n",
    "\n",
    "Your task:\n",
    "\n",
    "Implement the CentralizedCritic using torchrl.modules.MLP. This network takes observations and actions of all agents, and return a scalar value representing the estimated state-action value. It's the \"centralized training\" part of the algorithm.\n",
    "\n",
    "**2b. TorchRL Tool: Assembling Inputs with TensorDictModule**\n",
    "\n",
    "How do we collect data from many different keys and feed it as one tensor to our critic? TensorDictModule can do more than just wrap a network; it can also perform operations. We can give it a list of in_keys and a lambda function to tell it how to combine them.\n",
    "\n",
    "Your Task:\n",
    "\n",
    "Create a TensorDictModule that gathers all observations and actions and concatenates them into a single tensor for the critic."
   ]
  },
  {
   "cell_type": "markdown",
   "id": "5575013a",
   "metadata": {
    "id": "OpcuMBejirJc",
    "papermill": {
     "duration": 0.029613,
     "end_time": "2025-09-11T11:48:22.765238",
     "exception": false,
     "start_time": "2025-09-11T11:48:22.735625",
     "status": "completed"
    },
    "tags": []
   },
   "source": [
    "##Critic Network Initialization"
   ]
  },
  {
   "cell_type": "code",
   "execution_count": 6,
   "id": "bae39a45",
   "metadata": {
    "execution": {
     "iopub.execute_input": "2025-09-11T11:48:22.827021Z",
     "iopub.status.busy": "2025-09-11T11:48:22.826745Z",
     "iopub.status.idle": "2025-09-11T11:48:22.845262Z",
     "shell.execute_reply": "2025-09-11T11:48:22.844378Z"
    },
    "id": "rqaa0g_LlLmJ",
    "papermill": {
     "duration": 0.050892,
     "end_time": "2025-09-11T11:48:22.846449",
     "exception": false,
     "start_time": "2025-09-11T11:48:22.795557",
     "status": "completed"
    },
    "tags": []
   },
   "outputs": [
    {
     "name": "stdout",
     "output_type": "stream",
     "text": [
      "Model and policy structure ready for review.\n"
     ]
    }
   ],
   "source": [
    "# Part 2: Create the Centralized Critic using torchrl.modules.MLP\n",
    "critics = {}\n",
    "for group, agents in env.group_map.items():\n",
    "    ### TODO: PART 2a ###\n",
    "    # Create the centralized critic network using `torchrl.modules.MLP`.\n",
    "    # - First, calculate `in_features`.\n",
    "    # - `out_features` should be 1, as the critic outputs a single Q-value.\n",
    "    ### YOUR CODE HERE ###\n",
    "    agent_critic_modules = {}\n",
    "    # Collect all agents in this group for joint obs+action\n",
    "    group_agents = list(env.group_map[group])\n",
    "    for agent in agents:\n",
    "        obs_dim = sum(env.observation_spec[(ag, \"observation\")].shape[-1] for ag in group_agents)\n",
    "        act_dim = sum(env.full_action_spec[(ag, \"action\")].shape[-1] for ag in group_agents)\n",
    "        agent_critic_modules[agent] = MLP(\n",
    "            in_features=obs_dim + act_dim,\n",
    "            out_features=1,\n",
    "            num_cells=[256, 256],\n",
    "            activation_class=torch.nn.ReLU,\n",
    "        )\n",
    "\n",
    "    ### TODO: PART 2b ###\n",
    "    # Wire up the critic. This involves creating a `cat_module` that\n",
    "    # concatenates all agent observations and actions into a single tensor.\n",
    "    ### YOUR CODE HERE ###\n",
    "    agent_critic_tdmodules = {}\n",
    "    for agent in agents:\n",
    "        # 1. Define the `cat_inputs` list for concatenation.\n",
    "        cat_inputs = [(ag, \"observation\") for ag in group_agents]\n",
    "        cat_inputs += [(ag, \"action\") for ag in group_agents]\n",
    "\n",
    "        # 2. Create the `cat_module` using TensorDictModule and a lambda function.\n",
    "        cat_module = TensorDictModule(\n",
    "            module=lambda *xs: torch.cat(xs, dim=-1),\n",
    "            in_keys=cat_inputs,\n",
    "            out_keys=[(agent, \"obs_actions\")],\n",
    "        )\n",
    "\n",
    "        critic_module = TensorDictModule(\n",
    "            agent_critic_modules[agent],\n",
    "            in_keys=[(agent, \"obs_actions\")],  # Must match cat_module's out_key\n",
    "            out_keys=[(agent, \"state_action_value\")],\n",
    "        )\n",
    "        agent_critic_tdmodules[agent] = TensorDictSequential(cat_module, critic_module)\n",
    "    critics[group] = TensorDictSequential(*agent_critic_tdmodules.values())\n",
    "\n",
    "for group in env.group_map.keys():\n",
    "    policies[group].to(device)\n",
    "    target_policies[group].to(device)\n",
    "    critics[group].to(device)\n",
    "    exploration_policies[group].to(device)\n",
    "\n",
    "print(\"Model and policy structure ready for review.\")\n"
   ]
  },
  {
   "cell_type": "markdown",
   "id": "8dceb439",
   "metadata": {
    "id": "voH8phhhllef",
    "papermill": {
     "duration": 0.029615,
     "end_time": "2025-09-11T11:48:22.906957",
     "exception": false,
     "start_time": "2025-09-11T11:48:22.877342",
     "status": "completed"
    },
    "tags": []
   },
   "source": [
    "##Part 3: The Learning Algorithm\n",
    "\n",
    "**3a. MADDPG Concept: The Update Step**\n",
    "\n",
    "The critic learns by comparing its Q-value prediction to a \"target\" value calculated from the reward and the next state's value. The actor then learns by performing gradient ascent to find actions that the critic scores highly.\n",
    "\n",
    "**3b. TorchRL Tool: DDPGLoss**\n",
    "\n",
    "This high-level module encapsulates the entire loss calculation for both the actor and the critic. You provide your networks, and it computes the gradients. Your only job is to tell it which keys to use for its calculations. You must also supply the actions from the target policies, as these are used to calculate the target Q-value, which is a key part of the DDPG algorithm.\n",
    "\n",
    "Your Task:\n",
    "\n",
    "1.   Configure the DDPGLoss module with the correct keys.\n",
    "2.   In the main training loop, provide the target actions needed for the loss calculation."
   ]
  },
  {
   "cell_type": "markdown",
   "id": "80ad7423",
   "metadata": {
    "id": "f3Q2kJQmZF5V",
    "papermill": {
     "duration": 0.029826,
     "end_time": "2025-09-11T11:48:22.966588",
     "exception": false,
     "start_time": "2025-09-11T11:48:22.936762",
     "status": "completed"
    },
    "tags": []
   },
   "source": [
    "##Replay Buffer, Losses, and Optimizers"
   ]
  },
  {
   "cell_type": "code",
   "execution_count": 7,
   "id": "819f654b",
   "metadata": {
    "execution": {
     "iopub.execute_input": "2025-09-11T11:48:23.028545Z",
     "iopub.status.busy": "2025-09-11T11:48:23.028252Z",
     "iopub.status.idle": "2025-09-11T11:48:23.074299Z",
     "shell.execute_reply": "2025-09-11T11:48:23.073523Z"
    },
    "id": "7n5mZTqNY8Ww",
    "papermill": {
     "duration": 0.078096,
     "end_time": "2025-09-11T11:48:23.075430",
     "exception": false,
     "start_time": "2025-09-11T11:48:22.997334",
     "status": "completed"
    },
    "tags": []
   },
   "outputs": [
    {
     "name": "stdout",
     "output_type": "stream",
     "text": [
      "Losses, optimizers, and replay buffer are ready.\n"
     ]
    }
   ],
   "source": [
    "# Part 3\n",
    "# Shared Replay Buffer\n",
    "shared_replay_buffer = ReplayBuffer(\n",
    "    storage=LazyMemmapStorage(memory_size, scratch_dir=tempfile.TemporaryDirectory().name),\n",
    "    sampler=RandomSampler(),\n",
    "    batch_size=train_batch_size,\n",
    ")\n",
    "if device.type != \"cpu\":\n",
    "    # push tensors onto GPU if available\n",
    "    shared_replay_buffer.append_transform(lambda td: td.to(device))\n",
    "\n",
    "# DDPG Losses\n",
    "losses = {}\n",
    "for group, _agents in env.group_map.items():\n",
    "    loss_module = DDPGLoss(\n",
    "        actor_network=policies[group],\n",
    "        value_network=critics[group],\n",
    "        delay_value=True,\n",
    "        delay_actor=True,\n",
    "        loss_function=\"l2\",\n",
    "    )\n",
    "    ### TODO: PART 3a ###\n",
    "    # Use `loss_module.set_keys(...)` to map the tensor names to what the\n",
    "    # loss function expects. You must map \"reward\", \"done\", \"terminated\",\n",
    "    # and the output of your critic: \"state_action_value\".\n",
    "    ### YOUR CODE HERE ###\n",
    "    key_mapping = {\n",
    "        \"reward\": (group, \"reward\"),\n",
    "        \"done\": (group, \"done\"),\n",
    "        \"terminated\": (group, \"terminated\"),\n",
    "        \"state_action_value\": (group, \"state_action_value\"),\n",
    "    }\n",
    "    loss_module.set_keys(**key_mapping)\n",
    "\n",
    "    loss_module.make_value_estimator(ValueEstimators.TD0, gamma=gamma)\n",
    "    losses[group] = loss_module\n",
    "\n",
    "# Target Network Updaters and Optimizers\n",
    "target_updaters = {\n",
    "    group: SoftUpdate(module, tau=polyak_tau) for group, module in losses.items()\n",
    "}\n",
    "optimisers = {}\n",
    "for group, module in losses.items():\n",
    "    optimisers[group] = {\n",
    "        \"loss_actor\": torch.optim.Adam(\n",
    "            module.actor_network_params.flatten_keys().values(), lr=1e-4\n",
    "        ),\n",
    "        \"loss_value\": torch.optim.Adam(\n",
    "            module.value_network_params.flatten_keys().values(), lr=3e-4\n",
    "        ),\n",
    "    }\n",
    "\n",
    "print(\"Losses, optimizers, and replay buffer are ready.\")"
   ]
  },
  {
   "cell_type": "markdown",
   "id": "1fe11c67",
   "metadata": {
    "id": "YvEy6IURZMd9",
    "papermill": {
     "duration": 0.031435,
     "end_time": "2025-09-11T11:48:23.138000",
     "exception": false,
     "start_time": "2025-09-11T11:48:23.106565",
     "status": "completed"
    },
    "tags": []
   },
   "source": [
    "##Data Collection and Training"
   ]
  },
  {
   "cell_type": "code",
   "execution_count": 8,
   "id": "28eaaea5",
   "metadata": {
    "execution": {
     "iopub.execute_input": "2025-09-11T11:48:23.200083Z",
     "iopub.status.busy": "2025-09-11T11:48:23.199845Z",
     "iopub.status.idle": "2025-09-11T12:50:50.709441Z",
     "shell.execute_reply": "2025-09-11T12:50:50.708443Z"
    },
    "id": "F6m1yO0iZQQb",
    "papermill": {
     "duration": 3747.542468,
     "end_time": "2025-09-11T12:50:50.710632",
     "exception": false,
     "start_time": "2025-09-11T11:48:23.168164",
     "status": "completed"
    },
    "tags": []
   },
   "outputs": [
    {
     "name": "stderr",
     "output_type": "stream",
     "text": [
      "Iter [1500/1500] | Rewards: agent_0: 1.39 | agent_1: 1.39 | agent_2: 1.39:   0%|          | 0/1500 [1:02:27<?, ?it/s]"
     ]
    },
    {
     "name": "stdout",
     "output_type": "stream",
     "text": [
      "\n",
      "Training finished.\n"
     ]
    },
    {
     "name": "stderr",
     "output_type": "stream",
     "text": [
      "\n"
     ]
    }
   ],
   "source": [
    "# Data Collection and Training\n",
    "collector = SyncDataCollector(\n",
    "    env,\n",
    "    TensorDictSequential(*exploration_policies.values()).to(device),\n",
    "    device=device,\n",
    "    frames_per_batch=frames_per_batch,\n",
    "    total_frames=total_frames,\n",
    ")\n",
    "\n",
    "\n",
    "def process_batch(batch: TensorDictBase) -> TensorDictBase:\n",
    "    for group in env.group_map.keys():\n",
    "        keys = list(batch.keys(True, True))\n",
    "        group_shape = batch.get_item_shape(group)\n",
    "        nested_done_key = (\"next\", group, \"done\")\n",
    "        nested_terminated_key = (\"next\", group, \"terminated\")\n",
    "        if nested_done_key not in keys:\n",
    "            batch.set(\n",
    "                nested_done_key,\n",
    "                batch.get((\"next\", \"done\")).unsqueeze(-1).expand((*group_shape, 1)),\n",
    "            )\n",
    "        if nested_terminated_key not in keys:\n",
    "            batch.set(\n",
    "                nested_terminated_key,\n",
    "                batch.get((\"next\", \"terminated\"))\n",
    "                .unsqueeze(-1)\n",
    "                .expand((*group_shape, 1)),\n",
    "            )\n",
    "    return batch\n",
    "\n",
    "# Training Loop\n",
    "episode_reward_mean_map = {group: [] for group in env.group_map.keys()}\n",
    "pbar = tqdm(total=n_iters, desc=\"Training Progress\")\n",
    "\n",
    "for iteration, batch in enumerate(collector):\n",
    "    current_frames = batch.numel()\n",
    "    batch = process_batch(batch)\n",
    "    shared_replay_buffer.extend(batch.reshape(-1))\n",
    "\n",
    "    for group in env.group_map.keys():\n",
    "        for _ in range(n_optimiser_steps):\n",
    "            # sample and push to correct device\n",
    "            subdata = shared_replay_buffer.sample()\n",
    "            if device.type != \"cpu\":\n",
    "                subdata = subdata.to(device)\n",
    "\n",
    "            # --- Part 3b: Compute Target Actions for the Critic's Loss ---\n",
    "            with torch.no_grad():\n",
    "                next_td = subdata[\"next\"]\n",
    "                ### TODO: PART 3b ###\n",
    "                # For each group, run the target policy on the next state.\n",
    "                for grp in env.group_map:\n",
    "                    target_out = target_policies[grp](next_td)\n",
    "                    # ensure actions stored under (\"next\", grp, \"action\")\n",
    "                    next_td.update(target_out)\n",
    "\n",
    "            loss_vals = losses[group](subdata)\n",
    "            for loss_name in [\"loss_actor\", \"loss_value\"]:\n",
    "                loss = loss_vals[loss_name]\n",
    "                optimiser = optimisers[group][loss_name]\n",
    "                loss.backward()\n",
    "                params = optimiser.param_groups[0][\"params\"]\n",
    "                torch.nn.utils.clip_grad_norm_(params, max_grad_norm)\n",
    "                optimiser.step()\n",
    "                optimiser.zero_grad()\n",
    "            target_updaters[group].step()\n",
    "        exploration_policies[group][-1].step(current_frames)\n",
    "\n",
    "    for group in env.group_map.keys():\n",
    "        episode_reward_mean = (\n",
    "            batch.get((\"next\", group, \"episode_reward\"))[\n",
    "                batch.get((\"next\", group, \"done\"))\n",
    "            ]\n",
    "            .mean()\n",
    "            .item()\n",
    "        )\n",
    "        episode_reward_mean_map[group].append(episode_reward_mean)\n",
    "\n",
    "    reward_strings = [\n",
    "        f\"{group}: {episode_reward_mean_map[group][-1]:.2f}\"\n",
    "        for group in env.group_map.keys()\n",
    "    ]\n",
    "    description = (\n",
    "        f\"Iter [{iteration+1}/{n_iters}] | Rewards: \" + \" | \".join(reward_strings)\n",
    "    )\n",
    "    pbar.set_description(description)\n",
    "    pbar.refresh()\n",
    "\n",
    "pbar.close()\n",
    "collector.shutdown()\n",
    "print(\"\\nTraining finished.\")"
   ]
  },
  {
   "cell_type": "markdown",
   "id": "efb65de0",
   "metadata": {
    "id": "K_eoTvo8ZZlS",
    "papermill": {
     "duration": 0.199292,
     "end_time": "2025-09-11T12:50:51.059897",
     "exception": false,
     "start_time": "2025-09-11T12:50:50.860605",
     "status": "completed"
    },
    "tags": []
   },
   "source": [
    "##Plotting Results"
   ]
  },
  {
   "cell_type": "code",
   "execution_count": 9,
   "id": "6c388525",
   "metadata": {
    "execution": {
     "iopub.execute_input": "2025-09-11T12:50:51.357117Z",
     "iopub.status.busy": "2025-09-11T12:50:51.356836Z",
     "iopub.status.idle": "2025-09-11T12:50:52.145467Z",
     "shell.execute_reply": "2025-09-11T12:50:52.144803Z"
    },
    "id": "zOuRkqpMZU_A",
    "papermill": {
     "duration": 0.938965,
     "end_time": "2025-09-11T12:50:52.148192",
     "exception": false,
     "start_time": "2025-09-11T12:50:51.209227",
     "status": "completed"
    },
    "tags": []
   },
   "outputs": [
    {
     "data": {
      "image/png": "[encoded data removed]",
      "text/plain": [
       "<Figure size 1000x800 with 3 Axes>"
      ]
     },
     "metadata": {},
     "output_type": "display_data"
    }
   ],
   "source": [
    "fig, axs = plt.subplots(n_agents, 1, figsize=(10, 8), sharex=True)\n",
    "if n_agents == 1:\n",
    "    axs = [axs]\n",
    "for i, group in enumerate(env.group_map.keys()):\n",
    "    axs[i].plot(episode_reward_mean_map[group], label=f\"Episode reward mean {group}\")\n",
    "    axs[i].set_ylabel(\"Reward\")\n",
    "    axs[i].legend()\n",
    "axs[-1].set_xlabel(\"Training iterations\")\n",
    "fig.suptitle(\"Training Rewards\")\n",
    "plt.tight_layout(rect=[0, 0.03, 1, 0.95])\n",
    "plt.show()"
   ]
  },
  {
   "cell_type": "markdown",
   "id": "98814c9b",
   "metadata": {
    "id": "4MW6GGlkZjsr",
    "papermill": {
     "duration": 0.149815,
     "end_time": "2025-09-11T12:50:52.448555",
     "exception": false,
     "start_time": "2025-09-11T12:50:52.298740",
     "status": "completed"
    },
    "tags": []
   },
   "source": [
    "##Evaluation and Rendering"
   ]
  },
  {
   "cell_type": "code",
   "execution_count": 10,
   "id": "2cc543ce",
   "metadata": {
    "execution": {
     "iopub.execute_input": "2025-09-11T12:50:52.747971Z",
     "iopub.status.busy": "2025-09-11T12:50:52.747430Z",
     "iopub.status.idle": "2025-09-11T12:51:03.922287Z",
     "shell.execute_reply": "2025-09-11T12:51:03.921520Z"
    },
    "id": "YWsThylfZmQG",
    "papermill": {
     "duration": 11.32579,
     "end_time": "2025-09-11T12:51:03.923403",
     "exception": false,
     "start_time": "2025-09-11T12:50:52.597613",
     "status": "completed"
    },
    "tags": []
   },
   "outputs": [
    {
     "name": "stdout",
     "output_type": "stream",
     "text": [
      "Starting evaluation and rendering...\n",
      "✅ Saved animation as navigation_evaluation.gif\n"
     ]
    }
   ],
   "source": [
    "print(\"Starting evaluation and rendering...\")\n",
    "\n",
    "# Create a single environment for rendering\n",
    "render_env = VmasEnv(\n",
    "    scenario=scenario_name,\n",
    "    num_envs=1,\n",
    "    continuous_actions=True,\n",
    "    max_steps=max_steps,\n",
    "    device=device,\n",
    "    n_agents=n_agents,\n",
    "    group_map=custom_group_map,\n",
    ")\n",
    "\n",
    "td = render_env.reset()\n",
    "frames = []\n",
    "\n",
    "# Rollout Loop\n",
    "with torch.no_grad():\n",
    "    for _ in range(max_steps):\n",
    "        # 1. Run policies to get actions\n",
    "        for group in render_env.group_map.keys():\n",
    "            td = policies[group](td)\n",
    "\n",
    "        # 2. Step the environment\n",
    "        td_next = render_env.step(td)\n",
    "\n",
    "        # 3. Use the new observation for the next policy call\n",
    "        td = td_next.get(\"next\").clone()\n",
    "\n",
    "        # 4. Reset if the episode terminated\n",
    "        if td_next.get(\"done\").item():\n",
    "            td = render_env.reset()\n",
    "\n",
    "        # 5. Render the frame and append to list\n",
    "        frame = render_env.render(mode=\"rgb_array\")\n",
    "        frames.append(Image.fromarray(frame))\n",
    "\n",
    "# Save the rollout as a GIF\n",
    "gif_path = f\"{scenario_name}_evaluation.gif\"\n",
    "frames[0].save(\n",
    "    gif_path,\n",
    "    save_all=True,\n",
    "    append_images=frames[1:],\n",
    "    duration=100,\n",
    "    loop=0,\n",
    ")\n",
    "print(f\"✅ Saved animation as {gif_path}\")\n",
    "\n",
    "# To display the GIF in a Jupyter notebook, you can use the following:\n",
    "# from IPython.display import Image as IPImage\n",
    "# IPImage(filename=gif_path)"
   ]
  },
  {
   "cell_type": "markdown",
   "id": "8fed4cce",
   "metadata": {
    "id": "kAqmEiTZQE5n",
    "papermill": {
     "duration": 0.148822,
     "end_time": "2025-09-11T12:51:04.223607",
     "exception": false,
     "start_time": "2025-09-11T12:51:04.074785",
     "status": "completed"
    },
    "tags": []
   },
   "source": [
    "## Part 4\n",
    "\n",
    "Based on your understanding of the differences between MADDPG and IDDPG, modify the necessary sections of your MADDPG implementation to convert it into its independent variant (IDDPG). Run the modified code, clearly explain the changes you made and the rationale behind each modification, and finally analyze and discuss the differences you observe between the performance of MADDPG and IDDPG."
   ]
  },
  {
   "cell_type": "markdown",
   "id": "c120908a",
   "metadata": {
    "papermill": {
     "duration": 0.152211,
     "end_time": "2025-09-11T12:51:04.523286",
     "exception": false,
     "start_time": "2025-09-11T12:51:04.371075",
     "status": "completed"
    },
    "tags": []
   },
   "source": [
    "## Answer:\n",
    "In MADDPG, the critic looks at all agents observations and actions together. To make it IDDPG, I change the critic so that each agent only uses its own observation and action. This means the critic is no longer centralized and doesn’t need information from the other agents. I also adjust the input setup so it only concatenates the local state and action of the current agent.\n",
    "\n",
    "Another change is in how I compute target actions. In MADDPG, I calculate target actions for all agents, since the centralized critic depends on them. In IDDPG, I only compute the target action for the current agent. With these changes, each agent learns on its own. This makes the method simpler, but agents may not coordinate as well as in MADDPG."
   ]
  },
  {
   "cell_type": "code",
   "execution_count": 11,
   "id": "f603ebc9",
   "metadata": {
    "execution": {
     "iopub.execute_input": "2025-09-11T12:51:04.873695Z",
     "iopub.status.busy": "2025-09-11T12:51:04.872981Z",
     "iopub.status.idle": "2025-09-11T12:51:04.884094Z",
     "shell.execute_reply": "2025-09-11T12:51:04.883493Z"
    },
    "papermill": {
     "duration": 0.212695,
     "end_time": "2025-09-11T12:51:04.885278",
     "exception": false,
     "start_time": "2025-09-11T12:51:04.672583",
     "status": "completed"
    },
    "tags": []
   },
   "outputs": [],
   "source": [
    "# Part 1: Actor definition (same as MADDPG)\n",
    "policy_modules = {}\n",
    "for group, agents in env.group_map.items():\n",
    "    agent_modules = {}\n",
    "    for agent in agents:\n",
    "        observation_dim = env.observation_spec[(agent, \"observation\")].shape[-1]\n",
    "        action_dim = env.full_action_spec[(agent, \"action\")].shape[-1]\n",
    "        agent_modules[agent] = MLP(\n",
    "            in_features=observation_dim,\n",
    "            out_features=action_dim,\n",
    "            num_cells=[256, 256],\n",
    "            activation_class=nn.ReLU,\n",
    "        )\n",
    "\n",
    "    agent_policy_modules = {}\n",
    "    for agent in agents:\n",
    "        agent_policy_modules[agent] = TensorDictModule(\n",
    "            agent_modules[agent],\n",
    "            in_keys=[(agent, \"observation\")],\n",
    "            out_keys=[(agent, \"param\")],\n",
    "        )\n",
    "    policy_modules[group] = TensorDictSequential(*agent_policy_modules.values())"
   ]
  },
  {
   "cell_type": "markdown",
   "id": "ce3ae9a9",
   "metadata": {
    "papermill": {
     "duration": 0.159878,
     "end_time": "2025-09-11T12:51:05.196056",
     "exception": false,
     "start_time": "2025-09-11T12:51:05.036178",
     "status": "completed"
    },
    "tags": []
   },
   "source": [
    "### Probabilistic Policies"
   ]
  },
  {
   "cell_type": "code",
   "execution_count": 12,
   "id": "a77f48ba",
   "metadata": {
    "execution": {
     "iopub.execute_input": "2025-09-11T12:51:05.520352Z",
     "iopub.status.busy": "2025-09-11T12:51:05.520020Z",
     "iopub.status.idle": "2025-09-11T12:51:05.550607Z",
     "shell.execute_reply": "2025-09-11T12:51:05.550006Z"
    },
    "papermill": {
     "duration": 0.191074,
     "end_time": "2025-09-11T12:51:05.551737",
     "exception": false,
     "start_time": "2025-09-11T12:51:05.360663",
     "status": "completed"
    },
    "tags": []
   },
   "outputs": [],
   "source": [
    "policies = {}\n",
    "for group, agents in env.group_map.items():\n",
    "    agent_policies = []\n",
    "    for agent in agents:\n",
    "        agent_policies.append(\n",
    "            ProbabilisticActor(\n",
    "                module=policy_modules[group],\n",
    "                spec=env.full_action_spec[agent, \"action\"],\n",
    "                in_keys=[(agent, \"param\")],\n",
    "                out_keys=[(agent, \"action\")],\n",
    "                distribution_class=TanhDelta,\n",
    "                distribution_kwargs={\n",
    "                    \"low\": env.full_action_spec_unbatched[agent, \"action\"].space.low,\n",
    "                    \"high\": env.full_action_spec_unbatched[agent, \"action\"].space.high,\n",
    "                },\n",
    "                return_log_prob=False,\n",
    "            )\n",
    "        )\n",
    "    policies[group] = TensorDictSequential(*agent_policies)"
   ]
  },
  {
   "cell_type": "markdown",
   "id": "3dc20e81",
   "metadata": {
    "papermill": {
     "duration": 0.150729,
     "end_time": "2025-09-11T12:51:05.866325",
     "exception": false,
     "start_time": "2025-09-11T12:51:05.715596",
     "status": "completed"
    },
    "tags": []
   },
   "source": [
    "## Targets + exploration"
   ]
  },
  {
   "cell_type": "code",
   "execution_count": 13,
   "id": "8e97adbd",
   "metadata": {
    "execution": {
     "iopub.execute_input": "2025-09-11T12:51:06.174462Z",
     "iopub.status.busy": "2025-09-11T12:51:06.174185Z",
     "iopub.status.idle": "2025-09-11T12:51:06.189498Z",
     "shell.execute_reply": "2025-09-11T12:51:06.188835Z"
    },
    "papermill": {
     "duration": 0.172747,
     "end_time": "2025-09-11T12:51:06.190609",
     "exception": false,
     "start_time": "2025-09-11T12:51:06.017862",
     "status": "completed"
    },
    "tags": []
   },
   "outputs": [],
   "source": [
    "target_policies = copy.deepcopy(policies)\n",
    "exploration_policies = {}\n",
    "for group, _agents in env.group_map.items():\n",
    "    first_actor = None\n",
    "    for module in policies[group].modules():\n",
    "        if isinstance(module, ProbabilisticActor):\n",
    "            first_actor = module\n",
    "            break\n",
    "    if first_actor is None:\n",
    "        raise RuntimeError(\"No ProbabilisticActor found\")\n",
    "\n",
    "    exploration_policy = TensorDictSequential(\n",
    "        policies[group],\n",
    "        AdditiveGaussianModule(\n",
    "            spec=first_actor.spec,\n",
    "            annealing_num_steps=total_frames // 3,\n",
    "            action_key=(group, \"action\"),\n",
    "            sigma_init=0.5,\n",
    "            sigma_end=0.05,\n",
    "        ),\n",
    "    )\n",
    "    exploration_policies[group] = exploration_policy\n"
   ]
  },
  {
   "cell_type": "markdown",
   "id": "269ba58c",
   "metadata": {
    "papermill": {
     "duration": 0.156679,
     "end_time": "2025-09-11T12:51:06.575960",
     "exception": false,
     "start_time": "2025-09-11T12:51:06.419281",
     "status": "completed"
    },
    "tags": []
   },
   "source": [
    "Decentralized Critic (IDDPG)"
   ]
  },
  {
   "cell_type": "code",
   "execution_count": 14,
   "id": "d82d550a",
   "metadata": {
    "execution": {
     "iopub.execute_input": "2025-09-11T12:51:06.894919Z",
     "iopub.status.busy": "2025-09-11T12:51:06.894603Z",
     "iopub.status.idle": "2025-09-11T12:51:06.910598Z",
     "shell.execute_reply": "2025-09-11T12:51:06.909919Z"
    },
    "papermill": {
     "duration": 0.17595,
     "end_time": "2025-09-11T12:51:06.911672",
     "exception": false,
     "start_time": "2025-09-11T12:51:06.735722",
     "status": "completed"
    },
    "tags": []
   },
   "outputs": [
    {
     "name": "stdout",
     "output_type": "stream",
     "text": [
      "Model and policy structure ready for review.\n"
     ]
    }
   ],
   "source": [
    "critics = {}\n",
    "for group, agents in env.group_map.items():\n",
    "    agent_critic_modules = {}\n",
    "    for agent in agents:\n",
    "        critic_in_features = (\n",
    "            env.observation_spec[(agent, \"observation\")].shape[-1]\n",
    "            + env.full_action_spec[(agent, \"action\")].shape[-1]\n",
    "        )\n",
    "        agent_critic_modules[agent] = MLP(\n",
    "            in_features=critic_in_features,\n",
    "            out_features=1,\n",
    "            num_cells=[256, 256],\n",
    "            activation_class=nn.ReLU,\n",
    "        )\n",
    "\n",
    "    agent_critic_tdmodules = {}\n",
    "    for agent in agents:\n",
    "        cat_inputs = [(agent, \"observation\"), (agent, \"action\")]\n",
    "\n",
    "        cat_module = TensorDictModule(\n",
    "            module=lambda *xs: torch.cat(xs, dim=-1),\n",
    "            in_keys=cat_inputs,\n",
    "            out_keys=[(agent, \"obs_actions\")],\n",
    "        )\n",
    "\n",
    "        critic_module = TensorDictModule(\n",
    "            agent_critic_modules[agent],\n",
    "            in_keys=[(agent, \"obs_actions\")],\n",
    "            out_keys=[(agent, \"state_action_value\")],\n",
    "        )\n",
    "        agent_critic_tdmodules[agent] = TensorDictSequential(cat_module, critic_module)\n",
    "\n",
    "    critics[group] = TensorDictSequential(*agent_critic_tdmodules.values())\n",
    "\n",
    "print(\"Model and policy structure ready for review.\")\n",
    "\n",
    "# Send to device\n",
    "for group in env.group_map.keys():\n",
    "    policies[group].to(device)\n",
    "    target_policies[group].to(device)\n",
    "    critics[group].to(device)\n",
    "    exploration_policies[group].to(device)\n",
    "    "
   ]
  },
  {
   "cell_type": "markdown",
   "id": "03329863",
   "metadata": {
    "papermill": {
     "duration": 0.150062,
     "end_time": "2025-09-11T12:51:07.217310",
     "exception": false,
     "start_time": "2025-09-11T12:51:07.067248",
     "status": "completed"
    },
    "tags": []
   },
   "source": [
    "## Losses + Replay Buffer"
   ]
  },
  {
   "cell_type": "code",
   "execution_count": 15,
   "id": "6c95c692",
   "metadata": {
    "execution": {
     "iopub.execute_input": "2025-09-11T12:51:07.531073Z",
     "iopub.status.busy": "2025-09-11T12:51:07.530770Z",
     "iopub.status.idle": "2025-09-11T12:51:07.574284Z",
     "shell.execute_reply": "2025-09-11T12:51:07.573511Z"
    },
    "papermill": {
     "duration": 0.204189,
     "end_time": "2025-09-11T12:51:07.575310",
     "exception": false,
     "start_time": "2025-09-11T12:51:07.371121",
     "status": "completed"
    },
    "tags": []
   },
   "outputs": [
    {
     "name": "stdout",
     "output_type": "stream",
     "text": [
      "Losses, optimizers, and replay buffer are ready.\n"
     ]
    }
   ],
   "source": [
    "shared_replay_buffer = ReplayBuffer(\n",
    "    storage=LazyMemmapStorage(memory_size, scratch_dir=tempfile.TemporaryDirectory().name),\n",
    "    sampler=RandomSampler(),\n",
    "    batch_size=train_batch_size,\n",
    ")\n",
    "if device.type != \"cpu\":\n",
    "    shared_replay_buffer.append_transform(lambda x: x.to(device))\n",
    "\n",
    "losses = {}\n",
    "for group, _agents in env.group_map.items():\n",
    "    loss_module = DDPGLoss(\n",
    "        actor_network=policies[group],\n",
    "        value_network=critics[group],\n",
    "        delay_value=True,\n",
    "        delay_actor=True,\n",
    "        loss_function=\"l2\",\n",
    "    )\n",
    "    loss_module.set_keys(\n",
    "        reward=(group, \"reward\"),\n",
    "        done=(group, \"done\"),\n",
    "        terminated=(group, \"terminated\"),\n",
    "        state_action_value=(group, \"state_action_value\"),\n",
    "    )\n",
    "    loss_module.make_value_estimator(ValueEstimators.TD0, gamma=gamma)\n",
    "    losses[group] = loss_module\n",
    "\n",
    "target_updaters = {group: SoftUpdate(loss, tau=polyak_tau) for group, loss in losses.items()}\n",
    "optimisers = {\n",
    "    group: {\n",
    "        \"loss_actor\": torch.optim.Adam(loss.actor_network_params.flatten_keys().values(), lr=1e-4),\n",
    "        \"loss_value\": torch.optim.Adam(loss.value_network_params.flatten_keys().values(), lr=3e-4),\n",
    "    }\n",
    "    for group, loss in losses.items()\n",
    "}\n",
    "print(\"Losses, optimizers, and replay buffer are ready.\")\n"
   ]
  },
  {
   "cell_type": "markdown",
   "id": "88e4dc7e",
   "metadata": {
    "papermill": {
     "duration": 0.208401,
     "end_time": "2025-09-11T12:51:07.941636",
     "exception": false,
     "start_time": "2025-09-11T12:51:07.733235",
     "status": "completed"
    },
    "tags": []
   },
   "source": [
    "### Training loop (IDDPG change here)"
   ]
  },
  {
   "cell_type": "code",
   "execution_count": 16,
   "id": "98a861bd",
   "metadata": {
    "execution": {
     "iopub.execute_input": "2025-09-11T12:51:08.243858Z",
     "iopub.status.busy": "2025-09-11T12:51:08.243562Z",
     "iopub.status.idle": "2025-09-11T13:53:41.999998Z",
     "shell.execute_reply": "2025-09-11T13:53:41.999164Z"
    },
    "papermill": {
     "duration": 3753.910195,
     "end_time": "2025-09-11T13:53:42.001460",
     "exception": false,
     "start_time": "2025-09-11T12:51:08.091265",
     "status": "completed"
    },
    "tags": []
   },
   "outputs": [
    {
     "name": "stderr",
     "output_type": "stream",
     "text": [
      "Iter [1500/1500] | Rewards: agent_0: 1.18 | agent_1: 1.18 | agent_2: 1.18:   0%|          | 0/1500 [1:02:33<?, ?it/s]"
     ]
    },
    {
     "name": "stdout",
     "output_type": "stream",
     "text": [
      "\n",
      "Training finished.\n"
     ]
    },
    {
     "name": "stderr",
     "output_type": "stream",
     "text": [
      "\n"
     ]
    }
   ],
   "source": [
    "collector = SyncDataCollector(\n",
    "    env,\n",
    "    TensorDictSequential(*exploration_policies.values()).to(device),\n",
    "    device=device,\n",
    "    frames_per_batch=frames_per_batch,\n",
    "    total_frames=total_frames,\n",
    ")\n",
    "\n",
    "def process_batch(batch: TensorDictBase) -> TensorDictBase:\n",
    "    for group in env.group_map.keys():\n",
    "        keys = list(batch.keys(True, True))\n",
    "        group_shape = batch.get_item_shape(group)\n",
    "        if (\"next\", group, \"done\") not in keys:\n",
    "            batch.set(\n",
    "                (\"next\", group, \"done\"),\n",
    "                batch.get((\"next\", \"done\")).unsqueeze(-1).expand((*group_shape, 1)),\n",
    "            )\n",
    "        if (\"next\", group, \"terminated\") not in keys:\n",
    "            batch.set(\n",
    "                (\"next\", group, \"terminated\"),\n",
    "                batch.get((\"next\", \"terminated\")).unsqueeze(-1).expand((*group_shape, 1)),\n",
    "            )\n",
    "    return batch\n",
    "\n",
    "episode_reward_mean_map = {group: [] for group in env.group_map.keys()}\n",
    "pbar = tqdm(total=n_iters, desc=\"Training Progress\")\n",
    "\n",
    "for iteration, batch in enumerate(collector):\n",
    "    current_frames = batch.numel()\n",
    "    batch = process_batch(batch)\n",
    "    shared_replay_buffer.extend(batch.reshape(-1))\n",
    "\n",
    "    for group in env.group_map.keys():\n",
    "        for _ in range(n_optimiser_steps):\n",
    "            subdata = shared_replay_buffer.sample()\n",
    "            if device.type != \"cpu\":\n",
    "                subdata = subdata.to(device)\n",
    "\n",
    "            # --- IDDPG difference: only current group ---\n",
    "            with torch.no_grad():\n",
    "                next_td = subdata[\"next\"]\n",
    "                target_out = target_policies[group](next_td)\n",
    "                next_td.update(target_out)\n",
    "\n",
    "            loss_vals = losses[group](subdata)\n",
    "            for loss_name in [\"loss_actor\", \"loss_value\"]:\n",
    "                loss = loss_vals[loss_name]\n",
    "                optimiser = optimisers[group][loss_name]\n",
    "                loss.backward()\n",
    "                params = optimiser.param_groups[0][\"params\"]\n",
    "                torch.nn.utils.clip_grad_norm_(params, max_grad_norm)\n",
    "                optimiser.step()\n",
    "                optimiser.zero_grad()\n",
    "            target_updaters[group].step()\n",
    "        exploration_policies[group][-1].step(current_frames)\n",
    "\n",
    "    for group in env.group_map.keys():\n",
    "        episode_reward_mean = (\n",
    "            batch.get((\"next\", group, \"episode_reward\"))[batch.get((\"next\", group, \"done\"))]\n",
    "            .mean()\n",
    "            .item()\n",
    "        )\n",
    "        episode_reward_mean_map[group].append(episode_reward_mean)\n",
    "\n",
    "    reward_strings = [f\"{group}: {episode_reward_mean_map[group][-1]:.2f}\" for group in env.group_map.keys()]\n",
    "    pbar.set_description(f\"Iter [{iteration+1}/{n_iters}] | Rewards: \" + \" | \".join(reward_strings))\n",
    "    pbar.refresh()\n",
    "\n",
    "pbar.close()\n",
    "collector.shutdown()\n",
    "print(\"\\nTraining finished.\")"
   ]
  },
  {
   "cell_type": "code",
   "execution_count": 17,
   "id": "47d0fb88",
   "metadata": {
    "execution": {
     "iopub.execute_input": "2025-09-11T13:53:42.543738Z",
     "iopub.status.busy": "2025-09-11T13:53:42.543407Z",
     "iopub.status.idle": "2025-09-11T13:53:43.096401Z",
     "shell.execute_reply": "2025-09-11T13:53:43.095690Z"
    },
    "papermill": {
     "duration": 0.82703,
     "end_time": "2025-09-11T13:53:43.098879",
     "exception": false,
     "start_time": "2025-09-11T13:53:42.271849",
     "status": "completed"
    },
    "tags": []
   },
   "outputs": [
    {
     "data": {
      "image/png": "[encoded data removed]",
      "text/plain": [
       "<Figure size 1000x800 with 3 Axes>"
      ]
     },
     "metadata": {},
     "output_type": "display_data"
    }
   ],
   "source": [
    "fig, axs = plt.subplots(n_agents, 1, figsize=(10, 8), sharex=True)\n",
    "if n_agents == 1:\n",
    "    axs = [axs]\n",
    "for i, group in enumerate(env.group_map.keys()):\n",
    "    axs[i].plot(episode_reward_mean_map[group], label=f\"EP mean {group}\")\n",
    "    axs[i].set_ylabel(\"Reward\")\n",
    "    axs[i].legend()\n",
    "axs[-1].set_xlabel(\"Iter\")\n",
    "fig.suptitle(\"IDDPG Training Rewards\")\n",
    "plt.tight_layout(rect=[0, 0.03, 1, 0.95])\n",
    "plt.show()"
   ]
  },
  {
   "cell_type": "markdown",
   "id": "7529afd5",
   "metadata": {},
   "source": [
    "### Analysis\n",
    "In the IDDPG plots, each agent quickly improves at first, reaching good rewards around iteration 200–400. However, after that point their performance declines and becomes unstable, with noisy fluctuations and no clear long-term improvement. This shows that while independent learning works in the short run, the agents eventually interfere with each other, since each treats the changing policies of the others as part of the environment.\n",
    "\n",
    "In contrast, MADDPG typically maintains more stable and higher performance. Because each critic in MADDPG has access to the actions of all agents during training, it can learn in a more stationary setting. This reduces the non-stationarity problem and leads to smoother convergence. In short: IDDPG agents improve fast but then destabilize due to non-stationarity, while MADDPG sustains stable learning and better overall results."
   ]
  }
 ],
 "metadata": {
  "colab": {
   "provenance": []
  },
  "kaggle": {
   "accelerator": "nvidiaTeslaT4",
   "dataSources": [],
   "dockerImageVersionId": 31090,
   "isGpuEnabled": true,
   "isInternetEnabled": true,
   "language": "python",
   "sourceType": "notebook"
  },
  "kernelspec": {
   "display_name": "Python 3",
   "name": "python3"
  },
  "language_info": {
   "codemirror_mode": {
    "name": "ipython",
    "version": 3
   },
   "file_extension": ".py",
   "mimetype": "text/x-python",
   "name": "python",
   "nbconvert_exporter": "python",
   "pygments_lexer": "ipython3",
   "version": "3.11.13"
  },
  "papermill": {
   "default_parameters": {},
   "duration": 7662.247015,
   "end_time": "2025-09-11T13:53:46.208695",
   "environment_variables": {},
   "exception": null,
   "input_path": "__notebook__.ipynb",
   "output_path": "__notebook__.ipynb",
   "parameters": {},
   "start_time": "2025-09-11T11:46:03.961680",
   "version": "2.6.0"
  }
 },
 "nbformat": 4,
 "nbformat_minor": 5
}
