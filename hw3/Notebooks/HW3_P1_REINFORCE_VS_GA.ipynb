{
  "metadata": {
    "kernelspec": {
      "name": "python3",
      "display_name": "Python 3",
      "language": "python"
    },
    "language_info": {
      "codemirror_mode": {
        "name": "ipython",
        "version": 3
      },
      "file_extension": ".py",
      "mimetype": "text/x-python",
      "name": "python",
      "nbconvert_exporter": "python",
      "pygments_lexer": "ipython3",
      "version": "3.10.12"
    },
    "accelerator": "GPU",
    "colab": {
      "gpuType": "T4",
      "provenance": []
    },
    "kaggle": {
      "accelerator": "none",
      "dataSources": [],
      "dockerImageVersionId": 30918,
      "isInternetEnabled": true,
      "language": "python",
      "sourceType": "notebook",
      "isGpuEnabled": false
    }
  },
  "nbformat_minor": 0,
  "nbformat": 4,
  "cells": [
    {
      "cell_type": "markdown",
      "source": [
        "# Run this Notebook\n",
        "\n",
        "[![Open In Colab](https://colab.research.google.com/assets/colab-badge.svg)](https://colab.research.google.com/github/DeepRLCourse/Homework-3-Questions/blob/main/HW3_P1_REINFORCE_VS_GA.ipynb)  \n",
        "[![Open in Kaggle](https://kaggle.com/static/images/open-in-kaggle.svg)](https://kaggle.com/kernels/welcome?src=https://github.com/DeepRLCourse/Homework-3-Questions/blob/main/HW3_P1_REINFORCE_VS_GA.ipynb)\n",
        "\n",
        "# HW3: REINFORCE Vs. GA\n",
        "> - Full Name: **Ayeen Poostforoushan**\n",
        "> - Student ID: **401105742**\n",
        "\n",
        "\n",
        "This notebook implements a Grid World environment where an agent learns to navigate from a start position to a goal while avoiding penalties. It compares two learning approaches:\n",
        "\n",
        "1. REINFORCE Algorithm (Policy Gradient)\n",
        "2. Genetic Algorithm\n",
        "\n",
        "Follow the instructions in each section to complete the homework.\n",
        "\n",
        "**Grading Breakdown:**\n",
        "\n",
        "- Practical Implementation: 60 points\n",
        "- Conceptual Understanding: 40 points"
      ],
      "metadata": {
        "id": "-qm_04eLVkW2"
      }
    },
    {
      "cell_type": "markdown",
      "source": [
        "# Setup"
      ],
      "metadata": {
        "id": "UIV1aBVOVkW3"
      }
    },
    {
      "cell_type": "markdown",
      "source": [
        "All required packages are pre-installed if using Google Colab."
      ],
      "metadata": {
        "id": "R3E7ds6pVkW3"
      }
    },
    {
      "cell_type": "markdown",
      "source": [
        "Import the following libraries."
      ],
      "metadata": {
        "id": "1zIoHwp7VkW3"
      }
    },
    {
      "cell_type": "code",
      "source": [
        "import numpy as np\n",
        "import random\n",
        "import torch\n",
        "import torch.nn as nn\n",
        "import torch.optim as optim\n",
        "import matplotlib.pyplot as plt\n",
        "\n",
        "device = 'cuda' if torch.cuda.is_available() else 'cpu'\n",
        "print(f\"Using device: {device}\")"
      ],
      "metadata": {
        "colab": {
          "base_uri": "https://localhost:8080/"
        },
        "id": "lPTr6YAZVkW3",
        "outputId": "c5dc0281-c983-4c47-df5e-984d94a79d22",
        "trusted": true,
        "execution": {
          "iopub.status.busy": "2025-03-07T06:31:43.278307Z",
          "iopub.execute_input": "2025-03-07T06:31:43.278723Z",
          "iopub.status.idle": "2025-03-07T06:31:43.285938Z",
          "shell.execute_reply.started": "2025-03-07T06:31:43.278684Z",
          "shell.execute_reply": "2025-03-07T06:31:43.284472Z"
        }
      },
      "outputs": [
        {
          "output_type": "stream",
          "name": "stdout",
          "text": [
            "Using device: cuda\n"
          ]
        }
      ],
      "execution_count": 1
    },
    {
      "cell_type": "markdown",
      "source": [
        "# Environment (10 Points)"
      ],
      "metadata": {
        "id": "npDihcn-VkW4"
      }
    },
    {
      "cell_type": "markdown",
      "source": [
        "### GridWorld Class Definition (10 Points)"
      ],
      "metadata": {
        "id": "4VIbPrUNVkW4"
      }
    },
    {
      "cell_type": "code",
      "source": [
        "# Grid World Parameters\n",
        "GRID_SIZE = 7\n",
        "\n",
        "# TODO: Specify the penalty locations on the Grid World. The number of penalty locations must be 8. {(x_1, y_1): penalty_reward, .... , (x_8, y_8): penalty_reward}\n",
        "PENALTIES = {\n",
        "    (0,5): -10,\n",
        "    (1,2): -6,\n",
        "    (1,4): -9,\n",
        "    (2,0): -5,\n",
        "    (6,1): -8,\n",
        "    (4,2): -7,\n",
        "    (2,3): -4,\n",
        "    (3,6): -3\n",
        "}\n",
        "\n",
        "# TODO: Specify the goal location.\n",
        "GOAL = (6, 6)\n",
        "\n",
        "#  TODO: Properly assign values to the following rewards.\n",
        "GOAL_REWARD = 200\n",
        "STEP_PENALTY = -1\n",
        "BOUNDARY_PENALTY = -5\n",
        "\n",
        "ACTIONS = ['up', 'down', 'left', 'right']\n",
        "ACTION_IDX = {a: i for i, a in enumerate(ACTIONS)}"
      ],
      "metadata": {
        "id": "gzZ21DR3VkW4",
        "trusted": true,
        "execution": {
          "iopub.status.busy": "2025-03-07T06:31:43.287397Z",
          "iopub.execute_input": "2025-03-07T06:31:43.287720Z",
          "iopub.status.idle": "2025-03-07T06:31:43.313807Z",
          "shell.execute_reply.started": "2025-03-07T06:31:43.287689Z",
          "shell.execute_reply": "2025-03-07T06:31:43.312653Z"
        }
      },
      "outputs": [],
      "execution_count": 2
    },
    {
      "cell_type": "markdown",
      "source": [
        "### GridWorld Environmnet Definition"
      ],
      "metadata": {
        "id": "PdM2t2xbVkW4"
      }
    },
    {
      "cell_type": "code",
      "source": [
        "class GridWorld:\n",
        "    def step(self, state, action):\n",
        "        x, y = state\n",
        "        new_x, new_y = x, y\n",
        "\n",
        "        if action == 'right':\n",
        "            new_x = min(x + 1, GRID_SIZE - 1)\n",
        "        elif action == 'left':\n",
        "            new_x = max(x - 1, 0)\n",
        "        elif action == 'up':\n",
        "            new_y = min(y + 1, GRID_SIZE - 1)\n",
        "        elif action == 'down':\n",
        "            new_y = max(y - 1, 0)\n",
        "\n",
        "        reward = STEP_PENALTY\n",
        "        if (new_x, new_y) == (x, y):\n",
        "            reward += BOUNDARY_PENALTY\n",
        "        if (new_x, new_y) in PENALTIES:\n",
        "            reward += PENALTIES[(new_x, new_y)]\n",
        "        if (new_x, new_y) == GOAL:\n",
        "            reward += GOAL_REWARD\n",
        "\n",
        "        return (new_x, new_y), reward"
      ],
      "metadata": {
        "id": "jQCWrZErVkW4",
        "trusted": true,
        "execution": {
          "iopub.status.busy": "2025-03-07T06:31:43.315481Z",
          "iopub.execute_input": "2025-03-07T06:31:43.315794Z",
          "iopub.status.idle": "2025-03-07T06:31:43.334816Z",
          "shell.execute_reply.started": "2025-03-07T06:31:43.315760Z",
          "shell.execute_reply": "2025-03-07T06:31:43.333712Z"
        }
      },
      "outputs": [],
      "execution_count": 3
    },
    {
      "cell_type": "markdown",
      "source": [
        "### Initialize the Grid World"
      ],
      "metadata": {
        "id": "nurQzzl_VkW5"
      }
    },
    {
      "cell_type": "code",
      "source": [
        "grid_world = GridWorld()"
      ],
      "metadata": {
        "id": "fU3GAx06VkW5",
        "trusted": true,
        "execution": {
          "iopub.status.busy": "2025-03-07T06:31:43.336080Z",
          "iopub.execute_input": "2025-03-07T06:31:43.336482Z",
          "iopub.status.idle": "2025-03-07T06:31:43.352156Z",
          "shell.execute_reply.started": "2025-03-07T06:31:43.336446Z",
          "shell.execute_reply": "2025-03-07T06:31:43.350972Z"
        }
      },
      "outputs": [],
      "execution_count": 4
    },
    {
      "cell_type": "markdown",
      "source": [
        "### Plot Empty Grid World"
      ],
      "metadata": {
        "id": "Djg0CI67VkW5"
      }
    },
    {
      "cell_type": "code",
      "source": [
        "plt.figure(figsize=(5, 5))\n",
        "plt.scatter(0, 0, c='green', marker='s', label='Start')\n",
        "plt.scatter(GOAL[0], GOAL[1], c='red', marker='X', label='Goal')\n",
        "for i, (px, py) in enumerate(PENALTIES):\n",
        "    if i == 0:\n",
        "        plt.scatter(px, py, c='orange', marker='D', label='Penalty')\n",
        "    else:\n",
        "        plt.scatter(px, py, c='orange', marker='D')\n",
        "plt.xticks(range(GRID_SIZE))\n",
        "plt.yticks(range(GRID_SIZE))\n",
        "plt.title(\"Grid World\")\n",
        "plt.legend()\n",
        "plt.grid(True)\n",
        "plt.show()"
      ],
      "metadata": {
        "colab": {
          "base_uri": "https://localhost:8080/",
          "height": 468
        },
        "id": "TxqhAyerVkW5",
        "outputId": "0347d9fd-c811-4f0d-e84e-0c101ba1c3b0",
        "trusted": true,
        "execution": {
          "iopub.status.busy": "2025-03-07T06:31:43.353385Z",
          "iopub.execute_input": "2025-03-07T06:31:43.353798Z",
          "iopub.status.idle": "2025-03-07T06:31:43.592579Z",
          "shell.execute_reply.started": "2025-03-07T06:31:43.353770Z",
          "shell.execute_reply": "2025-03-07T06:31:43.591457Z"
        }
      },
      "outputs": [
        {
          "output_type": "display_data",
          "data": {
            "text/plain": [
              "<Figure size 500x500 with 1 Axes>"
            ],
            "image/png": "[encoded data removed]"
          },
          "metadata": {}
        }
      ],
      "execution_count": 5
    },
    {
      "cell_type": "markdown",
      "source": [
        "# REINFORCE Algorithm (30 Points)"
      ],
      "metadata": {
        "id": "fLm0Q_NUVkW5"
      }
    },
    {
      "cell_type": "markdown",
      "source": [
        "The REINFORCE algorithm updates policy parameters by using the log-probability of actions multiplied by the discounted return.\n",
        "\n",
        "This algorithm optimizes a **stochastic policy** $( \\pi_{\\theta}(a_t \\mid s_t) )$ by updating its parameters in the direction that increases expected rewards. The update rule is based on the **policy gradient theorem**:  \n",
        "\n",
        "$$[\n",
        "\\theta \\leftarrow \\theta + \\alpha \\sum_{t=0}^{T} \\nabla_{\\theta} \\log \\pi_{\\theta}(a_t \\mid s_t) G_t\n",
        "]$$\n",
        "\n",
        "where:  \n",
        "\n",
        "- $( \\theta )$ are the policy parameters (weights of the neural network).  \n",
        "- $( \\alpha )$ is the learning rate.  \n",
        "- $( G_t )$ is the **discounted return** from timestep $( t )$:  \n",
        "\n",
        "$$[\n",
        "G_t = \\sum_{k=0}^{T-t} \\gamma^k R_{t+k}\n",
        "]$$\n",
        "\n",
        "- $( \\nabla_{\\theta} \\log \\pi_{\\theta}(a_t \\mid s_t) )$ is the gradient of the log-probability of the selected action, used to adjust the policy in the correct direction."
      ],
      "metadata": {
        "id": "gC1g8VL_VkW5"
      }
    },
    {
      "cell_type": "markdown",
      "source": [
        "### Policy Network Definition (10 points)"
      ],
      "metadata": {
        "id": "mpvODJhGVkW5"
      }
    },
    {
      "cell_type": "code",
      "source": [
        "class PolicyNetwork(nn.Module):\n",
        "    def __init__(self, input_dim, output_dim, hidden_dim):\n",
        "        super().__init__()\n",
        "        self.fc1 = nn.Linear(input_dim, hidden_dim)\n",
        "        self.fc2 = nn.Linear(hidden_dim, output_dim)\n",
        "\n",
        "    def forward(self, state):\n",
        "        x = torch.relu(self.fc1(state))\n",
        "        return torch.log_softmax(self.fc2(x), dim=-1)\n"
      ],
      "metadata": {
        "id": "NDniXDH8VkW5",
        "trusted": true,
        "execution": {
          "iopub.status.busy": "2025-03-07T06:31:43.593567Z",
          "iopub.execute_input": "2025-03-07T06:31:43.593854Z",
          "iopub.status.idle": "2025-03-07T06:31:43.599571Z",
          "shell.execute_reply.started": "2025-03-07T06:31:43.593829Z",
          "shell.execute_reply": "2025-03-07T06:31:43.598557Z"
        }
      },
      "outputs": [],
      "execution_count": 6
    },
    {
      "cell_type": "markdown",
      "source": [
        "### REINFORCE Agent Implementation (20 Points)"
      ],
      "metadata": {
        "id": "z3s9oBcxVkW5"
      }
    },
    {
      "cell_type": "code",
      "source": [
        "class ReinforceAgent:\n",
        "    def __init__(self, lr=0.005, gamma=0.99):\n",
        "\n",
        "        self.input_dim = 2\n",
        "        self.output_dim = len(ACTIONS)\n",
        "        self.hidden_dim = 128\n",
        "        self.policy_net = PolicyNetwork(self.input_dim, self.output_dim, self.hidden_dim)\n",
        "        self.optimizer = optim.Adam(self.policy_net.parameters(), lr=lr)\n",
        "        self.gamma = gamma\n",
        "\n",
        "    def train(self, episodes=6000, epsilon=1.0, epsilon_decay=0.9995, min_epsilon=0.01):\n",
        "        for episode in range(episodes):\n",
        "            state = (0, 0)\n",
        "            trajectory, rewards = [], []\n",
        "\n",
        "            while state != GOAL:\n",
        "                state_tensor = torch.tensor(state, dtype=torch.float32)\n",
        "                log_action_probs = self.policy_net(state_tensor).detach().numpy()\n",
        "                action_probs = np.exp(log_action_probs)\n",
        "\n",
        "                random_value = random.random()\n",
        "\n",
        "                # Using an epsilon-greedy strategy to balance exploration & exploitation:\n",
        "                if random_value < epsilon:\n",
        "                    # TODO: Choose a random action (exploration) -> random choice from ACTIONS.\n",
        "                    action = np.random.choice(ACTIONS)\n",
        "                else:\n",
        "                    # TODO: Choose the action with the highest probability (exploitation).\n",
        "                    best_action_index = np.argmax(action_probs)\n",
        "                    action = ACTIONS[best_action_index]\n",
        "\n",
        "                # TODO: Take a step in the Grid World based on the chosen action.\n",
        "                new_state, reward = grid_world.step(state, action)\n",
        "\n",
        "                # TODO: Store the current state, action taken, and received reward in the trajectory.\n",
        "                trajectory.append((state, action, reward))\n",
        "\n",
        "                # TODO: Record the reward to calculate returns later.\n",
        "                rewards.append(reward)\n",
        "\n",
        "                # TODO: Update the state to the new position for the next step.\n",
        "                state = new_state\n",
        "\n",
        "            returns, G = [], 0\n",
        "            for r in reversed(rewards):\n",
        "                G = r + self.gamma * G\n",
        "                returns.insert(0, G)\n",
        "\n",
        "            returns = torch.tensor(returns, dtype=torch.float32)\n",
        "            baseline = returns.mean()\n",
        "            returns -= baseline\n",
        "\n",
        "            loss = 0\n",
        "            for (state, action, _), G in zip(trajectory, returns):\n",
        "                state_tensor = torch.tensor(state, dtype=torch.float32)\n",
        "                log_action_probs = self.policy_net(state_tensor)\n",
        "                loss -= log_action_probs[ACTION_IDX[action]] * G\n",
        "\n",
        "            self.optimizer.zero_grad()\n",
        "            loss.backward()\n",
        "            self.optimizer.step()\n",
        "            epsilon = max(min_epsilon, epsilon * epsilon_decay)\n",
        "\n",
        "            if episode % 50 == 0:\n",
        "                print(f\"Episode {episode}: Total Reward = {sum(rewards)}, Epsilon = {epsilon:.4f}\")\n",
        "\n",
        "    def get_optimal_trajectory(self):\n",
        "        state = (0, 0)\n",
        "        trajectory = [state]\n",
        "        rewards = 0\n",
        "        while state != GOAL:\n",
        "            state_tensor = torch.tensor(state, dtype=torch.float32)\n",
        "            log_action_probs = self.policy_net(state_tensor).detach().numpy()\n",
        "            action_probs = np.exp(log_action_probs)\n",
        "            action = np.random.choice(ACTIONS, p=action_probs / action_probs.sum())\n",
        "            state, reward = grid_world.step(state, action)\n",
        "            rewards += reward\n",
        "            trajectory.append(state)\n",
        "        return trajectory, rewards"
      ],
      "metadata": {
        "id": "SFgBI88IVkW6",
        "trusted": true,
        "execution": {
          "iopub.status.busy": "2025-03-07T06:31:43.600964Z",
          "iopub.execute_input": "2025-03-07T06:31:43.601357Z",
          "iopub.status.idle": "2025-03-07T06:31:43.622297Z",
          "shell.execute_reply.started": "2025-03-07T06:31:43.601328Z",
          "shell.execute_reply": "2025-03-07T06:31:43.621070Z"
        }
      },
      "outputs": [],
      "execution_count": 7
    },
    {
      "cell_type": "markdown",
      "source": [
        "# Genetic Algorithm"
      ],
      "metadata": {
        "id": "Kq55_sVbVkW6"
      }
    },
    {
      "cell_type": "markdown",
      "source": [
        "\n",
        "Genetic Algorithms (GAs) are optimization algorithms inspired by **natural selection**. They evolve a population of candidate solutions over multiple generations to find an optimal or near-optimal solution.\n",
        "\n",
        "#### **1. Population ($P$)**\n",
        "A **population** consists of multiple candidate solutions (individuals). Each individual represents a **policy or solution** encoded as a chromosome.\n",
        "\n",
        "$$[\n",
        "P_t = \\{ X_1^t, X_2^t, ..., X_N^t \\}\n",
        "]$$\n",
        "\n",
        "where:\n",
        "- $( P_t )$ is the population at generation $( t )$,\n",
        "- $( X_i^t )$ is the $( i )$-th individual in the population,\n",
        "- $( N )$ is the population size.\n",
        "\n",
        "#### **2. Fitness Function ($F$)**\n",
        "Each individual is evaluated using a **fitness function**, which measures how good a solution is.\n",
        "\n",
        "$$[\n",
        "F(X_i) = \\text{reward or performance score of } X_i\n",
        "]$$\n",
        "\n",
        "#### **3. Selection**\n",
        "The best individuals are selected based on their fitness scores to produce the next generation. Common methods include:\n",
        "- **Roulette Wheel Selection** (Probability proportional to fitness)\n",
        "- **Tournament Selection** (Select the best out of a subset)\n",
        "\n",
        "#### **4. Crossover (Recombination)**\n",
        "Two parents **combine genetic information** to create offspring. A common method is **single-point crossover**, where a random crossover point is chosen.\n",
        "\n",
        "$$\n",
        "\\begin{aligned}\n",
        "\\text{Parent 1} &= (A_1, A_2, | A_3, A_4, A_5) \\\\\n",
        "\\text{Parent 2} &= (B_1, B_2, | B_3, B_4, B_5) \\\\\n",
        "\\text{Offspring 1} &= (A_1, A_2, | B_3, B_4, B_5) \\\\\n",
        "\\text{Offspring 2} &= (B_1, B_2, | A_3, A_4, A_5)\n",
        "\\end{aligned}\n",
        "$$\n",
        "\n",
        "#### **5. Mutation**\n",
        "Mutation introduces small **random changes** in individuals to maintain diversity and avoid local optima. If $( X_i )$ is an individual, a mutation function $( M )$ alters some genes:\n",
        "\n",
        "$$[\n",
        "X_i' = M(X_i)\n",
        "]$$\n",
        "\n",
        "For example, if an individual’s policy is `['up', 'right', 'down']`, mutation might randomly change `right` to `left`.\n",
        "\n",
        "#### **6. Generations & Evolution**\n",
        "The new population is formed after selection, crossover, and mutation. The process repeats for **multiple generations** until a stopping criterion is met (e.g., max generations or convergence).\n",
        "\n",
        "$$[\n",
        "P_{t+1} = \\text{next\\_generation}(P_t)\n",
        "]$$\n",
        "\n"
      ],
      "metadata": {
        "id": "3_TK-j01VkW6"
      }
    },
    {
      "cell_type": "markdown",
      "source": [
        "### Genetic Algorithm Implementation"
      ],
      "metadata": {
        "id": "BhuDXH6gVkW6"
      }
    },
    {
      "cell_type": "code",
      "source": [
        "class GeneticAlgorithm:\n",
        "    def __init__(self, population_size, mutation_rate, crossover_rate, policy_network, generations=100, device='cpu'):\n",
        "        self.device = device\n",
        "        self.population_size = population_size\n",
        "        self.mutation_rate = mutation_rate\n",
        "        self.crossover_rate = crossover_rate\n",
        "        self.generations = generations\n",
        "        self.policy_network = policy_network.to(self.device)  # Move the model to GPU\n",
        "        self.population = [self._initialize_individual() for _ in range(population_size)]\n",
        "\n",
        "    def _initialize_individual(self):\n",
        "        # Initialize an individual by setting random weights for the policy network\n",
        "        individual = {}\n",
        "        for name, param in self.policy_network.named_parameters():\n",
        "            individual[name] = torch.randn_like(param).to(self.device)  # Move individual weights to GPU\n",
        "        return individual\n",
        "\n",
        "    def _evaluate_individual(self, individual):\n",
        "        # Simulate the evaluation (for example, run a few episodes in GridWorld environment)\n",
        "        self._apply_individual_weights(individual)\n",
        "        state = (0, 0)\n",
        "        STOP = 0\n",
        "        trajectory, rewards = [], []\n",
        "        while state != GOAL and STOP <= 150:\n",
        "            state_tensor = torch.tensor(state, dtype=torch.float32).to(self.device)  # Move state to GPU\n",
        "            log_action_probs = self.policy_network(state_tensor)\n",
        "            action_probs = torch.exp(log_action_probs)\n",
        "            action_idx = torch.argmax(action_probs).item()  # Get action with highest probability\n",
        "            action = ACTIONS[action_idx]  # Map action index back to action\n",
        "            new_state, reward = grid_world.step(state, action)\n",
        "            trajectory.append((state, action, reward))\n",
        "            rewards.append(reward)\n",
        "            state = new_state\n",
        "            STOP += 1\n",
        "        return sum(rewards)\n",
        "\n",
        "    def _apply_individual_weights(self, individual):\n",
        "        # Apply the weights of an individual to the policy network\n",
        "        for name, param in individual.items():\n",
        "            self.policy_network.state_dict()[name].copy_(param)\n",
        "\n",
        "    def _select_parents(self):\n",
        "        # Select two individuals based on fitness (higher reward is better)\n",
        "        scores = [(ind, self._evaluate_individual(ind)) for ind in self.population]\n",
        "        sorted_scores = sorted(scores, key=lambda x: x[1], reverse=True)\n",
        "        parent1 = sorted_scores[0][0]\n",
        "        parent2 = sorted_scores[1][0]\n",
        "        return parent1, parent2\n",
        "\n",
        "    def _crossover(self, parent1, parent2):\n",
        "        # Perform crossover to combine the genetic material of two parents\n",
        "        child = {}\n",
        "        for name in parent1.keys():\n",
        "            if random.random() < self.crossover_rate:\n",
        "                child[name] = parent1[name]\n",
        "            else:\n",
        "                child[name] = parent2[name]\n",
        "        return child\n",
        "\n",
        "    def _mutate(self, individual):\n",
        "        # Perform mutation (randomly modify the weights)\n",
        "        for name, param in individual.items():\n",
        "            if random.random() < self.mutation_rate:\n",
        "                individual[name] = torch.randn_like(param).to(self.device)  # Ensure mutated weight is on GPU\n",
        "        return individual\n",
        "\n",
        "    def run(self):\n",
        "        for generation in range(self.generations):\n",
        "            new_population = []\n",
        "            for _ in range(self.population_size // 2):\n",
        "                parent1, parent2 = self._select_parents()\n",
        "                child1 = self._crossover(parent1, parent2)\n",
        "                child2 = self._crossover(parent2, parent1)\n",
        "                new_population.append(self._mutate(child1))\n",
        "                new_population.append(self._mutate(child2))\n",
        "            self.population = new_population\n",
        "            print(f\"Generation {generation + 1} completed\")\n",
        "\n",
        "    def get_optimal_trajectory(self):\n",
        "        state = (0, 0)\n",
        "        trajectory = [state]\n",
        "        rewards = 0\n",
        "        STOP = 0\n",
        "        while state != GOAL and STOP <= 150:\n",
        "            state_tensor = torch.tensor(state, dtype=torch.float32).to(self.device)  # Move state to GPU\n",
        "            log_action_probs = self.policy_network(state_tensor)\n",
        "            action_probs = torch.exp(log_action_probs)\n",
        "            action_idx = torch.argmax(action_probs).item()  # Get action with highest probability\n",
        "            action = ACTIONS[action_idx]  # Map action index back to action\n",
        "            state, reward = grid_world.step(state, action)\n",
        "            rewards += reward\n",
        "            trajectory.append(state)\n",
        "            STOP += 1\n",
        "        return trajectory, rewards"
      ],
      "metadata": {
        "id": "dTb0hWMKVkW6",
        "trusted": true,
        "execution": {
          "iopub.status.busy": "2025-03-07T06:31:43.623620Z",
          "iopub.execute_input": "2025-03-07T06:31:43.623928Z",
          "iopub.status.idle": "2025-03-07T06:31:43.649291Z",
          "shell.execute_reply.started": "2025-03-07T06:31:43.623901Z",
          "shell.execute_reply": "2025-03-07T06:31:43.648138Z"
        }
      },
      "outputs": [],
      "execution_count": 8
    },
    {
      "cell_type": "markdown",
      "source": [
        "# Running & Comparing Agents (20 Points)"
      ],
      "metadata": {
        "id": "y2_rrmBCVkW6"
      }
    },
    {
      "cell_type": "code",
      "source": [
        "# Train REINFORCE agent\n",
        "\n",
        "LEARNING_RATE = 0.008\n",
        "GAMMA = 0.99\n",
        "\n",
        "reinforce_agent = ReinforceAgent(lr = LEARNING_RATE, gamma = GAMMA)\n",
        "reinforce_agent.train(episodes=6000, epsilon=1.0, epsilon_decay=0.999, min_epsilon=0.1)"
      ],
      "metadata": {
        "colab": {
          "base_uri": "https://localhost:8080/"
        },
        "id": "ISBNYDieVkW6",
        "outputId": "fbfe6e9e-a592-4c29-c4e4-222325f108bc",
        "trusted": true,
        "execution": {
          "iopub.status.busy": "2025-03-07T06:31:46.068799Z",
          "iopub.execute_input": "2025-03-07T06:31:46.069167Z",
          "iopub.status.idle": "2025-03-07T06:36:43.461767Z",
          "shell.execute_reply.started": "2025-03-07T06:31:46.069138Z",
          "shell.execute_reply": "2025-03-07T06:36:43.460586Z"
        }
      },
      "outputs": [
        {
          "output_type": "stream",
          "name": "stdout",
          "text": [
            "Episode 0: Total Reward = -916, Epsilon = 0.9990\n",
            "Episode 50: Total Reward = 40, Epsilon = 0.9503\n",
            "Episode 100: Total Reward = 124, Epsilon = 0.9039\n",
            "Episode 150: Total Reward = -126, Epsilon = 0.8598\n",
            "Episode 200: Total Reward = -86, Epsilon = 0.8178\n",
            "Episode 250: Total Reward = 39, Epsilon = 0.7779\n",
            "Episode 300: Total Reward = -65, Epsilon = 0.7400\n",
            "Episode 350: Total Reward = 62, Epsilon = 0.7039\n",
            "Episode 400: Total Reward = -205, Epsilon = 0.6695\n",
            "Episode 450: Total Reward = -249, Epsilon = 0.6368\n",
            "Episode 500: Total Reward = -3198, Epsilon = 0.6058\n",
            "Episode 550: Total Reward = -351, Epsilon = 0.5762\n",
            "Episode 600: Total Reward = -185, Epsilon = 0.5481\n",
            "Episode 650: Total Reward = 153, Epsilon = 0.5214\n",
            "Episode 700: Total Reward = 29, Epsilon = 0.4959\n",
            "Episode 750: Total Reward = 118, Epsilon = 0.4717\n",
            "Episode 800: Total Reward = 10, Epsilon = 0.4487\n",
            "Episode 850: Total Reward = -301, Epsilon = 0.4268\n",
            "Episode 900: Total Reward = -96, Epsilon = 0.4060\n",
            "Episode 950: Total Reward = 150, Epsilon = 0.3862\n",
            "Episode 1000: Total Reward = 97, Epsilon = 0.3673\n",
            "Episode 1050: Total Reward = -385, Epsilon = 0.3494\n",
            "Episode 1100: Total Reward = -225, Epsilon = 0.3324\n",
            "Episode 1150: Total Reward = -145, Epsilon = 0.3161\n",
            "Episode 1200: Total Reward = -327, Epsilon = 0.3007\n",
            "Episode 1250: Total Reward = -368, Epsilon = 0.2860\n",
            "Episode 1300: Total Reward = 102, Epsilon = 0.2721\n",
            "Episode 1350: Total Reward = 73, Epsilon = 0.2588\n",
            "Episode 1400: Total Reward = -156, Epsilon = 0.2462\n",
            "Episode 1450: Total Reward = 0, Epsilon = 0.2342\n",
            "Episode 1500: Total Reward = -176, Epsilon = 0.2227\n",
            "Episode 1550: Total Reward = 157, Epsilon = 0.2119\n",
            "Episode 1600: Total Reward = -6, Epsilon = 0.2015\n",
            "Episode 1650: Total Reward = -408, Epsilon = 0.1917\n",
            "Episode 1700: Total Reward = 73, Epsilon = 0.1823\n",
            "Episode 1750: Total Reward = 107, Epsilon = 0.1734\n",
            "Episode 1800: Total Reward = 175, Epsilon = 0.1650\n",
            "Episode 1850: Total Reward = 169, Epsilon = 0.1569\n",
            "Episode 1900: Total Reward = 167, Epsilon = 0.1493\n",
            "Episode 1950: Total Reward = 175, Epsilon = 0.1420\n",
            "Episode 2000: Total Reward = 116, Epsilon = 0.1351\n",
            "Episode 2050: Total Reward = 178, Epsilon = 0.1285\n",
            "Episode 2100: Total Reward = 170, Epsilon = 0.1222\n",
            "Episode 2150: Total Reward = 173, Epsilon = 0.1162\n",
            "Episode 2200: Total Reward = 176, Epsilon = 0.1106\n",
            "Episode 2250: Total Reward = 167, Epsilon = 0.1052\n",
            "Episode 2300: Total Reward = 166, Epsilon = 0.1000\n",
            "Episode 2350: Total Reward = 164, Epsilon = 0.1000\n",
            "Episode 2400: Total Reward = 170, Epsilon = 0.1000\n",
            "Episode 2450: Total Reward = 175, Epsilon = 0.1000\n",
            "Episode 2500: Total Reward = 175, Epsilon = 0.1000\n",
            "Episode 2550: Total Reward = 161, Epsilon = 0.1000\n",
            "Episode 2600: Total Reward = 172, Epsilon = 0.1000\n",
            "Episode 2650: Total Reward = 166, Epsilon = 0.1000\n",
            "Episode 2700: Total Reward = 178, Epsilon = 0.1000\n",
            "Episode 2750: Total Reward = 170, Epsilon = 0.1000\n",
            "Episode 2800: Total Reward = 178, Epsilon = 0.1000\n",
            "Episode 2850: Total Reward = 175, Epsilon = 0.1000\n",
            "Episode 2900: Total Reward = 169, Epsilon = 0.1000\n",
            "Episode 2950: Total Reward = 165, Epsilon = 0.1000\n",
            "Episode 3000: Total Reward = 168, Epsilon = 0.1000\n",
            "Episode 3050: Total Reward = 173, Epsilon = 0.1000\n",
            "Episode 3100: Total Reward = 107, Epsilon = 0.1000\n",
            "Episode 3150: Total Reward = 176, Epsilon = 0.1000\n",
            "Episode 3200: Total Reward = 173, Epsilon = 0.1000\n",
            "Episode 3250: Total Reward = 175, Epsilon = 0.1000\n",
            "Episode 3300: Total Reward = 175, Epsilon = 0.1000\n",
            "Episode 3350: Total Reward = 178, Epsilon = 0.1000\n",
            "Episode 3400: Total Reward = 175, Epsilon = 0.1000\n",
            "Episode 3450: Total Reward = 161, Epsilon = 0.1000\n",
            "Episode 3500: Total Reward = 169, Epsilon = 0.1000\n",
            "Episode 3550: Total Reward = 169, Epsilon = 0.1000\n",
            "Episode 3600: Total Reward = -201, Epsilon = 0.1000\n",
            "Episode 3650: Total Reward = 173, Epsilon = 0.1000\n",
            "Episode 3700: Total Reward = 175, Epsilon = 0.1000\n",
            "Episode 3750: Total Reward = 164, Epsilon = 0.1000\n",
            "Episode 3800: Total Reward = 175, Epsilon = 0.1000\n",
            "Episode 3850: Total Reward = 169, Epsilon = 0.1000\n",
            "Episode 3900: Total Reward = 161, Epsilon = 0.1000\n",
            "Episode 3950: Total Reward = 169, Epsilon = 0.1000\n",
            "Episode 4000: Total Reward = 175, Epsilon = 0.1000\n",
            "Episode 4050: Total Reward = 175, Epsilon = 0.1000\n",
            "Episode 4100: Total Reward = 167, Epsilon = 0.1000\n",
            "Episode 4150: Total Reward = 175, Epsilon = 0.1000\n",
            "Episode 4200: Total Reward = -3529, Epsilon = 0.1000\n",
            "Episode 4250: Total Reward = 167, Epsilon = 0.1000\n",
            "Episode 4300: Total Reward = 175, Epsilon = 0.1000\n",
            "Episode 4350: Total Reward = 143, Epsilon = 0.1000\n",
            "Episode 4400: Total Reward = -2061, Epsilon = 0.1000\n",
            "Episode 4450: Total Reward = -318, Epsilon = 0.1000\n",
            "Episode 4500: Total Reward = 175, Epsilon = 0.1000\n",
            "Episode 4550: Total Reward = -608, Epsilon = 0.1000\n",
            "Episode 4600: Total Reward = 175, Epsilon = 0.1000\n",
            "Episode 4650: Total Reward = -713, Epsilon = 0.1000\n",
            "Episode 4700: Total Reward = 163, Epsilon = 0.1000\n",
            "Episode 4750: Total Reward = 175, Epsilon = 0.1000\n",
            "Episode 4800: Total Reward = 171, Epsilon = 0.1000\n",
            "Episode 4850: Total Reward = 136, Epsilon = 0.1000\n",
            "Episode 4900: Total Reward = 169, Epsilon = 0.1000\n",
            "Episode 4950: Total Reward = 178, Epsilon = 0.1000\n",
            "Episode 5000: Total Reward = 173, Epsilon = 0.1000\n",
            "Episode 5050: Total Reward = 173, Epsilon = 0.1000\n",
            "Episode 5100: Total Reward = 157, Epsilon = 0.1000\n",
            "Episode 5150: Total Reward = 175, Epsilon = 0.1000\n",
            "Episode 5200: Total Reward = 172, Epsilon = 0.1000\n",
            "Episode 5250: Total Reward = 173, Epsilon = 0.1000\n",
            "Episode 5300: Total Reward = 172, Epsilon = 0.1000\n",
            "Episode 5350: Total Reward = 175, Epsilon = 0.1000\n",
            "Episode 5400: Total Reward = 173, Epsilon = 0.1000\n",
            "Episode 5450: Total Reward = 169, Epsilon = 0.1000\n",
            "Episode 5500: Total Reward = 169, Epsilon = 0.1000\n",
            "Episode 5550: Total Reward = 175, Epsilon = 0.1000\n",
            "Episode 5600: Total Reward = 159, Epsilon = 0.1000\n",
            "Episode 5650: Total Reward = 175, Epsilon = 0.1000\n",
            "Episode 5700: Total Reward = 175, Epsilon = 0.1000\n",
            "Episode 5750: Total Reward = 155, Epsilon = 0.1000\n",
            "Episode 5800: Total Reward = 169, Epsilon = 0.1000\n",
            "Episode 5850: Total Reward = 169, Epsilon = 0.1000\n",
            "Episode 5900: Total Reward = 178, Epsilon = 0.1000\n",
            "Episode 5950: Total Reward = 167, Epsilon = 0.1000\n"
          ]
        }
      ],
      "execution_count": 9
    },
    {
      "cell_type": "code",
      "source": [
        "# Train Genetic Algorithm agent\n",
        "\n",
        "POPULATION_SIZE = 15\n",
        "GENERATIONS = 50\n",
        "MUTATION_RATE = 0.1\n",
        "CROSSOVER_RATE = 0.7\n",
        "\n",
        "policy_network = PolicyNetwork(2, len(ACTIONS), 128)\n",
        "genetic_agent = GeneticAlgorithm(generations=GENERATIONS, population_size=POPULATION_SIZE, mutation_rate=MUTATION_RATE, crossover_rate=CROSSOVER_RATE, policy_network=policy_network, device=device)\n",
        "optimal_genetic_policy = genetic_agent.run()"
      ],
      "metadata": {
        "colab": {
          "base_uri": "https://localhost:8080/"
        },
        "id": "_u-6R1O0VkW7",
        "outputId": "ef883596-46df-402e-ef3c-a37565abc8a7",
        "trusted": true,
        "execution": {
          "iopub.status.busy": "2025-03-07T06:38:11.026655Z",
          "iopub.execute_input": "2025-03-07T06:38:11.027065Z",
          "iopub.status.idle": "2025-03-07T06:38:55.246949Z",
          "shell.execute_reply.started": "2025-03-07T06:38:11.027031Z",
          "shell.execute_reply": "2025-03-07T06:38:55.245671Z"
        }
      },
      "outputs": [
        {
          "output_type": "stream",
          "name": "stdout",
          "text": [
            "Generation 1 completed\n",
            "Generation 2 completed\n",
            "Generation 3 completed\n",
            "Generation 4 completed\n",
            "Generation 5 completed\n",
            "Generation 6 completed\n",
            "Generation 7 completed\n",
            "Generation 8 completed\n",
            "Generation 9 completed\n",
            "Generation 10 completed\n",
            "Generation 11 completed\n",
            "Generation 12 completed\n",
            "Generation 13 completed\n",
            "Generation 14 completed\n",
            "Generation 15 completed\n",
            "Generation 16 completed\n",
            "Generation 17 completed\n",
            "Generation 18 completed\n",
            "Generation 19 completed\n",
            "Generation 20 completed\n",
            "Generation 21 completed\n",
            "Generation 22 completed\n",
            "Generation 23 completed\n",
            "Generation 24 completed\n",
            "Generation 25 completed\n",
            "Generation 26 completed\n",
            "Generation 27 completed\n",
            "Generation 28 completed\n",
            "Generation 29 completed\n",
            "Generation 30 completed\n",
            "Generation 31 completed\n",
            "Generation 32 completed\n",
            "Generation 33 completed\n",
            "Generation 34 completed\n",
            "Generation 35 completed\n",
            "Generation 36 completed\n",
            "Generation 37 completed\n",
            "Generation 38 completed\n",
            "Generation 39 completed\n",
            "Generation 40 completed\n",
            "Generation 41 completed\n",
            "Generation 42 completed\n",
            "Generation 43 completed\n",
            "Generation 44 completed\n",
            "Generation 45 completed\n",
            "Generation 46 completed\n",
            "Generation 47 completed\n",
            "Generation 48 completed\n",
            "Generation 49 completed\n",
            "Generation 50 completed\n"
          ]
        }
      ],
      "execution_count": 10
    },
    {
      "cell_type": "markdown",
      "source": [
        "# Visualizing Results (40 Points)"
      ],
      "metadata": {
        "id": "SLk5xtH9VkW7"
      }
    },
    {
      "cell_type": "markdown",
      "source": [
        "Plots the agent’s trajectory in the Grid World."
      ],
      "metadata": {
        "id": "Es2e9ubnVkW7"
      }
    },
    {
      "cell_type": "code",
      "source": [
        "def visualize_trajectory(trajectory, title):\n",
        "    plt.figure(figsize=(5, 5))\n",
        "    x_vals, y_vals = zip(*trajectory)\n",
        "    plt.plot(x_vals, y_vals, marker='o', color='blue', linestyle='-', alpha=0.7)\n",
        "    plt.scatter(0, 0, c='green', marker='s', label='Start')\n",
        "    plt.scatter(GOAL[0], GOAL[1], c='red', marker='X', label='Goal')\n",
        "    for i, (px, py) in enumerate(PENALTIES):\n",
        "        if i == 0:\n",
        "            plt.scatter(px, py, c='orange', marker='D', label='Penalty')\n",
        "        else:\n",
        "            plt.scatter(px, py, c='orange', marker='D')\n",
        "    plt.xticks(range(GRID_SIZE))\n",
        "    plt.yticks(range(GRID_SIZE))\n",
        "    plt.title(title)\n",
        "    plt.legend()\n",
        "    plt.grid(True)\n",
        "    plt.show()"
      ],
      "metadata": {
        "id": "IEbA7yzOVkW7",
        "trusted": true,
        "execution": {
          "iopub.status.busy": "2025-03-07T06:39:48.308698Z",
          "iopub.execute_input": "2025-03-07T06:39:48.309343Z",
          "iopub.status.idle": "2025-03-07T06:39:48.321030Z",
          "shell.execute_reply.started": "2025-03-07T06:39:48.309301Z",
          "shell.execute_reply": "2025-03-07T06:39:48.319605Z"
        }
      },
      "outputs": [],
      "execution_count": 11
    },
    {
      "cell_type": "markdown",
      "source": [
        "### Results"
      ],
      "metadata": {
        "id": "g45-MsSlVkW7"
      }
    },
    {
      "cell_type": "code",
      "source": [
        "# Results\n",
        "\n",
        "optimal_reinforce_trajectory, final_reward_reinforce = reinforce_agent.get_optimal_trajectory()\n",
        "print(f\"Final Reward (REINFORCE): {final_reward_reinforce}\\n\")\n",
        "visualize_trajectory(optimal_reinforce_trajectory, \"REINFORCE Optimal Policy\")\n",
        "\n",
        "print(\"\\n--------------------------------------------------------------------------------------\\n\")\n",
        "\n",
        "optimal_genetic_trajectory, final_reward_genetic = genetic_agent.get_optimal_trajectory()\n",
        "print(f\"Final Reward (Genetic Algorithm): {final_reward_genetic}\\n\")\n",
        "visualize_trajectory(optimal_genetic_trajectory, \"Genetic Algorithm Optimal Policy\")"
      ],
      "metadata": {
        "colab": {
          "base_uri": "https://localhost:8080/",
          "height": 1000
        },
        "id": "s7q8Cm2AVkW7",
        "outputId": "bdc3da12-d2a8-4974-98f4-94590798cbea",
        "trusted": true,
        "execution": {
          "iopub.status.busy": "2025-03-07T06:40:12.758746Z",
          "iopub.execute_input": "2025-03-07T06:40:12.759083Z",
          "iopub.status.idle": "2025-03-07T06:40:13.227218Z",
          "shell.execute_reply.started": "2025-03-07T06:40:12.759055Z",
          "shell.execute_reply": "2025-03-07T06:40:13.226292Z"
        }
      },
      "outputs": [
        {
          "output_type": "stream",
          "name": "stdout",
          "text": [
            "Final Reward (REINFORCE): 178\n",
            "\n"
          ]
        },
        {
          "output_type": "display_data",
          "data": {
            "text/plain": [
              "<Figure size 500x500 with 1 Axes>"
            ],
            "image/png": "[encoded data removed]"
          },
          "metadata": {}
        },
        {
          "output_type": "stream",
          "name": "stdout",
          "text": [
            "\n",
            "--------------------------------------------------------------------------------------\n",
            "\n",
            "Final Reward (Genetic Algorithm): 188\n",
            "\n"
          ]
        },
        {
          "output_type": "display_data",
          "data": {
            "text/plain": [
              "<Figure size 500x500 with 1 Axes>"
            ],
            "image/png": "[encoded data removed]"
          },
          "metadata": {}
        }
      ],
      "execution_count": 13
    },
    {
      "cell_type": "markdown",
      "source": [
        "$\\bullet$ Based on the implementation and results from comparing policy search using Genetic Algorithm (GA) and the REINFORCE algorithm:\n",
        "\n",
        "**Question 1:** (10 points)\n",
        "\n",
        "How do these two methods differ in terms of their effectiveness for solving reinforcement learning tasks?\n",
        "\n",
        "**Question 2:** (15 points)\n",
        "\n",
        "Discuss the key differences in their **performance**, **convergence rates**, and **stability**.\n",
        "\n",
        "**Question 3:** (15 points)\n",
        "\n",
        "Additionally, explore how each method handles exploration and exploitation, and suggest situations where one might be preferred over the other.\n",
        "\n",
        "<br/>\n",
        "............\n",
        "<br/>\n",
        "............\n",
        "<br/>\n",
        "............"
      ],
      "metadata": {
        "id": "qT86bSuuVkW7"
      }
    }
  ]
}